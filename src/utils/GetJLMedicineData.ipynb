{
 "cells": [
  {
   "cell_type": "code",
   "execution_count": 48,
   "metadata": {},
   "outputs": [],
   "source": [
    "import json_lines\n",
    "import json\n",
    "\n",
    "with open('/Users/sharadsharma/Documents/KG/Project/MedicineLinkageTest.json', 'r') as myfile:\n",
    "    data = myfile.read()\n",
    "obj_main = json.loads(data)\n",
    "\n",
    "dic_url={}\n",
    "for x in obj_main:\n",
    "    if x['wiki_url'] not in obj_main:\n",
    "        dic_url[x['wiki_url']]=x['webmd_url']\n",
    "        \n",
    "output=open('/Users/sharadsharma/Documents/KG/Project/MedicineLinkageDATA.jl', 'w')\n",
    "\n",
    "for k,v in dic_url.items():\n",
    "    wiki=k\n",
    "    webmd=v\n",
    "    new_med_dic={}\n",
    "    with json_lines.open('/Users/sharadsharma/Documents/KG/Project/WikiMedTest.jl', 'r') as myfile:\n",
    "        for item in myfile:\n",
    "            if item['MedicineURI']==wiki:\n",
    "                new_med_dic['MedicineURI']=wiki\n",
    "                new_med_dic['GenericName']=item['Medicine']\n",
    "                new_med_dic['Uses']=item['ConditionsTreated']\n",
    "                if webmd is None:\n",
    "                    json.dump(new_med_dic,output)\n",
    "                    output.write('\\n')\n",
    "                else:\n",
    "                    with json_lines.open('/Users/sharadsharma/Documents/KG/Project/WebMDTest.jl', 'r') as myfile2:\n",
    "                        for x in myfile2:\n",
    "                            if x['url']==webmd:\n",
    "                                new_med_dic['BrandName']=x['Brand_Name']\n",
    "                                new_med_dic['DrugAdministration']=x['Drug Administration']\n",
    "                                new_med_dic['SideEffects']=x['Side_Effects']\n",
    "                                if 'Uses' in new_med_dic:\n",
    "                                    for i in x['Uses']:\n",
    "                                        new_med_dic['Uses'].append(i)\n",
    "                                json.dump(new_med_dic,output)\n",
    "                                output.write('\\n')\n",
    "                        \n",
    "                                    \n",
    "                            \n",
    "                                    \n",
    "                                \n",
    "                            \n",
    "                            \n",
    "            \n",
    "        \n",
    "                \n",
    "output.close()             \n",
    "                \n",
    "            \n",
    "            "
   ]
  }
 ],
 "metadata": {
  "kernelspec": {
   "display_name": "Python 3",
   "language": "python",
   "name": "python3"
  },
  "language_info": {
   "codemirror_mode": {
    "name": "ipython",
    "version": 3
   },
   "file_extension": ".py",
   "mimetype": "text/x-python",
   "name": "python",
   "nbconvert_exporter": "python",
   "pygments_lexer": "ipython3",
   "version": "3.7.4"
  }
 },
 "nbformat": 4,
 "nbformat_minor": 2
}
