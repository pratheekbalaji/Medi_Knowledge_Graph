{
 "cells": [
  {
   "cell_type": "code",
   "execution_count": 5,
   "metadata": {},
   "outputs": [],
   "source": [
    "##medicine\n",
    "from SPARQLWrapper import SPARQLWrapper, JSON\n",
    "\n",
    "sparql = SPARQLWrapper(\"http://localhost:3030/ds\")\n",
    "\n",
    "#\"alpha-tocopherol\"\n",
    "\n",
    "\n",
    "def get_med_details(med_name):\n",
    "\n",
    "    sparql.setQuery(\"\"\"\n",
    "    PREFIX schema: <http://schema.org/>\n",
    "    PREFIX myns: <http://inf558.org/medgraph#>\n",
    "    select  ?gen_name ?brand_name ?uses ?side_eff ?admin\n",
    "    where\n",
    "    {\n",
    "    ?x a myns:Drugs;\n",
    "       schema:nonProprietaryName ?gen_name;\n",
    "    OPTIONAL{?x schema:name ?brand_name}.\n",
    "    OPTIONAL{?x  myns:Uses ?uses}.\n",
    "    OPTIONAL{?x  myns:side_effect ?side_eff}.\n",
    "    OPTIONAL{?x schema:administrationRoute ?admin}.\n",
    "    FILTER regex(?gen_name,\"\"\" + '\"' + med_name + '\"' + \"\"\").\n",
    "    }\"\"\")\n",
    "\n",
    "\n",
    "    sparql.setReturnFormat(JSON)\n",
    "    results = sparql.query().convert()\n",
    "    return results\n",
    "    \n",
    "#res=set()\n",
    "#for result in results[\"results\"][\"bindings\"]:\n",
    "#    res.add(result[\"gen_name\"][\"value\"])"
   ]
  },
  {
   "cell_type": "code",
   "execution_count": 6,
   "metadata": {},
   "outputs": [
    {
     "data": {
      "text/plain": [
       "{'head': {'vars': ['gen_name', 'brand_name', 'uses', 'side_eff', 'admin']},\n",
       " 'results': {'bindings': [{'gen_name': {'type': 'literal',\n",
       "     'value': 'alpha-tocopherol'},\n",
       "    'uses': {'type': 'literal', 'value': 'hemolytic anemia'}},\n",
       "   {'gen_name': {'type': 'literal', 'value': 'alpha-tocopherol'},\n",
       "    'uses': {'type': 'literal', 'value': \"early-onset Alzheimer's disease\"}}]}}"
      ]
     },
     "execution_count": 6,
     "metadata": {},
     "output_type": "execute_result"
    }
   ],
   "source": [
    "get_med_details('alpha-tocopherol')\n"
   ]
  },
  {
   "cell_type": "code",
   "execution_count": 7,
   "metadata": {},
   "outputs": [],
   "source": [
    "##disease\n",
    "def get_disease_details(dis_name):\n",
    "\n",
    "    sparql.setQuery(\"\"\"\n",
    "    PREFIX schema: <http://schema.org/>\n",
    "    PREFIX myns: <http://inf558.org/medgraph#>\n",
    "\n",
    "    select ?disease_name ?info ?cause ?symptom ?med_name ?specialty_name\n",
    "    where\n",
    "    {\n",
    "    ?x a myns:disease;\n",
    "       schema:name ?disease_name.\n",
    "\n",
    "    OPTIONAL{?x  myns:Cause ?cause}.\n",
    "    OPTIONAL{?x  schema:signOrSymptom ?symptom}.\n",
    "    OPTIONAL {?x schema:description ?info}.\n",
    "    OPTIONAL\n",
    "        {\n",
    "     ?x  schema:drug ?drug_uri.\n",
    "    ?drug_uri  schema:nonProprietaryName ?med_name. }\n",
    "    OPTIONAL\n",
    "        {\n",
    "     ?x  schema:relevantSpeciality ?sp_uri.\n",
    "    ?sp_uri  schema:name ?specialty_name. }\n",
    "\n",
    "    FILTER (?disease_name=\"\"\" + '\"' + dis_name + '\"' + \"\"\")  \n",
    "     }\n",
    "    \"\"\")\n",
    "\n",
    "\n",
    "    sparql.setReturnFormat(JSON)\n",
    "    results = sparql.query().convert()\n",
    "    return results\n",
    "    "
   ]
  },
  {
   "cell_type": "code",
   "execution_count": 45,
   "metadata": {},
   "outputs": [],
   "source": [
    "ans=get_disease_details(\"Crohn's disease\")\n",
    "res=set()\n",
    "for result in ans[\"results\"][\"bindings\"]:\n",
    "    res.add(result[\"info\"][\"value\"])"
   ]
  },
  {
   "cell_type": "code",
   "execution_count": 47,
   "metadata": {},
   "outputs": [],
   "source": [
    "###health specialty\n",
    "def get_specialty_details(specialty_name):\n",
    "\n",
    "    sparql.setQuery(\"\"\"\n",
    "    PREFIX schema: <http://schema.org/>\n",
    "    PREFIX myns: <http://inf558.org/medgraph#>\n",
    "    PREFIX xsd: <http://www.w3.org/2001/XMLSchema#>\n",
    "\n",
    "    select  ?specialty_name ?doc_name ?doc_age ?doc_gender ?doc_address ?doc_telephone ?doc_score\n",
    "    where\n",
    "    {\n",
    "    ?x a myns:Specialty;\n",
    "        schema:name ?specialty_name;\n",
    "    OPTIONAL{\n",
    "    ?x\tmyns:doctors ?doctor_uri.\n",
    "    OPTIONAL{\n",
    "    ?doctor_uri schema:name ?doc_name.\n",
    "    ?doctor_uri  schema:address ?doc_address.\n",
    "    ?doctor_uri  schema:telephone ?doc_telephone.\n",
    "    ?doctor_uri  myns:score ?doc_score.\n",
    "    ?doctor_uri  myns:age ?doc_age.\n",
    "    ?doctor_uri   schema:gender ?doc_gender.}}\n",
    "    FILTER (str(?doc_score) != \"Not rated yet\").\n",
    "      FILTER (?specialty_name=\"\"\" + '\"' + specialty_name + '\"' + \"\"\")\n",
    "     }\n",
    "    ORDER BY DESC(?doc_score)\n",
    "    \"\"\")\n",
    "\n",
    "\n",
    "    sparql.setReturnFormat(JSON)\n",
    "    results = sparql.query().convert()\n",
    "    return results"
   ]
  },
  {
   "cell_type": "code",
   "execution_count": 48,
   "metadata": {},
   "outputs": [],
   "source": [
    "ans=get_specialty_details('neurology')"
   ]
  },
  {
   "cell_type": "code",
   "execution_count": 61,
   "metadata": {},
   "outputs": [],
   "source": [
    "res=[]\n",
    "for result in ans[\"results\"][\"bindings\"]:\n",
    "    res.append(result[\"doc_address\"][\"value\"])"
   ]
  },
  {
   "cell_type": "code",
   "execution_count": null,
   "metadata": {},
   "outputs": [],
   "source": []
  }
 ],
 "metadata": {
  "kernelspec": {
   "display_name": "Python 3",
   "language": "python",
   "name": "python3"
  },
  "language_info": {
   "codemirror_mode": {
    "name": "ipython",
    "version": 3
   },
   "file_extension": ".py",
   "mimetype": "text/x-python",
   "name": "python",
   "nbconvert_exporter": "python",
   "pygments_lexer": "ipython3",
   "version": "3.7.4"
  }
 },
 "nbformat": 4,
 "nbformat_minor": 2
}
