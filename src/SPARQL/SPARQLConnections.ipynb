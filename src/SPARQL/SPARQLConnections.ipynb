{
 "cells": [
  {
   "cell_type": "code",
   "execution_count": 71,
   "metadata": {},
   "outputs": [],
   "source": [
    "##medicine\n",
    "from SPARQLWrapper import SPARQLWrapper, JSON\n",
    "\n",
    "sparql = SPARQLWrapper(\"http://localhost:3030/ds\")\n",
    "\n",
    "#\"alpha-tocopherol\"\n",
    "\n",
    "\n",
    "def get_med_details(med_name):\n",
    "\n",
    "    sparql.setQuery(\"\"\"\n",
    "    PREFIX schema: <http://schema.org/>\n",
    "    PREFIX myns: <http://inf558.org/medgraph#>\n",
    "    select  ?gen_name ?brand_name ?uses ?side_eff ?admin\n",
    "    where\n",
    "    {\n",
    "    ?x a myns:Drugs;\n",
    "       schema:nonProprietaryName ?gen_name;\n",
    "    OPTIONAL{?x schema:name ?brand_name}.\n",
    "    OPTIONAL{?x  myns:Uses ?uses}.\n",
    "    OPTIONAL{?x  myns:side_effect ?side_eff}.\n",
    "    OPTIONAL{?x schema:administrationRoute ?admin}.\n",
    "    FILTER regex(?gen_name,\"\"\" + '\"' + med_name + '\"' + \"\"\").\n",
    "    }\"\"\")\n",
    "\n",
    "\n",
    "    sparql.setReturnFormat(JSON)\n",
    "    results = sparql.query().convert()\n",
    "    \n",
    "    gen_name = set()\n",
    "    brand_name = set()\n",
    "    uses = set()\n",
    "    side_effect = set()\n",
    "    admin_route = set()\n",
    "    final_res = {}\n",
    "    \n",
    "    result=results[\"results\"][\"bindings\"]\n",
    "    for res in result:\n",
    "        \n",
    "\n",
    "        if 'gen_name' in res:\n",
    "            gen_name.add(res['gen_name']['value'].title())\n",
    "        if 'brand_name' in res:\n",
    "            brand_name.add(res['brand_name']['value'].title())\n",
    "        if 'uses' in res:\n",
    "            uses.add(res['uses']['value'].title())\n",
    "        if 'side_eff' in res:\n",
    "            side_effect.add(res['side_eff']['value'].title())\n",
    "        if 'admin' in res:\n",
    "            admin_route.add(res['admin']['value'].title())\n",
    "\n",
    "    if len(gen_name) > 0:\n",
    "        final_res['gen_name'] = gen_name\n",
    "    \n",
    "    if len(brand_name) > 0:\n",
    "        final_res['brand_name'] = brand_name\n",
    "    \n",
    "    if len(uses) > 0:\n",
    "        final_res['uses'] = uses\n",
    "    \n",
    "    if len(side_effect) >0:\n",
    "        final_res['side_effect'] = side_effect\n",
    "    if len(admin_route) > 0:\n",
    "        final_res['admin_route'] = admin_route\n",
    "    \n",
    "    print(result)\n",
    "    return final_res\n",
    "    \n",
    "    \n",
    "        \n",
    "            "
   ]
  },
  {
   "cell_type": "code",
   "execution_count": 72,
   "metadata": {},
   "outputs": [
    {
     "name": "stdout",
     "output_type": "stream",
     "text": [
      "[{'gen_name': {'type': 'literal', 'value': 'naloxegol'}, 'brand_name': {'type': 'literal', 'value': 'Naloxegol Tablet'}, 'uses': {'type': 'literal', 'value': 'cancer'}, 'side_eff': {'type': 'literal', 'value': 'gas'}, 'admin': {'type': 'literal', 'value': 'Administered via the mouth'}}, {'gen_name': {'type': 'literal', 'value': 'naloxegol'}, 'brand_name': {'type': 'literal', 'value': 'Naloxegol Tablet'}, 'uses': {'type': 'literal', 'value': 'cancer'}, 'side_eff': {'type': 'literal', 'value': 'diarrhea'}, 'admin': {'type': 'literal', 'value': 'Administered via the mouth'}}, {'gen_name': {'type': 'literal', 'value': 'naloxegol'}, 'brand_name': {'type': 'literal', 'value': 'Naloxegol Tablet'}, 'uses': {'type': 'literal', 'value': 'cancer'}, 'side_eff': {'type': 'literal', 'value': 'pain'}, 'admin': {'type': 'literal', 'value': 'Administered via the mouth'}}, {'gen_name': {'type': 'literal', 'value': 'naloxegol'}, 'brand_name': {'type': 'literal', 'value': 'Naloxegol Tablet'}, 'uses': {'type': 'literal', 'value': 'constipation'}, 'side_eff': {'type': 'literal', 'value': 'gas'}, 'admin': {'type': 'literal', 'value': 'Administered via the mouth'}}, {'gen_name': {'type': 'literal', 'value': 'naloxegol'}, 'brand_name': {'type': 'literal', 'value': 'Naloxegol Tablet'}, 'uses': {'type': 'literal', 'value': 'constipation'}, 'side_eff': {'type': 'literal', 'value': 'diarrhea'}, 'admin': {'type': 'literal', 'value': 'Administered via the mouth'}}, {'gen_name': {'type': 'literal', 'value': 'naloxegol'}, 'brand_name': {'type': 'literal', 'value': 'Naloxegol Tablet'}, 'uses': {'type': 'literal', 'value': 'constipation'}, 'side_eff': {'type': 'literal', 'value': 'pain'}, 'admin': {'type': 'literal', 'value': 'Administered via the mouth'}}, {'gen_name': {'type': 'literal', 'value': 'naloxegol'}, 'brand_name': {'type': 'literal', 'value': 'Naloxegol Tablet'}, 'uses': {'type': 'literal', 'value': 'pain'}, 'side_eff': {'type': 'literal', 'value': 'gas'}, 'admin': {'type': 'literal', 'value': 'Administered via the mouth'}}, {'gen_name': {'type': 'literal', 'value': 'naloxegol'}, 'brand_name': {'type': 'literal', 'value': 'Naloxegol Tablet'}, 'uses': {'type': 'literal', 'value': 'pain'}, 'side_eff': {'type': 'literal', 'value': 'diarrhea'}, 'admin': {'type': 'literal', 'value': 'Administered via the mouth'}}, {'gen_name': {'type': 'literal', 'value': 'naloxegol'}, 'brand_name': {'type': 'literal', 'value': 'Naloxegol Tablet'}, 'uses': {'type': 'literal', 'value': 'pain'}, 'side_eff': {'type': 'literal', 'value': 'pain'}, 'admin': {'type': 'literal', 'value': 'Administered via the mouth'}}]\n"
     ]
    },
    {
     "data": {
      "text/plain": [
       "{'gen_name': {'Naloxegol'},\n",
       " 'brand_name': {'Naloxegol Tablet'},\n",
       " 'uses': {'Cancer', 'Constipation', 'Pain'},\n",
       " 'side_effect': {'Diarrhea', 'Gas', 'Pain'},\n",
       " 'admin_route': {'Administered Via The Mouth'}}"
      ]
     },
     "execution_count": 72,
     "metadata": {},
     "output_type": "execute_result"
    }
   ],
   "source": [
    "get_med_details('naloxegol')\n"
   ]
  },
  {
   "cell_type": "code",
   "execution_count": 77,
   "metadata": {},
   "outputs": [],
   "source": [
    "##disease\n",
    "def get_disease_details(dis_name):\n",
    "\n",
    "    sparql.setQuery(\"\"\"\n",
    "    PREFIX schema: <http://schema.org/>\n",
    "    PREFIX myns: <http://inf558.org/medgraph#>\n",
    "\n",
    "    select ?disease_name ?info ?cause ?symptom ?med_name ?specialty_name\n",
    "    where\n",
    "    {\n",
    "    ?x a myns:disease;\n",
    "       schema:name ?disease_name.\n",
    "\n",
    "    OPTIONAL{?x  myns:Cause ?cause}.\n",
    "    OPTIONAL{?x  schema:signOrSymptom ?symptom}.\n",
    "    OPTIONAL {?x schema:description ?info}.\n",
    "    OPTIONAL\n",
    "        {\n",
    "     ?x  schema:drug ?drug_uri.\n",
    "    ?drug_uri  schema:nonProprietaryName ?med_name. }\n",
    "    OPTIONAL\n",
    "        {\n",
    "     ?x  schema:relevantSpeciality ?sp_uri.\n",
    "    ?sp_uri  schema:name ?specialty_name. }\n",
    "\n",
    "    FILTER (?disease_name=\"\"\" + '\"' + dis_name + '\"' + \"\"\")  \n",
    "     }\n",
    "    \"\"\")\n",
    "    disease_name = set()\n",
    "    info = set()\n",
    "    cause = set()\n",
    "    symptom = set()\n",
    "    med_name= set()\n",
    "    specialty_name = set()\n",
    "    \n",
    "    final_res = {}\n",
    "    sparql.setReturnFormat(JSON)\n",
    "    results = sparql.query().convert()\n",
    "    \n",
    "    result=results[\"results\"][\"bindings\"]\n",
    "    for res in result:\n",
    "        \n",
    "\n",
    "        if 'disease_name' in res:\n",
    "            disease_name.add(res['disease_name']['value'].title())\n",
    "        if 'info' in res:\n",
    "            info.add(res['info']['value'].title())\n",
    "        if 'cause' in res:\n",
    "            cause.add(res['cause']['value'].title())\n",
    "        if 'symptom' in res:\n",
    "            symptom.add(res['symptom']['value'].title())\n",
    "        if 'med_name' in res:\n",
    "            med_name.add(res['med_name']['value'].title())\n",
    "        if 'specialty_name' in res:\n",
    "            specialty_name.add(res['specialty_name']['value'].title())\n",
    "\n",
    "    if len(disease_name) > 0:\n",
    "        final_res['disease_name'] = disease_name\n",
    "    \n",
    "    if len(info) > 0:\n",
    "        final_res['info'] = info\n",
    "    \n",
    "    if len(cause) > 0:\n",
    "        final_res['cause'] = cause\n",
    "    \n",
    "    if len(symptom) >0:\n",
    "        final_res['symptom'] = symptom\n",
    "    if len(med_name) > 0:\n",
    "        final_res['med_name'] = med_name\n",
    "    if len(specialty_name) >0:\n",
    "         final_res['specialty_name'] = specialty_name\n",
    "        \n",
    "    \n",
    "    \n",
    "    \n",
    "    return final_res\n",
    "    \n",
    "    \n",
    "        \n",
    "            \n",
    "\n",
    "\n",
    "    \n",
    "    "
   ]
  },
  {
   "cell_type": "code",
   "execution_count": 78,
   "metadata": {
    "pycharm": {
     "name": "#%%\n"
    }
   },
   "outputs": [
    {
     "data": {
      "text/plain": [
       "{'disease_name': {\"Crohn'S Disease\"},\n",
       " 'info': {'Type Of Inflammatory Bowel Disease'},\n",
       " 'symptom': {'Abdominal Pain',\n",
       "  'Anorexia',\n",
       "  'Aphthous Stomatitis',\n",
       "  'Arthralgia',\n",
       "  'Constipation',\n",
       "  'Diarrhea',\n",
       "  'Fatigue',\n",
       "  'Fever',\n",
       "  'Fistula',\n",
       "  'Gingivitis',\n",
       "  'Rectal Tenesmus',\n",
       "  'Ulcer',\n",
       "  'Weight Loss'},\n",
       " 'med_name': {'Abatacept',\n",
       "  'Adalimumab',\n",
       "  'Aminosalicylic Acid',\n",
       "  'Azathioprine',\n",
       "  'Certolizumab Pegol',\n",
       "  'Cholecalciferol',\n",
       "  'Dexamethasone',\n",
       "  'Infliximab',\n",
       "  'Mecasermin',\n",
       "  'Mesalazine',\n",
       "  'Methotrexate',\n",
       "  'Naltrexone',\n",
       "  'Natalizumab',\n",
       "  'Sargramostim',\n",
       "  'Tacrolimus',\n",
       "  'Teduglutide',\n",
       "  'Thalidomide',\n",
       "  'Ustekinumab',\n",
       "  'Vedolizumab'},\n",
       " 'specialty_name': {'Gastroenterology'}}"
      ]
     },
     "execution_count": 78,
     "metadata": {},
     "output_type": "execute_result"
    }
   ],
   "source": [
    "get_disease_details(\"Crohn's disease\")\n"
   ]
  },
  {
   "cell_type": "code",
   "execution_count": null,
   "metadata": {
    "pycharm": {
     "name": "#%%\n"
    }
   },
   "outputs": [],
   "source": [
    "###health specialty\n",
    "def get_specialty_details(specialty_name):\n",
    "\n",
    "    sparql.setQuery(\"\"\"\n",
    "    PREFIX schema: <http://schema.org/>\n",
    "    PREFIX myns: <http://inf558.org/medgraph#>\n",
    "    PREFIX xsd: <http://www.w3.org/2001/XMLSchema#>\n",
    "\n",
    "    select  ?specialty_name ?doc_name ?doc_age ?doc_gender ?doc_address ?doc_telephone ?doc_score\n",
    "    where\n",
    "    {\n",
    "    ?x a myns:Specialty;\n",
    "        schema:name ?specialty_name;\n",
    "    OPTIONAL{\n",
    "    ?x myns:doctors ?doctor_uri.\n",
    "    OPTIONAL{\n",
    "    ?doctor_uri schema:name ?doc_name.\n",
    "    ?doctor_uri  schema:address ?doc_address.\n",
    "    ?doctor_uri  schema:telephone ?doc_telephone.\n",
    "    ?doctor_uri  myns:score ?doc_score.\n",
    "    ?doctor_uri  myns:age ?doc_age.\n",
    "    ?doctor_uri   schema:gender ?doc_gender.}}\n",
    "    FILTER (str(?doc_score) != \"Not rated yet\").\n",
    "      FILTER (?specialty_name=\"\"\" + '\"' + specialty_name + '\"' + \"\"\")\n",
    "     }\n",
    "    ORDER BY DESC(?doc_score)\n",
    "    \"\"\")\n",
    "\n",
    "\n",
    "    sparql.setReturnFormat(JSON)\n",
    "    results = sparql.query().convert()\n",
    "    return results"
   ]
  },
  {
   "cell_type": "code",
   "execution_count": null,
   "metadata": {
    "pycharm": {
     "name": "#%%\n"
    }
   },
   "outputs": [],
   "source": [
    "ans=get_specialty_details('neurology')"
   ]
  },
  {
   "cell_type": "code",
   "execution_count": null,
   "metadata": {
    "pycharm": {
     "name": "#%%\n"
    }
   },
   "outputs": [],
   "source": [
    "res=[]\n",
    "for result in ans[\"results\"][\"bindings\"]:\n",
    "    res.append(result[\"doc_address\"][\"value\"])"
   ]
  },
  {
   "cell_type": "code",
   "execution_count": null,
   "metadata": {
    "pycharm": {
     "name": "#%%\n"
    }
   },
   "outputs": [],
   "source": []
  },
  {
   "cell_type": "code",
   "execution_count": 45,
   "metadata": {},
   "outputs": [],
   "source": []
  },
  {
   "cell_type": "code",
   "execution_count": 47,
   "metadata": {},
   "outputs": [],
   "source": [
    "###health specialty\n",
    "def get_specialty_details(specialty_name):\n",
    "\n",
    "    sparql.setQuery(\"\"\"\n",
    "    PREFIX schema: <http://schema.org/>\n",
    "    PREFIX myns: <http://inf558.org/medgraph#>\n",
    "    PREFIX xsd: <http://www.w3.org/2001/XMLSchema#>\n",
    "\n",
    "    select  ?specialty_name ?doc_name ?doc_age ?doc_gender ?doc_address ?doc_telephone ?doc_score\n",
    "    where\n",
    "    {\n",
    "    ?x a myns:Drugs;\n",
    "        schema:name ?specialty_name;\n",
    "    \n",
    "      FILTER (?specialty_name=\"\"\" + '\"' + specialty_name + '\"' + \"\"\")\n",
    "     }\n",
    "    ORDER BY DESC(?doc_score)\n",
    "    \"\"\")\n",
    "\n",
    "\n",
    "    sparql.setReturnFormat(JSON)\n",
    "    results = sparql.query().convert()\n",
    "    return results"
   ]
  },
  {
   "cell_type": "code",
   "execution_count": 48,
   "metadata": {},
   "outputs": [],
   "source": [
    "ans=get_specialty_details('neurology')"
   ]
  },
  {
   "cell_type": "code",
   "execution_count": 61,
   "metadata": {},
   "outputs": [],
   "source": [
    "res=[]\n",
    "for result in ans[\"results\"][\"bindings\"]:\n",
    "    res.append(result[\"doc_address\"][\"value\"])"
   ]
  },
  {
   "cell_type": "code",
   "execution_count": 30,
   "metadata": {},
   "outputs": [],
   "source": [
    "def get_disease_from_symptoms(symptoms):\n",
    "    main_set = set()\n",
    "    cnt = 0\n",
    "    for symptom in symptoms:\n",
    "        sparql.setQuery(\"\"\"\n",
    "        PREFIX schema: <http://schema.org/>\n",
    "        PREFIX myns: <http://inf558.org/medgraph#>\n",
    "\n",
    "        SELECT ?disease_name?symptom\n",
    "        WHERE {\n",
    "          ?x a myns:disease;\n",
    "             schema:name ?disease_name.\n",
    "          {?x schema:signOrSymptom ?symptom.}\n",
    "          FILTER (?symptom=\"\"\" + '\"' + symptom + '\"' + \"\"\")\n",
    "        }  \n",
    "        \n",
    "        \"\"\")\n",
    "        sparql.setReturnFormat(JSON)\n",
    "        results = sparql.query().convert()\n",
    "        temp_set = set()\n",
    "        for result in results['results']['bindings']:\n",
    "            \n",
    "                temp_set.add(result['disease_name']['value'])\n",
    "        if cnt==0:\n",
    "            main_set=(temp_set)\n",
    "        else:\n",
    "            main_set = main_set.intersection(temp_set)\n",
    "        cnt+=1\n",
    "    \n",
    "    return main_set\n",
    "            \n",
    "        \n",
    "        \n",
    "            \n",
    "        \n",
    "        "
   ]
  },
  {
   "cell_type": "code",
   "execution_count": 33,
   "metadata": {},
   "outputs": [
    {
     "data": {
      "text/plain": [
       "{'Lassa fever', 'measles', 'ornithosis'}"
      ]
     },
     "execution_count": 33,
     "metadata": {},
     "output_type": "execute_result"
    }
   ],
   "source": [
    "get_disease_from_symptoms(['fever','cough','conjunctivitis'])"
   ]
  },
  {
   "cell_type": "code",
   "execution_count": 35,
   "metadata": {},
   "outputs": [],
   "source": [
    "def get_disease_from_cause(causes):\n",
    "    main_set = set()\n",
    "    cnt = 0\n",
    "    for cause in causes:\n",
    "        sparql.setQuery(\"\"\"\n",
    "        PREFIX schema: <http://schema.org/>\n",
    "        PREFIX myns: <http://inf558.org/medgraph#>\n",
    "\n",
    "        SELECT ?disease_name\n",
    "        WHERE {\n",
    "          ?x a myns:disease;\n",
    "             schema:name ?disease_name.\n",
    "          {?x myns:Cause ?cause.}\n",
    "          FILTER (?cause=\"\"\" + '\"' + cause + '\"' + \"\"\")\n",
    "        }  \n",
    "        \n",
    "        \"\"\")\n",
    "        sparql.setReturnFormat(JSON)\n",
    "        results = sparql.query().convert()\n",
    "        temp_set = set()\n",
    "        for result in results['results']['bindings']:\n",
    "            \n",
    "                temp_set.add(result['disease_name']['value'])\n",
    "        if cnt==0:\n",
    "            main_set=(temp_set)\n",
    "        else:\n",
    "            main_set = main_set.intersection(temp_set)\n",
    "        cnt+=1\n",
    "    \n",
    "    return main_set"
   ]
  },
  {
   "cell_type": "code",
   "execution_count": 38,
   "metadata": {},
   "outputs": [
    {
     "data": {
      "text/plain": [
       "{\"Kaposi's sarcoma\"}"
      ]
     },
     "execution_count": 38,
     "metadata": {},
     "output_type": "execute_result"
    }
   ],
   "source": [
    "get_disease_from_cause([\"Kaposi's sarcoma-associated herpesvirus\",\n",
    "        \"carcinogenesis\"])"
   ]
  },
  {
   "cell_type": "code",
   "execution_count": 46,
   "metadata": {},
   "outputs": [
    {
     "data": {
      "text/plain": [
       "['mama', 'lo']"
      ]
     },
     "execution_count": 46,
     "metadata": {},
     "output_type": "execute_result"
    }
   ],
   "source": [
    "\"mama,lo\".split(',')"
   ]
  },
  {
   "cell_type": "code",
   "execution_count": 42,
   "metadata": {},
   "outputs": [],
   "source": [
    "def get_medicine_from_uses(uses):\n",
    "    \n",
    "    main_set = set()\n",
    "    cnt = 0\n",
    "    for use in uses:\n",
    "        sparql.setQuery(\"\"\"\n",
    "        PREFIX schema: <http://schema.org/>\n",
    "        PREFIX myns: <http://inf558.org/medgraph#>\n",
    "\n",
    "        SELECT ?drugs_name\n",
    "        WHERE {\n",
    "          ?x a myns:Drugs;\n",
    "              schema:nonProprietaryName ?drugs_name.\n",
    "           \n",
    "          {?x myns:Uses ?use.}\n",
    "          FILTER (?use=\"\"\" + '\"' + use + '\"' + \"\"\")\n",
    "        }  \n",
    "        \n",
    "        \"\"\")\n",
    "        sparql.setReturnFormat(JSON)\n",
    "        results = sparql.query().convert()\n",
    "        temp_set = set()\n",
    "        for result in results['results']['bindings']:\n",
    "            \n",
    "                temp_set.add(result['drugs_name']['value'])\n",
    "        if cnt==0:\n",
    "            main_set=(temp_set)\n",
    "        else:\n",
    "            main_set = main_set.intersection(temp_set)\n",
    "        cnt+=1\n",
    "    \n",
    "    return main_set\n",
    "    \n",
    "    "
   ]
  },
  {
   "cell_type": "code",
   "execution_count": 86,
   "metadata": {},
   "outputs": [
    {
     "data": {
      "text/plain": [
       "{'Icodextrin',\n",
       " 'amiloride',\n",
       " 'bendroflumethiazide',\n",
       " 'benzthiazide',\n",
       " 'bumetanide',\n",
       " 'captopril',\n",
       " 'chlorothiazide',\n",
       " 'chlorthalidone',\n",
       " 'cyclothiazide',\n",
       " 'danazol',\n",
       " 'enalapril',\n",
       " 'ethacrynic acid',\n",
       " 'furosemide',\n",
       " 'hydrochlorothiazide',\n",
       " 'hydroflumethiazide',\n",
       " 'indapamide',\n",
       " 'methyclothiazide',\n",
       " 'metolazone',\n",
       " 'polythiazide',\n",
       " 'prednisolone',\n",
       " 'quinethazone',\n",
       " 'spironolactone',\n",
       " 'torsemide',\n",
       " 'triamterene',\n",
       " 'trichlormethiazide'}"
      ]
     },
     "execution_count": 86,
     "metadata": {},
     "output_type": "execute_result"
    }
   ],
   "source": [
    "get_medicine_from_uses(['anasarca'])"
   ]
  },
  {
   "cell_type": "code",
   "execution_count": 79,
   "metadata": {},
   "outputs": [],
   "source": [
    "def get_specialty_details(specialty_name,scorer):\n",
    "\n",
    "    sparql.setQuery(\"\"\"\n",
    "    PREFIX schema: <http://schema.org/>\n",
    "    PREFIX myns: <http://inf558.org/medgraph#>\n",
    "    PREFIX xsd: <http://www.w3.org/2001/XMLSchema#>\n",
    "\n",
    "    select  ?specialty_name ?doc_name ?doc_age ?doc_gender ?doc_address ?doc_telephone ?doc_score\n",
    "    where\n",
    "    {\n",
    "    ?x a myns:Specialty;\n",
    "        schema:name ?specialty_name;\n",
    "    OPTIONAL{\n",
    "    ?x myns:doctors ?doctor_uri.\n",
    "    OPTIONAL{\n",
    "    ?doctor_uri schema:name ?doc_name.\n",
    "    ?doctor_uri  schema:address ?doc_address.\n",
    "    ?doctor_uri  schema:telephone ?doc_telephone.\n",
    "    ?doctor_uri  myns:score ?doc_score.\n",
    "    ?doctor_uri  myns:age ?doc_age.\n",
    "    ?doctor_uri   schema:gender ?doc_gender.}}\n",
    "    FILTER (str(?doc_score) != \"Not rated yet\").\n",
    "    FILTER (str(?doc_score) >= \"\"\" + '\"' + scorer + '\"' + \"\"\").\n",
    "    FILTER (?specialty_name=\"\"\" + '\"' + specialty_name + '\"' + \"\"\")\n",
    "     }\n",
    "    ORDER BY (?doc_score)\n",
    "    \"\"\")\n",
    "\n",
    "\n",
    "    sparql.setReturnFormat(JSON)\n",
    "    results = sparql.query().convert()\n",
    "    return results"
   ]
  },
  {
   "cell_type": "code",
   "execution_count": 82,
   "metadata": {},
   "outputs": [],
   "source": [
    "result =get_specialty_details('neurology','2.0')"
   ]
  },
  {
   "cell_type": "code",
   "execution_count": 83,
   "metadata": {},
   "outputs": [],
   "source": [
    "doc_name = []\n",
    "doc_address = []\n",
    "doc_telephone = []\n",
    "result = result[\"results\"][\"bindings\"]\n",
    "for res in result:\n",
    "\n",
    "    if 'doc_name' in res:\n",
    "        doc_name.append(res['doc_name']['value'].title())\n",
    "    else:\n",
    "        doc_name.append('Not Available')\n",
    "\n",
    "    if 'doc_telephone' in res:\n",
    "        doc_telephone.append(res['doc_telephone']['value'])\n",
    "    else:\n",
    "        doc_telephone.append('Not Available')\n",
    "    if 'doc_address' in res:\n",
    "        doc_address.append(res['doc_address']['value'].title())\n",
    "    else:\n",
    "        doc_address.append('Not Available')"
   ]
  },
  {
   "cell_type": "code",
   "execution_count": 85,
   "metadata": {},
   "outputs": [
    {
     "data": {
      "text/plain": [
       "['Epilepsy And Brain Mapping Program A Medical Group Inc.: 10 Congress St Ste 505 Pasadena, Ca 91105',\n",
       " 'Abdolkarim K Aminian Md: 8920 Wilshire Blvd Ste 548 Beverly Hills, Ca 90211',\n",
       " 'F Al Faisal Md Inc.: 1218 W Olive Ave Burbank, Ca 91506',\n",
       " 'Vernon B. Williams, Md, Inc.: 6801 Park Ter Ste 500 Los Angeles, Ca 90045',\n",
       " 'Girard & Spitzer Mds: 50 Alessandro Pl Ste 120 Pasadena, Ca 91105',\n",
       " 'Cedars Sinai Medical Center, West Hollywood, Ca: 127 S San Vicente Blvd # A6600 Los Angeles, Ca 90048',\n",
       " 'Kaiser Permanente 1505 Edgemont Medical Offices: 1505 N Edgemont St Los Angeles, Ca 90027',\n",
       " 'Ams Neurology, Inc: 960 E Green St Pasadena, Ca 91106',\n",
       " 'Leslie P Weiner Neurologic Care: 1520 San Pablo St Ste 3000 Los Angeles, Ca 90033',\n",
       " 'Vorterian Kevork & Adelina Md: 1215 S Central Ave Glendale, Ca 91204',\n",
       " 'Cedars-Sinai Specialty Clinic: 127 S San Vicente Blvd # A Los Angeles, Ca 90048',\n",
       " 'Pasadena Center For Neuromuscular Medicine: 139 S Los Robles Ave Unit B20 Pasadena, Ca 91101',\n",
       " 'Tower Neurological Services: 7080 Hollywood Blvd Los Angeles, Ca 90028',\n",
       " 'University Of California - Los Angeles Medical Center: 300 Medical Plz Ste B200 Los Angeles, Ca 90095',\n",
       " 'Beverly Hills Neurology: 150 N Robertson Blvd Ste 205 Beverly Hills, Ca 90211',\n",
       " 'Usc Physicians: 8631 W 3Rd St Ste 531E Los Angeles, Ca 90048',\n",
       " 'Leslie P Weiner Neurologic Care: 1520 San Pablo St Ste 3000 Los Angeles, Ca 90033',\n",
       " 'Nancy A Niparko Md: 4650 W Sunset Blvd Stop 82 Los Angeles, Ca 90027',\n",
       " 'Cedars-Sinai Medical Group -- Neurology: 8635 W 3Rd St Los Angeles, Ca 90048',\n",
       " 'William W. Chow Md A Professional Corp.: 8635 W 3Rd St Ste 450W Los Angeles, Ca 90048',\n",
       " 'Saint Marys Neurology Clinic: 6200 Wilshire Blvd Ste 1708 Los Angeles, Ca 90048',\n",
       " 'Cedars-Sinai Medical Center: 127 S San Vicente Blvd # A6600 Los Angeles, Ca 90048',\n",
       " 'Leslie P Weiner Neurologic Care: 1520 San Pablo St Ste 3000 Los Angeles, Ca 90033',\n",
       " 'West Coast Neurology, Inc: 630 S Raymond Ave Unit 310 Pasadena, Ca 91105',\n",
       " 'Kaiser Permanente West Los Angeles Medical Center Building: 6041 Cadillac Ave Los Angeles, Ca 90034',\n",
       " 'Morris Rashtian Chiropractic Corp: 8500 Wilshire Blvd Ste 102 Beverly Hills, Ca 90211',\n",
       " 'Cedars Sinai Advanced Health Sciences Pavilion: 127 S San Vicente Blvd Los Angeles, Ca 90048',\n",
       " 'Cedars-Sinai Specialty Clinic: 127 S San Vicente Blvd # A Los Angeles, Ca 90048',\n",
       " 'Pediatrics Gastroenterology: 200 Medical Plz Ste 265 Los Angeles, Ca 90095',\n",
       " 'Rancho Los Amigos National Rehabilitation Center: 7601 Imperial Hwy Downey, Ca 90242',\n",
       " 'Ucla Medical Center Neurology: 300 Medical Plz # B200 Los Angeles, Ca 90095',\n",
       " 'Usc Memory & Aging Center: 1520 San Pablo St Ste 3000 Los Angeles, Ca 90033',\n",
       " 'Usc Department Of Neurology: 1540 Alcazar St Ste 215 Los Angeles, Ca 90089']"
      ]
     },
     "execution_count": 85,
     "metadata": {},
     "output_type": "execute_result"
    }
   ],
   "source": [
    "doc_"
   ]
  },
  {
   "cell_type": "code",
   "execution_count": null,
   "metadata": {},
   "outputs": [],
   "source": []
  }
 ],
 "metadata": {
  "kernelspec": {
   "display_name": "Python 3",
   "language": "python",
   "name": "python3"
  },
  "language_info": {
   "codemirror_mode": {
    "name": "ipython",
    "version": 3
   },
   "file_extension": ".py",
   "mimetype": "text/x-python",
   "name": "python",
   "nbconvert_exporter": "python",
   "pygments_lexer": "ipython3",
   "version": "3.7.6"
  }
 },
 "nbformat": 4,
 "nbformat_minor": 2
}