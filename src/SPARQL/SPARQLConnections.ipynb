{
 "cells": [
  {
   "cell_type": "code",
   "execution_count": 125,
   "metadata": {},
   "outputs": [],
   "source": [
    "##medicine\n",
    "from SPARQLWrapper import SPARQLWrapper, JSON\n",
    "\n",
    "sparql = SPARQLWrapper(\"http://localhost:3030/ds\")\n",
    "\n",
    "#\"alpha-tocopherol\"\n",
    "\n",
    "\n",
    "def get_med_details(med_name):\n",
    "\n",
    "    sparql.setQuery(\"\"\"\n",
    "    PREFIX schema: <http://schema.org/>\n",
    "    PREFIX myns: <http://inf558.org/medgraph#>\n",
    "    select  ?gen_name ?brand_name ?uses ?side_eff ?admin\n",
    "    where\n",
    "    {\n",
    "    ?x a myns:Drugs;\n",
    "       schema:nonProprietaryName ?gen_name;\n",
    "    OPTIONAL{?x schema:name ?brand_name}.\n",
    "    OPTIONAL{?x  myns:Uses ?uses}.\n",
    "    OPTIONAL{?x  myns:side_effect ?side_eff}.\n",
    "    OPTIONAL{?x schema:administrationRoute ?admin}.\n",
    "    FILTER regex(?gen_name,\"\"\" + '\"' + med_name + '\"' + \"\"\").\n",
    "    }\"\"\")\n",
    "\n",
    "\n",
    "    sparql.setReturnFormat(JSON)\n",
    "    results = sparql.query().convert()\n",
    "    return results\n",
    "    \n",
    "#res=set()\n",
    "#for result in results[\"results\"][\"bindings\"]:\n",
    "#    res.add(result[\"gen_name\"][\"value\"])"
   ]
  },
  {
   "cell_type": "code",
   "execution_count": 126,
   "metadata": {},
   "outputs": [
    {
     "data": {
      "text/plain": [
       "{'head': {'vars': ['gen_name', 'brand_name', 'uses', 'side_eff', 'admin']},\n",
       " 'results': {'bindings': [{'gen_name': {'type': 'literal',\n",
       "     'value': 'alpha-tocopherol'},\n",
       "    'uses': {'type': 'literal', 'value': 'hemolytic anemia'}},\n",
       "   {'gen_name': {'type': 'literal', 'value': 'alpha-tocopherol'},\n",
       "    'uses': {'type': 'literal', 'value': \"early-onset Alzheimer's disease\"}}]}}"
      ]
     },
     "execution_count": 126,
     "metadata": {},
     "output_type": "execute_result"
    }
   ],
   "source": [
    "get_med_details('alpha-tocopherol')\n"
   ]
  },
  {
   "cell_type": "code",
   "execution_count": null,
   "metadata": {},
   "outputs": [],
   "source": [
    "##disease\n",
    "def get_med_details(med_name):\n",
    "\n",
    "    sparql.setQuery(\"\"\"\n",
    "    PREFIX schema: <http://schema.org/>\n",
    "    PREFIX myns: <http://inf558.org/medgraph#>\n",
    "    select  ?gen_name ?brand_name ?uses ?side_eff ?admin\n",
    "    where\n",
    "    {\n",
    "    ?x a myns:Drugs;\n",
    "       schema:nonProprietaryName ?gen_name;\n",
    "    OPTIONAL{?x schema:name ?brand_name}.\n",
    "    OPTIONAL{?x  myns:Uses ?uses}.\n",
    "    OPTIONAL{?x  myns:side_effect ?side_eff}.\n",
    "    OPTIONAL{?x schema:administrationRoute ?admin}.\n",
    "    FILTER regex(?gen_name,\"\"\" + '\"' + med_name + '\"' + \"\"\").\n",
    "    }\"\"\")\n",
    "\n",
    "\n",
    "    sparql.setReturnFormat(JSON)\n",
    "    results = sparql.query().convert()\n",
    "    return results\n",
    "    "
   ]
  }
 ],
 "metadata": {
  "kernelspec": {
   "display_name": "Python 3",
   "language": "python",
   "name": "python3"
  },
  "language_info": {
   "codemirror_mode": {
    "name": "ipython",
    "version": 3
   },
   "file_extension": ".py",
   "mimetype": "text/x-python",
   "name": "python",
   "nbconvert_exporter": "python",
   "pygments_lexer": "ipython3",
   "version": "3.7.4"
  }
 },
 "nbformat": 4,
 "nbformat_minor": 2
}
