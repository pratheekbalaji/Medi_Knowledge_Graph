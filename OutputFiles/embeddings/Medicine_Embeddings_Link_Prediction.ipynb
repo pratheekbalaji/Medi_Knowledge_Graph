{
 "cells": [
  {
   "cell_type": "code",
   "execution_count": 1,
   "metadata": {},
   "outputs": [],
   "source": [
    "import pandas as pd\n",
    "import os"
   ]
  },
  {
   "cell_type": "code",
   "execution_count": 2,
   "metadata": {},
   "outputs": [
    {
     "data": {
      "text/plain": [
       "['embeddings_meds.csv',\n",
       " '.DS_Store',\n",
       " 'disease_cause.csv',\n",
       " 'medicine_side_effects.csv',\n",
       " 'Medicine_Embeddings_Clustering.ipynb',\n",
       " 'medicine_uses.csv',\n",
       " 'disease_specialty.csv',\n",
       " 'embeddigs_diseases.csv',\n",
       " 'disease_link_prediction.ipynb',\n",
       " 'Medicine_Embeddings_Linkage.ipynb',\n",
       " 'Medicine_Embeddings_Clustering-Copy1.ipynb',\n",
       " 'diseases_embedding-Copy1.ipynb',\n",
       " '.ipynb_checkpoints',\n",
       " 'application.log',\n",
       " 'diseases_embedding.ipynb',\n",
       " 'disease_symptoms.csv']"
      ]
     },
     "execution_count": 2,
     "metadata": {},
     "output_type": "execute_result"
    }
   ],
   "source": [
    "os.listdir()"
   ]
  },
  {
   "cell_type": "code",
   "execution_count": 25,
   "metadata": {},
   "outputs": [],
   "source": [
    "df1 = pd.read_csv('medicine_uses.csv')\n",
    "df2 = pd.read_csv('medicine_side_effects.csv')\n",
    "\n",
    "df1['subject']=df1['subject'].strip()\n",
    "df1['predicate']=df1['predicate'].strip()\n",
    "df1['object']=df1['object'].str\n",
    "\n",
    "df2['subject']=df2['subject'].str.replace(\" \",\"\")\n",
    "df2['predicate']=df2['predicate'].str.replace(\" \",\"\")\n",
    "df2['object']=df2['object'].str.replace(\" \",\"\")\n",
    "\n",
    "final_df=pd.concat([df1,df2])\n",
    "\n",
    "final_df.to_csv('embeddings_meds.csv',index=False)"
   ]
  },
  {
   "cell_type": "code",
   "execution_count": 3,
   "metadata": {},
   "outputs": [],
   "source": [
    "final_df = pd.read_csv('embeddings_meds.csv')"
   ]
  },
  {
   "cell_type": "code",
   "execution_count": 4,
   "metadata": {},
   "outputs": [
    {
     "data": {
      "text/html": [
       "<div>\n",
       "<style scoped>\n",
       "    .dataframe tbody tr th:only-of-type {\n",
       "        vertical-align: middle;\n",
       "    }\n",
       "\n",
       "    .dataframe tbody tr th {\n",
       "        vertical-align: top;\n",
       "    }\n",
       "\n",
       "    .dataframe thead th {\n",
       "        text-align: right;\n",
       "    }\n",
       "</style>\n",
       "<table border=\"1\" class=\"dataframe\">\n",
       "  <thead>\n",
       "    <tr style=\"text-align: right;\">\n",
       "      <th></th>\n",
       "      <th>subject</th>\n",
       "      <th>predicate</th>\n",
       "      <th>object</th>\n",
       "    </tr>\n",
       "  </thead>\n",
       "  <tbody>\n",
       "    <tr>\n",
       "      <th>0</th>\n",
       "      <td>\"calcifediol\"</td>\n",
       "      <td>use</td>\n",
       "      <td>\"metabolicbonedisease\"</td>\n",
       "    </tr>\n",
       "    <tr>\n",
       "      <th>1</th>\n",
       "      <td>\"calcifediol\"</td>\n",
       "      <td>use</td>\n",
       "      <td>\"kidneydisease\"</td>\n",
       "    </tr>\n",
       "    <tr>\n",
       "      <th>2</th>\n",
       "      <td>\"calcifediol\"</td>\n",
       "      <td>use</td>\n",
       "      <td>\"vitaminDdeficiency\"</td>\n",
       "    </tr>\n",
       "    <tr>\n",
       "      <th>3</th>\n",
       "      <td>\"calcifediol\"</td>\n",
       "      <td>use</td>\n",
       "      <td>\"secondaryhyperparathyroidismofrenalorigin\"</td>\n",
       "    </tr>\n",
       "    <tr>\n",
       "      <th>4</th>\n",
       "      <td>\"armodafinil\"</td>\n",
       "      <td>use</td>\n",
       "      <td>\"narcolepsy\"</td>\n",
       "    </tr>\n",
       "  </tbody>\n",
       "</table>\n",
       "</div>"
      ],
      "text/plain": [
       "         subject predicate                                       object\n",
       "0  \"calcifediol\"       use                       \"metabolicbonedisease\"\n",
       "1  \"calcifediol\"       use                              \"kidneydisease\"\n",
       "2  \"calcifediol\"       use                         \"vitaminDdeficiency\"\n",
       "3  \"calcifediol\"       use  \"secondaryhyperparathyroidismofrenalorigin\"\n",
       "4  \"armodafinil\"       use                                 \"narcolepsy\""
      ]
     },
     "execution_count": 4,
     "metadata": {},
     "output_type": "execute_result"
    }
   ],
   "source": [
    "final_df.head()"
   ]
  },
  {
   "cell_type": "code",
   "execution_count": 21,
   "metadata": {},
   "outputs": [
    {
     "data": {
      "text/plain": [
       "array(['use', 'side_effect'], dtype=object)"
      ]
     },
     "execution_count": 21,
     "metadata": {},
     "output_type": "execute_result"
    }
   ],
   "source": [
    "final_df['predicate'].unique()"
   ]
  },
  {
   "cell_type": "code",
   "execution_count": 5,
   "metadata": {},
   "outputs": [],
   "source": [
    "import ampligraph\n",
    "import numpy as np\n",
    "from ampligraph.evaluation import train_test_split_no_unseen\n",
    "from ampligraph.datasets import load_from_csv\n",
    "import tensorflow as tf\n",
    "from ampligraph.evaluation import evaluate_performance\n",
    "from ampligraph.discovery import find_clusters\n",
    "from sklearn.cluster import KMeans,DBSCAN"
   ]
  },
  {
   "cell_type": "code",
   "execution_count": 10,
   "metadata": {},
   "outputs": [
    {
     "name": "stdout",
     "output_type": "stream",
     "text": [
      "Train set size:  (8994, 3)\n",
      "Test set size:  (999, 3)\n"
     ]
    }
   ],
   "source": [
    "X = load_from_csv('.','embeddings_meds.csv',sep=',')\n",
    "X=X[1:]\n",
    "X_train, X_valid = train_test_split_no_unseen(np.array(X), test_size=int(X.shape[0]/10))\n",
    "from ampligraph.latent_features import ComplEx\n",
    "\n",
    "model = ComplEx(batches_count=50,\n",
    "                epochs=300,\n",
    "                k=100,\n",
    "                eta=20,\n",
    "                optimizer='adam', \n",
    "                optimizer_params={'lr':1e-4},\n",
    "                loss='multiclass_nll',\n",
    "                regularizer='LP', \n",
    "                regularizer_params={'p':3, 'lambda':1e-5}, \n",
    "                seed=0, \n",
    "                verbose=True)\n",
    "\n",
    "print('Train set size: ', X_train.shape)\n",
    "print('Test set size: ', X_valid.shape)\n",
    "\n"
   ]
  },
  {
   "cell_type": "code",
   "execution_count": 11,
   "metadata": {},
   "outputs": [
    {
     "name": "stderr",
     "output_type": "stream",
     "text": [
      "Average Loss:   0.151160: 100%|██████████| 300/300 [03:44<00:00,  1.34epoch/s]\n"
     ]
    }
   ],
   "source": [
    "tf.logging.set_verbosity(tf.logging.ERROR)\n",
    "model.fit(X_train)"
   ]
  },
  {
   "cell_type": "code",
   "execution_count": 12,
   "metadata": {},
   "outputs": [
    {
     "data": {
      "text/plain": [
       "<ampligraph.latent_features.models.ComplEx.ComplEx at 0x7fda493bd090>"
      ]
     },
     "execution_count": 12,
     "metadata": {},
     "output_type": "execute_result"
    }
   ],
   "source": [
    "model"
   ]
  },
  {
   "cell_type": "code",
   "execution_count": 13,
   "metadata": {},
   "outputs": [
    {
     "name": "stdout",
     "output_type": "stream",
     "text": [
      "WARNING - DeprecationWarning: use_default_protocol will be removed in future. Please use corrupt_side argument instead.\n"
     ]
    },
    {
     "name": "stderr",
     "output_type": "stream",
     "text": [
      "100%|██████████| 999/999 [00:06<00:00, 163.06it/s]\n"
     ]
    }
   ],
   "source": [
    "filter_triples = np.concatenate((X_train, X_valid))\n",
    "ranks = evaluate_performance(X_valid,\n",
    "                             model=model, \n",
    "                             filter_triples=filter_triples,\n",
    "                             use_default_protocol=True,\n",
    "                             verbose=True)"
   ]
  },
  {
   "cell_type": "code",
   "execution_count": 14,
   "metadata": {},
   "outputs": [
    {
     "name": "stdout",
     "output_type": "stream",
     "text": [
      "MRR: 0.33\n",
      "MR: 146.16\n",
      "Hits@10: 0.54\n",
      "Hits@3: 0.38\n",
      "Hits@1: 0.23\n"
     ]
    }
   ],
   "source": [
    "from ampligraph.evaluation import mr_score, mrr_score, hits_at_n_score\n",
    "\n",
    "mr = mr_score(ranks)\n",
    "mrr = mrr_score(ranks)\n",
    "\n",
    "print(\"MRR: %.2f\" % (mrr))\n",
    "print(\"MR: %.2f\" % (mr))\n",
    "\n",
    "hits_10 = hits_at_n_score(ranks, n=10)\n",
    "print(\"Hits@10: %.2f\" % (hits_10))\n",
    "hits_3 = hits_at_n_score(ranks, n=3)\n",
    "print(\"Hits@3: %.2f\" % (hits_3))\n",
    "hits_1 = hits_at_n_score(ranks, n=1)\n",
    "print(\"Hits@1: %.2f\" % (hits_1))\n",
    "\n"
   ]
  },
  {
   "cell_type": "code",
   "execution_count": 15,
   "metadata": {},
   "outputs": [
    {
     "data": {
      "text/plain": [
       "1270"
      ]
     },
     "execution_count": 15,
     "metadata": {},
     "output_type": "execute_result"
    }
   ],
   "source": [
    "meds =np.array(list(set(X_train[:,0])))\n",
    "meds_embeddings = dict(zip(meds, model.get_embeddings(meds)))\n",
    "len(meds)"
   ]
  },
  {
   "cell_type": "code",
   "execution_count": 16,
   "metadata": {},
   "outputs": [
    {
     "data": {
      "text/plain": [
       "1270"
      ]
     },
     "execution_count": 16,
     "metadata": {},
     "output_type": "execute_result"
    }
   ],
   "source": [
    "len(dict(zip(meds,(model.get_embeddings(meds)))))"
   ]
  },
  {
   "cell_type": "code",
   "execution_count": 19,
   "metadata": {},
   "outputs": [
    {
     "data": {
      "text/plain": [
       "1270"
      ]
     },
     "execution_count": 19,
     "metadata": {},
     "output_type": "execute_result"
    }
   ],
   "source": [
    "medicines =np.array(list(set(X_train[:,0])))\n",
    "medicines = dict(zip(medicines, model.get_embeddings(medicines)))\n",
    "len(medicines)"
   ]
  },
  {
   "cell_type": "code",
   "execution_count": 20,
   "metadata": {},
   "outputs": [
    {
     "data": {
      "text/plain": [
       "array([['calcifediol', 'use', 'metabolic bone disease'],\n",
       "       ['calcifediol', 'use', 'kidney disease'],\n",
       "       ['calcifediol', 'use', 'vitamin D deficiency'],\n",
       "       ...,\n",
       "       ['Hydrochlorothiazide / Triamterene', 'side_effect', 'fatigue'],\n",
       "       ['Hydrochlorothiazide / Triamterene', 'side_effect', 'dizziness'],\n",
       "       ['Hydrochlorothiazide / Triamterene', 'side_effect',\n",
       "        'blurred vision']], dtype=object)"
      ]
     },
     "execution_count": 20,
     "metadata": {},
     "output_type": "execute_result"
    }
   ],
   "source": [
    "X"
   ]
  },
  {
   "cell_type": "code",
   "execution_count": 75,
   "metadata": {},
   "outputs": [],
   "source": [
    "X_unseen = np.array([\n",
    "    \n",
    "    ['rifaximin','side_effect','nausea'],\n",
    "    ['griseofulvin','side_effect', 'diarrhea'],\n",
    "    ['armodafinil','side_effect','nervousness'],\n",
    "    [\"azathioprine\",'side_effect','fatigue']\n",
    "    \n",
    "    \n",
    "])"
   ]
  },
  {
   "cell_type": "code",
   "execution_count": 76,
   "metadata": {},
   "outputs": [],
   "source": [
    "positives_filter = X"
   ]
  },
  {
   "cell_type": "code",
   "execution_count": 77,
   "metadata": {},
   "outputs": [],
   "source": [
    "unseen_filter = np.array(list({tuple(i) for i in np.vstack((positives_filter, X_unseen))}))"
   ]
  },
  {
   "cell_type": "code",
   "execution_count": 78,
   "metadata": {},
   "outputs": [
    {
     "name": "stderr",
     "output_type": "stream",
     "text": [
      "100%|██████████| 4/4 [00:00<00:00, 41.01it/s]\n"
     ]
    }
   ],
   "source": [
    "ranks_unseen = evaluate_performance(\n",
    "    X_unseen, \n",
    "    model=model, \n",
    "    filter_triples=unseen_filter,\n",
    "    corrupt_side = 's+o',\n",
    "    use_default_protocol=False,\n",
    "    verbose=True,\n",
    "    filter_unseen=True\n",
    ")"
   ]
  },
  {
   "cell_type": "code",
   "execution_count": 79,
   "metadata": {},
   "outputs": [
    {
     "data": {
      "text/html": [
       "<div>\n",
       "<style scoped>\n",
       "    .dataframe tbody tr th:only-of-type {\n",
       "        vertical-align: middle;\n",
       "    }\n",
       "\n",
       "    .dataframe tbody tr th {\n",
       "        vertical-align: top;\n",
       "    }\n",
       "\n",
       "    .dataframe thead th {\n",
       "        text-align: right;\n",
       "    }\n",
       "</style>\n",
       "<table border=\"1\" class=\"dataframe\">\n",
       "  <thead>\n",
       "    <tr style=\"text-align: right;\">\n",
       "      <th></th>\n",
       "      <th>statement</th>\n",
       "      <th>rank</th>\n",
       "      <th>score</th>\n",
       "      <th>prob</th>\n",
       "    </tr>\n",
       "  </thead>\n",
       "  <tbody>\n",
       "    <tr>\n",
       "      <th>2</th>\n",
       "      <td>armodafinil side_effect nervousness</td>\n",
       "      <td>2814</td>\n",
       "      <td>-0.195489</td>\n",
       "      <td>0.451283</td>\n",
       "    </tr>\n",
       "    <tr>\n",
       "      <th>3</th>\n",
       "      <td>azathioprine side_effect fatigue</td>\n",
       "      <td>3896</td>\n",
       "      <td>-0.724103</td>\n",
       "      <td>0.326490</td>\n",
       "    </tr>\n",
       "    <tr>\n",
       "      <th>0</th>\n",
       "      <td>rifaximin side_effect nausea</td>\n",
       "      <td>4077</td>\n",
       "      <td>-2.951048</td>\n",
       "      <td>0.049687</td>\n",
       "    </tr>\n",
       "    <tr>\n",
       "      <th>1</th>\n",
       "      <td>griseofulvin side_effect diarrhea</td>\n",
       "      <td>5164</td>\n",
       "      <td>-4.539962</td>\n",
       "      <td>0.010561</td>\n",
       "    </tr>\n",
       "  </tbody>\n",
       "</table>\n",
       "</div>"
      ],
      "text/plain": [
       "                             statement  rank     score      prob\n",
       "2  armodafinil side_effect nervousness  2814 -0.195489  0.451283\n",
       "3     azathioprine side_effect fatigue  3896 -0.724103  0.326490\n",
       "0         rifaximin side_effect nausea  4077 -2.951048  0.049687\n",
       "1    griseofulvin side_effect diarrhea  5164 -4.539962  0.010561"
      ]
     },
     "execution_count": 79,
     "metadata": {},
     "output_type": "execute_result"
    }
   ],
   "source": [
    "scores = model.predict(X_unseen)\n",
    "from scipy.special import expit\n",
    "probs = expit(scores)\n",
    "pd.DataFrame(list(zip([' '.join(x) for x in X_unseen], \n",
    "                      ranks_unseen, \n",
    "                      scores,\n",
    "                      probs)),\n",
    "             columns=['statement', 'rank', 'score', 'prob']).sort_values(\"score\", ascending=False)"
   ]
  },
  {
   "cell_type": "code",
   "execution_count": null,
   "metadata": {},
   "outputs": [],
   "source": []
  }
 ],
 "metadata": {
  "kernelspec": {
   "display_name": "Python 3",
   "language": "python",
   "name": "python3"
  },
  "language_info": {
   "codemirror_mode": {
    "name": "ipython",
    "version": 3
   },
   "file_extension": ".py",
   "mimetype": "text/x-python",
   "name": "python",
   "nbconvert_exporter": "python",
   "pygments_lexer": "ipython3",
   "version": "3.7.6"
  }
 },
 "nbformat": 4,
 "nbformat_minor": 2
}
