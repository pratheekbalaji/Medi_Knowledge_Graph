{
 "cells": [
  {
   "cell_type": "code",
   "execution_count": 39,
   "metadata": {},
   "outputs": [],
   "source": [
    "import pandas as pd\n",
    "import os"
   ]
  },
  {
   "cell_type": "code",
   "execution_count": 40,
   "metadata": {},
   "outputs": [
    {
     "data": {
      "text/plain": [
       "['disease_cause.csv',\n",
       " 'Untitled.ipynb',\n",
       " 'disease_specialty.csv',\n",
       " 'embeddigs_diseases.csv',\n",
       " '.ipynb_checkpoints',\n",
       " 'disease_symptoms.csv']"
      ]
     },
     "execution_count": 40,
     "metadata": {},
     "output_type": "execute_result"
    }
   ],
   "source": [
    "os.listdir()"
   ]
  },
  {
   "cell_type": "code",
   "execution_count": 45,
   "metadata": {},
   "outputs": [],
   "source": [
    "df1 = pd.read_csv('disease_cause.csv')\n",
    "df2 = pd.read_csv('disease_specialty.csv')\n",
    "df3 = pd.read_csv('disease_symptoms.csv')"
   ]
  },
  {
   "cell_type": "code",
   "execution_count": 46,
   "metadata": {},
   "outputs": [],
   "source": [
    "final_df=pd.concat([df1,df2,df3])\n",
    "\n",
    "final_df.to_csv('embeddigs_diseases.csv',index=False)"
   ]
  },
  {
   "cell_type": "code",
   "execution_count": 43,
   "metadata": {},
   "outputs": [
    {
     "data": {
      "text/html": [
       "<div>\n",
       "<style scoped>\n",
       "    .dataframe tbody tr th:only-of-type {\n",
       "        vertical-align: middle;\n",
       "    }\n",
       "\n",
       "    .dataframe tbody tr th {\n",
       "        vertical-align: top;\n",
       "    }\n",
       "\n",
       "    .dataframe thead th {\n",
       "        text-align: right;\n",
       "    }\n",
       "</style>\n",
       "<table border=\"1\" class=\"dataframe\">\n",
       "  <thead>\n",
       "    <tr style=\"text-align: right;\">\n",
       "      <th></th>\n",
       "      <th>subject</th>\n",
       "      <th>predicate</th>\n",
       "      <th>object</th>\n",
       "    </tr>\n",
       "  </thead>\n",
       "  <tbody>\n",
       "    <tr>\n",
       "      <th>0</th>\n",
       "      <td>\"encephalitis\"</td>\n",
       "      <td>Cause</td>\n",
       "      <td>\"rabies\"</td>\n",
       "    </tr>\n",
       "    <tr>\n",
       "      <th>1</th>\n",
       "      <td>\"bacterial vaginosis\"</td>\n",
       "      <td>Cause</td>\n",
       "      <td>\"Gardnerella vaginalis\"</td>\n",
       "    </tr>\n",
       "    <tr>\n",
       "      <th>2</th>\n",
       "      <td>\"obsolete adenovirus infectious disease\"</td>\n",
       "      <td>Cause</td>\n",
       "      <td>\"Adenoviridae\"</td>\n",
       "    </tr>\n",
       "    <tr>\n",
       "      <th>3</th>\n",
       "      <td>\"spinal stenosis\"</td>\n",
       "      <td>Cause</td>\n",
       "      <td>\"spondylosis\"</td>\n",
       "    </tr>\n",
       "    <tr>\n",
       "      <th>4</th>\n",
       "      <td>\"endemic goiter\"</td>\n",
       "      <td>Cause</td>\n",
       "      <td>\"iodine deficiency\"</td>\n",
       "    </tr>\n",
       "    <tr>\n",
       "      <th>...</th>\n",
       "      <td>...</td>\n",
       "      <td>...</td>\n",
       "      <td>...</td>\n",
       "    </tr>\n",
       "    <tr>\n",
       "      <th>1627</th>\n",
       "      <td>\"primary amebic meningoencephalitis\"</td>\n",
       "      <td>Symptom</td>\n",
       "      <td>\"ulcer\"</td>\n",
       "    </tr>\n",
       "    <tr>\n",
       "      <th>1628</th>\n",
       "      <td>\"Crohn's disease\"</td>\n",
       "      <td>Symptom</td>\n",
       "      <td>\"ulcer\"</td>\n",
       "    </tr>\n",
       "    <tr>\n",
       "      <th>1629</th>\n",
       "      <td>\"acrodermatitis enteropathica\"</td>\n",
       "      <td>Symptom</td>\n",
       "      <td>\"alopecia\"</td>\n",
       "    </tr>\n",
       "    <tr>\n",
       "      <th>1630</th>\n",
       "      <td>\"Lassa fever\"</td>\n",
       "      <td>Symptom</td>\n",
       "      <td>\"alopecia\"</td>\n",
       "    </tr>\n",
       "    <tr>\n",
       "      <th>1631</th>\n",
       "      <td>\"mercury poisoning\"</td>\n",
       "      <td>Symptom</td>\n",
       "      <td>\"proteinuria\"</td>\n",
       "    </tr>\n",
       "  </tbody>\n",
       "</table>\n",
       "<p>9554 rows × 3 columns</p>\n",
       "</div>"
      ],
      "text/plain": [
       "                                         subject predicate  \\\n",
       "0                                \"encephalitis\"      Cause   \n",
       "1                         \"bacterial vaginosis\"      Cause   \n",
       "2      \"obsolete adenovirus infectious disease\"      Cause   \n",
       "3                             \"spinal stenosis\"      Cause   \n",
       "4                              \"endemic goiter\"      Cause   \n",
       "...                                          ...       ...   \n",
       "1627       \"primary amebic meningoencephalitis\"    Symptom   \n",
       "1628                          \"Crohn's disease\"    Symptom   \n",
       "1629             \"acrodermatitis enteropathica\"    Symptom   \n",
       "1630                              \"Lassa fever\"    Symptom   \n",
       "1631                        \"mercury poisoning\"    Symptom   \n",
       "\n",
       "                         object  \n",
       "0                     \"rabies\"   \n",
       "1      \"Gardnerella vaginalis\"   \n",
       "2               \"Adenoviridae\"   \n",
       "3                \"spondylosis\"   \n",
       "4          \"iodine deficiency\"   \n",
       "...                         ...  \n",
       "1627                   \"ulcer\"   \n",
       "1628                   \"ulcer\"   \n",
       "1629                \"alopecia\"   \n",
       "1630                \"alopecia\"   \n",
       "1631             \"proteinuria\"   \n",
       "\n",
       "[9554 rows x 3 columns]"
      ]
     },
     "execution_count": 43,
     "metadata": {},
     "output_type": "execute_result"
    }
   ],
   "source": [
    "final_df"
   ]
  },
  {
   "cell_type": "code",
   "execution_count": 59,
   "metadata": {},
   "outputs": [],
   "source": [
    "import ampligraph\n",
    "import numpy as np"
   ]
  },
  {
   "cell_type": "code",
   "execution_count": 49,
   "metadata": {},
   "outputs": [],
   "source": [
    "from ampligraph.evaluation import train_test_split_no_unseen\n",
    "from ampligraph.datasets import load_from_csv\n"
   ]
  },
  {
   "cell_type": "code",
   "execution_count": 54,
   "metadata": {},
   "outputs": [],
   "source": [
    "X = load_from_csv('.','embeddigs_diseases.csv',sep=',')"
   ]
  },
  {
   "cell_type": "code",
   "execution_count": 57,
   "metadata": {},
   "outputs": [
    {
     "data": {
      "text/plain": [
       "9552"
      ]
     },
     "execution_count": 57,
     "metadata": {},
     "output_type": "execute_result"
    }
   ],
   "source": [
    "X.shape[0]"
   ]
  },
  {
   "cell_type": "code",
   "execution_count": 64,
   "metadata": {},
   "outputs": [],
   "source": [
    "X_train, X_valid = train_test_split_no_unseen(np.array(X), test_size=int(X.shape[0]/10))"
   ]
  },
  {
   "cell_type": "code",
   "execution_count": 65,
   "metadata": {},
   "outputs": [
    {
     "data": {
      "text/plain": [
       "array([[' \"encephalitis\" ', 'Cause', ' \"rabies\" '],\n",
       "       [' \"bacterial vaginosis\" ', 'Cause', ' \"Gardnerella vaginalis\" '],\n",
       "       [' \"obsolete adenovirus infectious disease\" ', 'Cause',\n",
       "        ' \"Adenoviridae\" '],\n",
       "       ...,\n",
       "       [' \"acrodermatitis enteropathica\" ', 'Symptom', ' \"alopecia\" '],\n",
       "       [' \"Lassa fever\" ', 'Symptom', ' \"alopecia\" '],\n",
       "       [' \"mercury poisoning\" ', 'Symptom', ' \"proteinuria\" ']],\n",
       "      dtype=object)"
      ]
     },
     "execution_count": 65,
     "metadata": {},
     "output_type": "execute_result"
    }
   ],
   "source": [
    "X_train"
   ]
  },
  {
   "cell_type": "code",
   "execution_count": 66,
   "metadata": {},
   "outputs": [
    {
     "name": "stdout",
     "output_type": "stream",
     "text": [
      "Train set size:  (8597, 3)\n",
      "Test set size:  (955, 3)\n"
     ]
    }
   ],
   "source": [
    "print('Train set size: ', X_train.shape)\n",
    "print('Test set size: ', X_valid.shape)\n"
   ]
  },
  {
   "cell_type": "code",
   "execution_count": 67,
   "metadata": {},
   "outputs": [],
   "source": [
    "from ampligraph.latent_features import ComplEx\n",
    "\n",
    "model = ComplEx(batches_count=50,\n",
    "                epochs=300,\n",
    "                k=100,\n",
    "                eta=20,\n",
    "                optimizer='adam', \n",
    "                optimizer_params={'lr':1e-4},\n",
    "                loss='multiclass_nll',\n",
    "                regularizer='LP', \n",
    "                regularizer_params={'p':3, 'lambda':1e-5}, \n",
    "                seed=0, \n",
    "                verbose=True)"
   ]
  },
  {
   "cell_type": "code",
   "execution_count": 68,
   "metadata": {},
   "outputs": [
    {
     "name": "stderr",
     "output_type": "stream",
     "text": [
      "Average Loss:   0.361013: 100%|██████████| 300/300 [05:46<00:00,  1.15s/epoch]\n"
     ]
    }
   ],
   "source": [
    "import tensorflow as tf\n",
    "tf.logging.set_verbosity(tf.logging.ERROR)\n",
    "\n",
    "model.fit(X_train)\n"
   ]
  },
  {
   "cell_type": "code",
   "execution_count": 70,
   "metadata": {},
   "outputs": [
    {
     "name": "stdout",
     "output_type": "stream",
     "text": [
      "WARNING - DeprecationWarning: use_default_protocol will be removed in future. Please use corrupt_side argument instead.\n"
     ]
    },
    {
     "name": "stderr",
     "output_type": "stream",
     "text": [
      "100%|██████████| 955/955 [00:20<00:00, 47.47it/s]\n"
     ]
    }
   ],
   "source": [
    "from ampligraph.evaluation import evaluate_performance\n",
    "filter_triples = np.concatenate((X_train, X_valid))\n",
    "ranks = evaluate_performance(X_valid,\n",
    "                             model=model, \n",
    "                             filter_triples=filter_triples,\n",
    "                             use_default_protocol=True,\n",
    "                             verbose=True)"
   ]
  },
  {
   "cell_type": "code",
   "execution_count": 71,
   "metadata": {},
   "outputs": [
    {
     "name": "stdout",
     "output_type": "stream",
     "text": [
      "MRR: 0.08\n",
      "MR: 2043.11\n",
      "Hits@10: 0.17\n",
      "Hits@3: 0.09\n",
      "Hits@1: 0.04\n"
     ]
    }
   ],
   "source": [
    "from ampligraph.evaluation import mr_score, mrr_score, hits_at_n_score\n",
    "\n",
    "mr = mr_score(ranks)\n",
    "mrr = mrr_score(ranks)\n",
    "\n",
    "print(\"MRR: %.2f\" % (mrr))\n",
    "print(\"MR: %.2f\" % (mr))\n",
    "\n",
    "hits_10 = hits_at_n_score(ranks, n=10)\n",
    "print(\"Hits@10: %.2f\" % (hits_10))\n",
    "hits_3 = hits_at_n_score(ranks, n=3)\n",
    "print(\"Hits@3: %.2f\" % (hits_3))\n",
    "hits_1 = hits_at_n_score(ranks, n=1)\n",
    "print(\"Hits@1: %.2f\" % (hits_1))\n"
   ]
  },
  {
   "cell_type": "code",
   "execution_count": null,
   "metadata": {},
   "outputs": [],
   "source": [
    "from ampligraph.discovery import find_clusters\n",
    "from sklearn.cluster import KMeans"
   ]
  },
  {
   "cell_type": "code",
   "execution_count": 125,
   "metadata": {},
   "outputs": [
    {
     "data": {
      "text/plain": [
       "6151"
      ]
     },
     "execution_count": 125,
     "metadata": {},
     "output_type": "execute_result"
    }
   ],
   "source": [
    "diseases =np.array(list(set(X_train[:,0])))\n",
    "disease_embeddings = dict(zip(diseases, model.get_embeddings(diseases)))\n",
    "len(diseases)"
   ]
  },
  {
   "cell_type": "code",
   "execution_count": 126,
   "metadata": {},
   "outputs": [
    {
     "data": {
      "text/plain": [
       "6151"
      ]
     },
     "execution_count": 126,
     "metadata": {},
     "output_type": "execute_result"
    }
   ],
   "source": [
    "len(dict(zip(diseases,(model.get_embeddings(diseases)))))"
   ]
  },
  {
   "cell_type": "code",
   "execution_count": 127,
   "metadata": {},
   "outputs": [],
   "source": [
    "from sklearn.decomposition import PCA\n",
    "import matplotlib.pyplot as plt\n",
    "import seaborn as sns\n",
    "embeddings_2d = PCA(n_components=2).fit_transform(np.array([i for i in disease_embeddings.values()]))\n"
   ]
  },
  {
   "cell_type": "code",
   "execution_count": 110,
   "metadata": {},
   "outputs": [
    {
     "data": {
      "text/plain": [
       "(9552, 3)"
      ]
     },
     "execution_count": 110,
     "metadata": {},
     "output_type": "execute_result"
    }
   ],
   "source": []
  },
  {
   "cell_type": "code",
   "execution_count": 413,
   "metadata": {},
   "outputs": [],
   "source": [
    "from ampligraph.discovery import find_clusters\n",
    "from sklearn.cluster import KMeans,DBSCAN,OPTICS\n",
    "\n",
    "clustering_algorithm = DBSCAN(min_samples=2)\n",
    "clusters = find_clusters(diseases, model, clustering_algorithm, mode='entity')"
   ]
  },
  {
   "cell_type": "code",
   "execution_count": 414,
   "metadata": {},
   "outputs": [
    {
     "data": {
      "text/plain": [
       "array([ -1,   0,   1,   2,   3,   4,   5,   6,   7,   8,   9,  10,  11,\n",
       "        12,  13,  14,  15,  16,  17,  18,  19,  20,  21,  22,  23,  24,\n",
       "        25,  26,  27,  28,  29,  30,  31,  32,  33,  34,  35,  36,  37,\n",
       "        38,  39,  40,  41,  42,  43,  44,  45,  46,  47,  48,  49,  50,\n",
       "        51,  52,  53,  54,  55,  56,  57,  58,  59,  60,  61,  62,  63,\n",
       "        64,  65,  66,  67,  68,  69,  70,  71,  72,  73,  74,  75,  76,\n",
       "        77,  78,  79,  80,  81,  82,  83,  84,  85,  86,  87,  88,  89,\n",
       "        90,  91,  92,  93,  94,  95,  96,  97,  98,  99, 100, 101, 102,\n",
       "       103, 104, 105, 106, 107, 108, 109, 110, 111, 112, 113, 114, 115,\n",
       "       116, 117, 118, 119, 120, 121, 122, 123, 124, 125, 126, 127, 128,\n",
       "       129, 130, 131, 132, 133, 134, 135, 136, 137, 138, 139, 140, 141,\n",
       "       142, 143, 144, 145, 146, 147, 148, 149, 150])"
      ]
     },
     "execution_count": 414,
     "metadata": {},
     "output_type": "execute_result"
    }
   ],
   "source": [
    "np.unique(clusters)"
   ]
  },
  {
   "cell_type": "code",
   "execution_count": 476,
   "metadata": {},
   "outputs": [],
   "source": [
    "plot_df = pd.DataFrame({\"diseases\": diseases, \n",
    "                        \"embedding1\": embeddings_2d[:, 0], \n",
    "                        \"embedding2\": embeddings_2d[:, 1],\n",
    "                        \"cluster\": \"cluster\" + pd.Series(clusters).astype(str)})"
   ]
  },
  {
   "cell_type": "code",
   "execution_count": 478,
   "metadata": {},
   "outputs": [],
   "source": [
    "plot_df_display =plot_df[(plot_df['cluster']=='cluster0')|(plot_df['cluster']=='cluster1')|(plot_df['cluster']=='cluster2')\n",
    "       |(plot_df['cluster']=='cluster3')|(plot_df['cluster']=='cluster6')|(plot_df['cluster']=='cluster9')\n",
    "        |(plot_df['cluster']=='cluster24')]"
   ]
  },
  {
   "cell_type": "code",
   "execution_count": 479,
   "metadata": {},
   "outputs": [],
   "source": [
    "def plot_clusters(hue):\n",
    "    np.random.seed(0)\n",
    "    plt.figure(figsize=(20, 15))\n",
    "    plt.title(\"{} embeddings\".format(hue).capitalize())\n",
    "    d = {}\n",
    "    \n",
    "    clusters = ['cluster0','cluster1','cluster2','cluster3','cluster6','cluster9','cluster24']\n",
    "    title =['Lung Conditions','Cancer and Tumor','Genital Related','Dental Related','Immuno Realted',\n",
    "            'Kidney Related','Infectious Disease']\n",
    "    for i,c in enumerate(clusters):\n",
    "        d[c] = title[i]\n",
    "    \n",
    "   \n",
    "    ax = sns.scatterplot(data=plot_df_display, x=\"embedding1\", y=\"embedding2\", hue=hue)\n",
    "    leg_handles = ax.get_legend_handles_labels()[0]\n",
    "    ax.legend(leg_handles,d.values(), title='New legend')\n",
    "    \n",
    "    \n",
    "    data=plot_df[plot_df.diseases!=\"unk\"]\n",
    "    texts = []\n",
    "    \n",
    "    "
   ]
  },
  {
   "cell_type": "code",
   "execution_count": 480,
   "metadata": {},
   "outputs": [
    {
     "data": {
      "image/png": "[encoded data removed]",
      "text/plain": [
       "<Figure size 1440x1080 with 1 Axes>"
      ]
     },
     "metadata": {
      "needs_background": "light"
     },
     "output_type": "display_data"
    }
   ],
   "source": [
    "plot_clusters('cluster')"
   ]
  },
  {
   "cell_type": "code",
   "execution_count": 485,
   "metadata": {},
   "outputs": [],
   "source": [
    "clusters = ['cluster0','cluster1','cluster2','cluster3','cluster6','cluster9','cluster24']\n",
    "title =['Lung Conditions','Cancer and Tumor','Genital Related','Dental Related','Immuno Realted',\n",
    "        'Kidney Related','Infectious Disease']\n",
    "d = {}\n",
    "for i,c in enumerate(clusters):\n",
    "    d[c] = title[i]"
   ]
  },
  {
   "cell_type": "code",
   "execution_count": 490,
   "metadata": {},
   "outputs": [],
   "source": [
    "clusters = ['cluster0','cluster1','cluster2','cluster3','cluster6','cluster9','cluster24']\n",
    "df = pd.DataFrame(columns=d.values())\n",
    "l = []\n",
    "for cluster in clusters:\n",
    "       l.append(list(plot_df[plot_df['cluster']==cluster]['diseases'].head()))\n",
    "# df=pd.DataFrame({'Cluster0 :Hypertension Medicines':hypt,'Cluster1:Diabetes Medicine':hypt2,'Cluster2:Imsomnia Medicines':hypt3}\n",
    "# plot_df_display[plot_df_display['cluster']=='cluster0'].head()\n"
   ]
  },
  {
   "cell_type": "code",
   "execution_count": 505,
   "metadata": {},
   "outputs": [
    {
     "data": {
      "text/html": [
       "<div>\n",
       "<style scoped>\n",
       "    .dataframe tbody tr th:only-of-type {\n",
       "        vertical-align: middle;\n",
       "    }\n",
       "\n",
       "    .dataframe tbody tr th {\n",
       "        vertical-align: top;\n",
       "    }\n",
       "\n",
       "    .dataframe thead th {\n",
       "        text-align: right;\n",
       "    }\n",
       "</style>\n",
       "<table border=\"1\" class=\"dataframe\">\n",
       "  <thead>\n",
       "    <tr style=\"text-align: right;\">\n",
       "      <th></th>\n",
       "      <th>Lung Conditions</th>\n",
       "      <th>Cancer and Tumor</th>\n",
       "      <th>Genital Related</th>\n",
       "      <th>Dental Related</th>\n",
       "      <th>Immuno Realted</th>\n",
       "      <th>Kidney Related</th>\n",
       "      <th>Infectious Disease</th>\n",
       "    </tr>\n",
       "  </thead>\n",
       "  <tbody>\n",
       "  </tbody>\n",
       "</table>\n",
       "</div>"
      ],
      "text/plain": [
       "Empty DataFrame\n",
       "Columns: [Lung Conditions, Cancer and Tumor, Genital Related, Dental Related, Immuno Realted, Kidney Related, Infectious Disease]\n",
       "Index: []"
      ]
     },
     "execution_count": 505,
     "metadata": {},
     "output_type": "execute_result"
    }
   ],
   "source": [
    "df\n"
   ]
  },
  {
   "cell_type": "code",
   "execution_count": 499,
   "metadata": {},
   "outputs": [
    {
     "data": {
      "text/plain": [
       "7"
      ]
     },
     "execution_count": 499,
     "metadata": {},
     "output_type": "execute_result"
    }
   ],
   "source": [
    "len(l)"
   ]
  },
  {
   "cell_type": "code",
   "execution_count": 509,
   "metadata": {},
   "outputs": [],
   "source": [
    "for i in range (len(l[0])):\n",
    "    values = [l[0][i]]\n",
    "    for j in range (1,len(l)):\n",
    "        values.append(l[j][i])\n",
    "    df.loc[len(df)] = values\n",
    "    \n",
    "        \n",
    "        "
   ]
  },
  {
   "cell_type": "code",
   "execution_count": 510,
   "metadata": {},
   "outputs": [
    {
     "data": {
      "text/html": [
       "<div>\n",
       "<style scoped>\n",
       "    .dataframe tbody tr th:only-of-type {\n",
       "        vertical-align: middle;\n",
       "    }\n",
       "\n",
       "    .dataframe tbody tr th {\n",
       "        vertical-align: top;\n",
       "    }\n",
       "\n",
       "    .dataframe thead th {\n",
       "        text-align: right;\n",
       "    }\n",
       "</style>\n",
       "<table border=\"1\" class=\"dataframe\">\n",
       "  <thead>\n",
       "    <tr style=\"text-align: right;\">\n",
       "      <th></th>\n",
       "      <th>Lung Conditions</th>\n",
       "      <th>Cancer and Tumor</th>\n",
       "      <th>Genital Related</th>\n",
       "      <th>Dental Related</th>\n",
       "      <th>Immuno Realted</th>\n",
       "      <th>Kidney Related</th>\n",
       "      <th>Infectious Disease</th>\n",
       "    </tr>\n",
       "  </thead>\n",
       "  <tbody>\n",
       "    <tr>\n",
       "      <th>0</th>\n",
       "      <td>\"farmer's lung\"</td>\n",
       "      <td>\"liposarcoma\"</td>\n",
       "      <td>\"atrophic vulva\"</td>\n",
       "      <td>\"focal epithelial hyperplasia\"</td>\n",
       "      <td>\"hypersensitivity reaction type III disease\"</td>\n",
       "      <td>\"renal tubular acidosis\"</td>\n",
       "      <td>\"blackwater fever\"</td>\n",
       "    </tr>\n",
       "    <tr>\n",
       "      <th>1</th>\n",
       "      <td>\"pleuropneumonia\"</td>\n",
       "      <td>\"Large-cell lymphoma\"</td>\n",
       "      <td>\"lateral cystocele\"</td>\n",
       "      <td>\"gingival disease\"</td>\n",
       "      <td>\"adenosine deaminase deficiency\"</td>\n",
       "      <td>\"nephrosclerosis\"</td>\n",
       "      <td>\"Tinea\"</td>\n",
       "    </tr>\n",
       "    <tr>\n",
       "      <th>2</th>\n",
       "      <td>\"Hamman's syndrome\"</td>\n",
       "      <td>\"Islet cell carcinoma\"</td>\n",
       "      <td>\"oophoritis\"</td>\n",
       "      <td>\"stomatognathic system abnormality\"</td>\n",
       "      <td>\"immune dysregulation-polyendocrinopathy-ente...</td>\n",
       "      <td>\"Fanconi syndrome\"</td>\n",
       "      <td>\"seminal vesicle chronic gonorrhea\"</td>\n",
       "    </tr>\n",
       "    <tr>\n",
       "      <th>3</th>\n",
       "      <td>\"cough variant asthma\"</td>\n",
       "      <td>\"subglottis cancer\"</td>\n",
       "      <td>\"urethral disease\"</td>\n",
       "      <td>\"oral cavity neoplasm\"</td>\n",
       "      <td>\"Job's syndrome\"</td>\n",
       "      <td>\"Reflux nephropathy\"</td>\n",
       "      <td>\"hepatitis A\"</td>\n",
       "    </tr>\n",
       "    <tr>\n",
       "      <th>4</th>\n",
       "      <td>\"mediastinal cyst\"</td>\n",
       "      <td>\"rectum cancer\"</td>\n",
       "      <td>\"Balanoposthitis\"</td>\n",
       "      <td>\"mesial movement of teeth\"</td>\n",
       "      <td>\"Schnitzler syndrome\"</td>\n",
       "      <td>\"lipoid nephrosis\"</td>\n",
       "      <td>\"dengue hemorrhagic fever\"</td>\n",
       "    </tr>\n",
       "  </tbody>\n",
       "</table>\n",
       "</div>"
      ],
      "text/plain": [
       "            Lung Conditions          Cancer and Tumor        Genital Related  \\\n",
       "0          \"farmer's lung\"             \"liposarcoma\"       \"atrophic vulva\"    \n",
       "1        \"pleuropneumonia\"     \"Large-cell lymphoma\"    \"lateral cystocele\"    \n",
       "2      \"Hamman's syndrome\"    \"Islet cell carcinoma\"           \"oophoritis\"    \n",
       "3   \"cough variant asthma\"       \"subglottis cancer\"     \"urethral disease\"    \n",
       "4       \"mediastinal cyst\"           \"rectum cancer\"      \"Balanoposthitis\"    \n",
       "\n",
       "                          Dental Related  \\\n",
       "0        \"focal epithelial hyperplasia\"    \n",
       "1                    \"gingival disease\"    \n",
       "2   \"stomatognathic system abnormality\"    \n",
       "3                \"oral cavity neoplasm\"    \n",
       "4            \"mesial movement of teeth\"    \n",
       "\n",
       "                                      Immuno Realted  \\\n",
       "0      \"hypersensitivity reaction type III disease\"    \n",
       "1                  \"adenosine deaminase deficiency\"    \n",
       "2   \"immune dysregulation-polyendocrinopathy-ente...   \n",
       "3                                  \"Job's syndrome\"    \n",
       "4                             \"Schnitzler syndrome\"    \n",
       "\n",
       "               Kidney Related                     Infectious Disease  \n",
       "0   \"renal tubular acidosis\"                     \"blackwater fever\"   \n",
       "1          \"nephrosclerosis\"                                \"Tinea\"   \n",
       "2         \"Fanconi syndrome\"    \"seminal vesicle chronic gonorrhea\"   \n",
       "3       \"Reflux nephropathy\"                          \"hepatitis A\"   \n",
       "4         \"lipoid nephrosis\"             \"dengue hemorrhagic fever\"   "
      ]
     },
     "execution_count": 510,
     "metadata": {},
     "output_type": "execute_result"
    }
   ],
   "source": [
    "df.head()"
   ]
  },
  {
   "cell_type": "code",
   "execution_count": 433,
   "metadata": {},
   "outputs": [
    {
     "data": {
      "text/html": [
       "<div>\n",
       "<style scoped>\n",
       "    .dataframe tbody tr th:only-of-type {\n",
       "        vertical-align: middle;\n",
       "    }\n",
       "\n",
       "    .dataframe tbody tr th {\n",
       "        vertical-align: top;\n",
       "    }\n",
       "\n",
       "    .dataframe thead th {\n",
       "        text-align: right;\n",
       "    }\n",
       "</style>\n",
       "<table border=\"1\" class=\"dataframe\">\n",
       "  <thead>\n",
       "    <tr style=\"text-align: right;\">\n",
       "      <th></th>\n",
       "      <th>diseases</th>\n",
       "      <th>embedding1</th>\n",
       "      <th>embedding2</th>\n",
       "      <th>cluster</th>\n",
       "    </tr>\n",
       "  </thead>\n",
       "  <tbody>\n",
       "    <tr>\n",
       "      <th>2</th>\n",
       "      <td>\"avoidant personality disorder\"</td>\n",
       "      <td>-0.021894</td>\n",
       "      <td>0.594074</td>\n",
       "      <td>cluster-1</td>\n",
       "    </tr>\n",
       "    <tr>\n",
       "      <th>7</th>\n",
       "      <td>\"rubella\"</td>\n",
       "      <td>-0.532136</td>\n",
       "      <td>0.985786</td>\n",
       "      <td>cluster-1</td>\n",
       "    </tr>\n",
       "    <tr>\n",
       "      <th>16</th>\n",
       "      <td>\"toxoplasmosis\"</td>\n",
       "      <td>-0.837693</td>\n",
       "      <td>1.490846</td>\n",
       "      <td>cluster-1</td>\n",
       "    </tr>\n",
       "    <tr>\n",
       "      <th>17</th>\n",
       "      <td>\"lewisite shock\"</td>\n",
       "      <td>0.090311</td>\n",
       "      <td>0.246406</td>\n",
       "      <td>cluster-1</td>\n",
       "    </tr>\n",
       "    <tr>\n",
       "      <th>22</th>\n",
       "      <td>\"Lesch–Nyhan syndrome\"</td>\n",
       "      <td>-0.261821</td>\n",
       "      <td>0.090155</td>\n",
       "      <td>cluster-1</td>\n",
       "    </tr>\n",
       "    <tr>\n",
       "      <th>...</th>\n",
       "      <td>...</td>\n",
       "      <td>...</td>\n",
       "      <td>...</td>\n",
       "      <td>...</td>\n",
       "    </tr>\n",
       "    <tr>\n",
       "      <th>6112</th>\n",
       "      <td>\"monkeypox\"</td>\n",
       "      <td>-0.544872</td>\n",
       "      <td>1.730087</td>\n",
       "      <td>cluster-1</td>\n",
       "    </tr>\n",
       "    <tr>\n",
       "      <th>6113</th>\n",
       "      <td>\"Transient epileptic amnesia\"</td>\n",
       "      <td>-0.056047</td>\n",
       "      <td>0.076847</td>\n",
       "      <td>cluster-1</td>\n",
       "    </tr>\n",
       "    <tr>\n",
       "      <th>6120</th>\n",
       "      <td>\"anemia\"</td>\n",
       "      <td>-0.127353</td>\n",
       "      <td>0.279975</td>\n",
       "      <td>cluster-1</td>\n",
       "    </tr>\n",
       "    <tr>\n",
       "      <th>6122</th>\n",
       "      <td>\"Ascher's syndrome\"</td>\n",
       "      <td>-0.114480</td>\n",
       "      <td>0.340775</td>\n",
       "      <td>cluster-1</td>\n",
       "    </tr>\n",
       "    <tr>\n",
       "      <th>6135</th>\n",
       "      <td>\"encephalitis\"</td>\n",
       "      <td>1.104846</td>\n",
       "      <td>0.144498</td>\n",
       "      <td>cluster-1</td>\n",
       "    </tr>\n",
       "  </tbody>\n",
       "</table>\n",
       "<p>1014 rows × 4 columns</p>\n",
       "</div>"
      ],
      "text/plain": [
       "                               diseases  embedding1  embedding2    cluster\n",
       "2      \"avoidant personality disorder\"    -0.021894    0.594074  cluster-1\n",
       "7                            \"rubella\"    -0.532136    0.985786  cluster-1\n",
       "16                     \"toxoplasmosis\"    -0.837693    1.490846  cluster-1\n",
       "17                    \"lewisite shock\"     0.090311    0.246406  cluster-1\n",
       "22              \"Lesch–Nyhan syndrome\"    -0.261821    0.090155  cluster-1\n",
       "...                                 ...         ...         ...        ...\n",
       "6112                       \"monkeypox\"    -0.544872    1.730087  cluster-1\n",
       "6113     \"Transient epileptic amnesia\"    -0.056047    0.076847  cluster-1\n",
       "6120                          \"anemia\"    -0.127353    0.279975  cluster-1\n",
       "6122               \"Ascher's syndrome\"    -0.114480    0.340775  cluster-1\n",
       "6135                    \"encephalitis\"     1.104846    0.144498  cluster-1\n",
       "\n",
       "[1014 rows x 4 columns]"
      ]
     },
     "execution_count": 433,
     "metadata": {},
     "output_type": "execute_result"
    }
   ],
   "source": [
    "plot_df[plot_df['cluster']=='cluster-1']"
   ]
  },
  {
   "cell_type": "code",
   "execution_count": 442,
   "metadata": {},
   "outputs": [
    {
     "data": {
      "text/html": [
       "<div>\n",
       "<style scoped>\n",
       "    .dataframe tbody tr th:only-of-type {\n",
       "        vertical-align: middle;\n",
       "    }\n",
       "\n",
       "    .dataframe tbody tr th {\n",
       "        vertical-align: top;\n",
       "    }\n",
       "\n",
       "    .dataframe thead th {\n",
       "        text-align: right;\n",
       "    }\n",
       "</style>\n",
       "<table border=\"1\" class=\"dataframe\">\n",
       "  <thead>\n",
       "    <tr style=\"text-align: right;\">\n",
       "      <th></th>\n",
       "      <th>diseases</th>\n",
       "      <th>embedding1</th>\n",
       "      <th>embedding2</th>\n",
       "      <th>cluster</th>\n",
       "    </tr>\n",
       "  </thead>\n",
       "  <tbody>\n",
       "    <tr>\n",
       "      <th>85</th>\n",
       "      <td>\"blackwater fever\"</td>\n",
       "      <td>-0.513295</td>\n",
       "      <td>0.943216</td>\n",
       "      <td>cluster24</td>\n",
       "    </tr>\n",
       "    <tr>\n",
       "      <th>106</th>\n",
       "      <td>\"Tinea\"</td>\n",
       "      <td>-0.580619</td>\n",
       "      <td>0.957296</td>\n",
       "      <td>cluster24</td>\n",
       "    </tr>\n",
       "    <tr>\n",
       "      <th>141</th>\n",
       "      <td>\"seminal vesicle chronic gonorrhea\"</td>\n",
       "      <td>-0.475044</td>\n",
       "      <td>0.914665</td>\n",
       "      <td>cluster24</td>\n",
       "    </tr>\n",
       "    <tr>\n",
       "      <th>145</th>\n",
       "      <td>\"hepatitis A\"</td>\n",
       "      <td>-0.551851</td>\n",
       "      <td>0.958771</td>\n",
       "      <td>cluster24</td>\n",
       "    </tr>\n",
       "    <tr>\n",
       "      <th>304</th>\n",
       "      <td>\"dengue hemorrhagic fever\"</td>\n",
       "      <td>-0.548665</td>\n",
       "      <td>0.931552</td>\n",
       "      <td>cluster24</td>\n",
       "    </tr>\n",
       "    <tr>\n",
       "      <th>...</th>\n",
       "      <td>...</td>\n",
       "      <td>...</td>\n",
       "      <td>...</td>\n",
       "      <td>...</td>\n",
       "    </tr>\n",
       "    <tr>\n",
       "      <th>6055</th>\n",
       "      <td>\"cutaneous anthrax\"</td>\n",
       "      <td>-0.542098</td>\n",
       "      <td>0.943752</td>\n",
       "      <td>cluster24</td>\n",
       "    </tr>\n",
       "    <tr>\n",
       "      <th>6060</th>\n",
       "      <td>\"parasitic helminthiasis infectious disease\"</td>\n",
       "      <td>-0.506461</td>\n",
       "      <td>0.896548</td>\n",
       "      <td>cluster24</td>\n",
       "    </tr>\n",
       "    <tr>\n",
       "      <th>6061</th>\n",
       "      <td>\"ureter tuberculosis\"</td>\n",
       "      <td>-0.541284</td>\n",
       "      <td>0.956987</td>\n",
       "      <td>cluster24</td>\n",
       "    </tr>\n",
       "    <tr>\n",
       "      <th>6104</th>\n",
       "      <td>\"intra-abdominal abscess\"</td>\n",
       "      <td>-0.575717</td>\n",
       "      <td>0.964474</td>\n",
       "      <td>cluster24</td>\n",
       "    </tr>\n",
       "    <tr>\n",
       "      <th>6144</th>\n",
       "      <td>\"secondary syphilis\"</td>\n",
       "      <td>-0.532003</td>\n",
       "      <td>0.972357</td>\n",
       "      <td>cluster24</td>\n",
       "    </tr>\n",
       "  </tbody>\n",
       "</table>\n",
       "<p>235 rows × 4 columns</p>\n",
       "</div>"
      ],
      "text/plain": [
       "                                            diseases  embedding1  embedding2  \\\n",
       "85                               \"blackwater fever\"    -0.513295    0.943216   \n",
       "106                                         \"Tinea\"    -0.580619    0.957296   \n",
       "141             \"seminal vesicle chronic gonorrhea\"    -0.475044    0.914665   \n",
       "145                                   \"hepatitis A\"    -0.551851    0.958771   \n",
       "304                      \"dengue hemorrhagic fever\"    -0.548665    0.931552   \n",
       "...                                              ...         ...         ...   \n",
       "6055                            \"cutaneous anthrax\"    -0.542098    0.943752   \n",
       "6060   \"parasitic helminthiasis infectious disease\"    -0.506461    0.896548   \n",
       "6061                          \"ureter tuberculosis\"    -0.541284    0.956987   \n",
       "6104                      \"intra-abdominal abscess\"    -0.575717    0.964474   \n",
       "6144                           \"secondary syphilis\"    -0.532003    0.972357   \n",
       "\n",
       "        cluster  \n",
       "85    cluster24  \n",
       "106   cluster24  \n",
       "141   cluster24  \n",
       "145   cluster24  \n",
       "304   cluster24  \n",
       "...         ...  \n",
       "6055  cluster24  \n",
       "6060  cluster24  \n",
       "6061  cluster24  \n",
       "6104  cluster24  \n",
       "6144  cluster24  \n",
       "\n",
       "[235 rows x 4 columns]"
      ]
     },
     "execution_count": 442,
     "metadata": {},
     "output_type": "execute_result"
    }
   ],
   "source": [
    "plot_df[plot_df['cluster']=='cluster24']"
   ]
  },
  {
   "cell_type": "code",
   "execution_count": 443,
   "metadata": {},
   "outputs": [
    {
     "data": {
      "text/html": [
       "<div>\n",
       "<style scoped>\n",
       "    .dataframe tbody tr th:only-of-type {\n",
       "        vertical-align: middle;\n",
       "    }\n",
       "\n",
       "    .dataframe tbody tr th {\n",
       "        vertical-align: top;\n",
       "    }\n",
       "\n",
       "    .dataframe thead th {\n",
       "        text-align: right;\n",
       "    }\n",
       "</style>\n",
       "<table border=\"1\" class=\"dataframe\">\n",
       "  <thead>\n",
       "    <tr style=\"text-align: right;\">\n",
       "      <th></th>\n",
       "      <th>subject</th>\n",
       "      <th>predicate</th>\n",
       "      <th>object</th>\n",
       "    </tr>\n",
       "  </thead>\n",
       "  <tbody>\n",
       "    <tr>\n",
       "      <th>492</th>\n",
       "      <td>\"hepatitis E\"</td>\n",
       "      <td>Cause</td>\n",
       "      <td>\"hepatitis E virus\"</td>\n",
       "    </tr>\n",
       "    <tr>\n",
       "      <th>6572</th>\n",
       "      <td>\"hepatitis E\"</td>\n",
       "      <td>Specialty</td>\n",
       "      <td>\"infectious disease\"</td>\n",
       "    </tr>\n",
       "  </tbody>\n",
       "</table>\n",
       "</div>"
      ],
      "text/plain": [
       "              subject    predicate                  object\n",
       "492    \"hepatitis E\"         Cause    \"hepatitis E virus\" \n",
       "6572   \"hepatitis E\"    Specialty    \"infectious disease\" "
      ]
     },
     "execution_count": 443,
     "metadata": {},
     "output_type": "execute_result"
    }
   ],
   "source": [
    "final_df[final_df['subject']==' \"hepatitis E\" ']"
   ]
  },
  {
   "cell_type": "code",
   "execution_count": 441,
   "metadata": {},
   "outputs": [
    {
     "data": {
      "text/html": [
       "<div>\n",
       "<style scoped>\n",
       "    .dataframe tbody tr th:only-of-type {\n",
       "        vertical-align: middle;\n",
       "    }\n",
       "\n",
       "    .dataframe tbody tr th {\n",
       "        vertical-align: top;\n",
       "    }\n",
       "\n",
       "    .dataframe thead th {\n",
       "        text-align: right;\n",
       "    }\n",
       "</style>\n",
       "<table border=\"1\" class=\"dataframe\">\n",
       "  <thead>\n",
       "    <tr style=\"text-align: right;\">\n",
       "      <th></th>\n",
       "      <th>diseases</th>\n",
       "      <th>embedding1</th>\n",
       "      <th>embedding2</th>\n",
       "      <th>cluster</th>\n",
       "    </tr>\n",
       "  </thead>\n",
       "  <tbody>\n",
       "    <tr>\n",
       "      <th>4962</th>\n",
       "      <td>\"hepatitis E\"</td>\n",
       "      <td>-0.574973</td>\n",
       "      <td>0.91982</td>\n",
       "      <td>cluster24</td>\n",
       "    </tr>\n",
       "  </tbody>\n",
       "</table>\n",
       "</div>"
      ],
      "text/plain": [
       "             diseases  embedding1  embedding2    cluster\n",
       "4962   \"hepatitis E\"    -0.574973     0.91982  cluster24"
      ]
     },
     "execution_count": 441,
     "metadata": {},
     "output_type": "execute_result"
    }
   ],
   "source": [
    "plot_df[plot_df['diseases']==' \"hepatitis E\" ']"
   ]
  },
  {
   "cell_type": "code",
   "execution_count": 224,
   "metadata": {},
   "outputs": [
    {
     "data": {
      "text/plain": [
       "array([' \"encephalitis\" ', ' \"bacterial vaginosis\" ',\n",
       "       ' \"obsolete adenovirus infectious disease\" ', ...,\n",
       "       ' \"Temtamy preaxial brachydactyly syndrome\" ',\n",
       "       ' \"Postanesthetic shivering\" ',\n",
       "       ' \"poikiloderma with neutropenia\" '], dtype=object)"
      ]
     },
     "execution_count": 224,
     "metadata": {},
     "output_type": "execute_result"
    }
   ],
   "source": [
    "final_df['subject'].unique()"
   ]
  },
  {
   "cell_type": "code",
   "execution_count": 278,
   "metadata": {},
   "outputs": [
    {
     "data": {
      "text/plain": [
       "array([-1,  0,  1,  2,  3,  4,  5,  6,  7,  8,  9, 10, 11, 12, 13, 14, 15,\n",
       "       16, 17, 18, 19, 20, 21, 22, 23, 24, 25, 26, 27, 28, 29, 30, 31, 32,\n",
       "       33, 34, 35, 36, 37, 38, 39, 40, 41, 42, 43, 44, 45, 46, 47, 48, 49,\n",
       "       50, 51, 52, 53, 54, 55, 56, 57, 58])"
      ]
     },
     "execution_count": 278,
     "metadata": {},
     "output_type": "execute_result"
    }
   ],
   "source": [
    "np.unique(clusters)"
   ]
  },
  {
   "cell_type": "code",
   "execution_count": 328,
   "metadata": {},
   "outputs": [
    {
     "data": {
      "text/plain": [
       "array(['Cause', ' Specialty ', 'Symptom'], dtype=object)"
      ]
     },
     "execution_count": 328,
     "metadata": {},
     "output_type": "execute_result"
    }
   ],
   "source": [
    "final_df.predicate.unique()"
   ]
  },
  {
   "cell_type": "code",
   "execution_count": 381,
   "metadata": {},
   "outputs": [
    {
     "data": {
      "text/html": [
       "<div>\n",
       "<style scoped>\n",
       "    .dataframe tbody tr th:only-of-type {\n",
       "        vertical-align: middle;\n",
       "    }\n",
       "\n",
       "    .dataframe tbody tr th {\n",
       "        vertical-align: top;\n",
       "    }\n",
       "\n",
       "    .dataframe thead th {\n",
       "        text-align: right;\n",
       "    }\n",
       "</style>\n",
       "<table border=\"1\" class=\"dataframe\">\n",
       "  <thead>\n",
       "    <tr style=\"text-align: right;\">\n",
       "      <th></th>\n",
       "      <th>subject</th>\n",
       "      <th>predicate</th>\n",
       "      <th>object</th>\n",
       "    </tr>\n",
       "  </thead>\n",
       "  <tbody>\n",
       "    <tr>\n",
       "      <th>0</th>\n",
       "      <td>\"measles\"</td>\n",
       "      <td>Symptom</td>\n",
       "      <td>\"Koplik's spots\"</td>\n",
       "    </tr>\n",
       "    <tr>\n",
       "      <th>1</th>\n",
       "      <td>\"myotonic dystrophy\"</td>\n",
       "      <td>Symptom</td>\n",
       "      <td>\"sterility\"</td>\n",
       "    </tr>\n",
       "    <tr>\n",
       "      <th>2</th>\n",
       "      <td>\"Chagas disease\"</td>\n",
       "      <td>Symptom</td>\n",
       "      <td>\"Chagoma\"</td>\n",
       "    </tr>\n",
       "    <tr>\n",
       "      <th>3</th>\n",
       "      <td>\"Bálint's syndrome\"</td>\n",
       "      <td>Symptom</td>\n",
       "      <td>\"optic ataxia\"</td>\n",
       "    </tr>\n",
       "    <tr>\n",
       "      <th>4</th>\n",
       "      <td>\"Kawasaki disease\"</td>\n",
       "      <td>Symptom</td>\n",
       "      <td>\"strawberry tongue\"</td>\n",
       "    </tr>\n",
       "    <tr>\n",
       "      <th>5</th>\n",
       "      <td>\"Bart-Pumphrey syndrome\"</td>\n",
       "      <td>Symptom</td>\n",
       "      <td>\"Knuckle pads\"</td>\n",
       "    </tr>\n",
       "    <tr>\n",
       "      <th>6</th>\n",
       "      <td>\"aphasia\"</td>\n",
       "      <td>Symptom</td>\n",
       "      <td>\"mutism\"</td>\n",
       "    </tr>\n",
       "    <tr>\n",
       "      <th>7</th>\n",
       "      <td>\"catatonic schizophrenia\"</td>\n",
       "      <td>Symptom</td>\n",
       "      <td>\"mutism\"</td>\n",
       "    </tr>\n",
       "    <tr>\n",
       "      <th>8</th>\n",
       "      <td>\"Duchenne muscular dystrophy\"</td>\n",
       "      <td>Symptom</td>\n",
       "      <td>\"muscular atrophy\"</td>\n",
       "    </tr>\n",
       "    <tr>\n",
       "      <th>9</th>\n",
       "      <td>\"limb-girdle muscular dystrophy\"</td>\n",
       "      <td>Symptom</td>\n",
       "      <td>\"muscular atrophy\"</td>\n",
       "    </tr>\n",
       "    <tr>\n",
       "      <th>10</th>\n",
       "      <td>\"MORM syndrome\"</td>\n",
       "      <td>Symptom</td>\n",
       "      <td>\"fundus dystrophy\"</td>\n",
       "    </tr>\n",
       "    <tr>\n",
       "      <th>11</th>\n",
       "      <td>\"NGLY1-deficiency\"</td>\n",
       "      <td>Symptom</td>\n",
       "      <td>\"Reduced factor XI activity\"</td>\n",
       "    </tr>\n",
       "    <tr>\n",
       "      <th>12</th>\n",
       "      <td>\"diphtheria\"</td>\n",
       "      <td>Symptom</td>\n",
       "      <td>\"tonsillitis\"</td>\n",
       "    </tr>\n",
       "    <tr>\n",
       "      <th>13</th>\n",
       "      <td>\"cytomegaloviral disease\"</td>\n",
       "      <td>Symptom</td>\n",
       "      <td>\"tonsillitis\"</td>\n",
       "    </tr>\n",
       "    <tr>\n",
       "      <th>14</th>\n",
       "      <td>\"mumps\"</td>\n",
       "      <td>Symptom</td>\n",
       "      <td>\"pancreatitis\"</td>\n",
       "    </tr>\n",
       "    <tr>\n",
       "      <th>15</th>\n",
       "      <td>\"late dumping syndrome\"</td>\n",
       "      <td>Symptom</td>\n",
       "      <td>\"convulsion\"</td>\n",
       "    </tr>\n",
       "    <tr>\n",
       "      <th>16</th>\n",
       "      <td>\"brain cancer\"</td>\n",
       "      <td>Symptom</td>\n",
       "      <td>\"convulsion\"</td>\n",
       "    </tr>\n",
       "    <tr>\n",
       "      <th>17</th>\n",
       "      <td>\"Cerebral venous sinus thrombosis\"</td>\n",
       "      <td>Symptom</td>\n",
       "      <td>\"convulsion\"</td>\n",
       "    </tr>\n",
       "    <tr>\n",
       "      <th>18</th>\n",
       "      <td>\"Korsakoff's syndrome\"</td>\n",
       "      <td>Symptom</td>\n",
       "      <td>\"confabulation\"</td>\n",
       "    </tr>\n",
       "    <tr>\n",
       "      <th>19</th>\n",
       "      <td>\"NGLY1-deficiency\"</td>\n",
       "      <td>Symptom</td>\n",
       "      <td>\"Alacrima\"</td>\n",
       "    </tr>\n",
       "    <tr>\n",
       "      <th>20</th>\n",
       "      <td>\"rabies\"</td>\n",
       "      <td>Symptom</td>\n",
       "      <td>\"hyperactivity\"</td>\n",
       "    </tr>\n",
       "    <tr>\n",
       "      <th>21</th>\n",
       "      <td>\"Felty's syndrome\"</td>\n",
       "      <td>Symptom</td>\n",
       "      <td>\"rheumatoid arthritis\"</td>\n",
       "    </tr>\n",
       "    <tr>\n",
       "      <th>22</th>\n",
       "      <td>\"NGLY1-deficiency\"</td>\n",
       "      <td>Symptom</td>\n",
       "      <td>\"oculomotor apraxia\"</td>\n",
       "    </tr>\n",
       "    <tr>\n",
       "      <th>23</th>\n",
       "      <td>\"Bálint's syndrome\"</td>\n",
       "      <td>Symptom</td>\n",
       "      <td>\"oculomotor apraxia\"</td>\n",
       "    </tr>\n",
       "    <tr>\n",
       "      <th>24</th>\n",
       "      <td>\"Timothy syndrome\"</td>\n",
       "      <td>Symptom</td>\n",
       "      <td>\"congenital heart disease\"</td>\n",
       "    </tr>\n",
       "    <tr>\n",
       "      <th>25</th>\n",
       "      <td>\"Timothy syndrome\"</td>\n",
       "      <td>Symptom</td>\n",
       "      <td>\"syncope\"</td>\n",
       "    </tr>\n",
       "    <tr>\n",
       "      <th>26</th>\n",
       "      <td>\"primary amebic meningoencephalitis\"</td>\n",
       "      <td>Symptom</td>\n",
       "      <td>\"syncope\"</td>\n",
       "    </tr>\n",
       "    <tr>\n",
       "      <th>27</th>\n",
       "      <td>\"heart disease\"</td>\n",
       "      <td>Symptom</td>\n",
       "      <td>\"syncope\"</td>\n",
       "    </tr>\n",
       "    <tr>\n",
       "      <th>28</th>\n",
       "      <td>\"late dumping syndrome\"</td>\n",
       "      <td>Symptom</td>\n",
       "      <td>\"syncope\"</td>\n",
       "    </tr>\n",
       "    <tr>\n",
       "      <th>29</th>\n",
       "      <td>\"ventricular fibrillation\"</td>\n",
       "      <td>Symptom</td>\n",
       "      <td>\"syncope\"</td>\n",
       "    </tr>\n",
       "    <tr>\n",
       "      <th>30</th>\n",
       "      <td>\"brain cancer\"</td>\n",
       "      <td>Symptom</td>\n",
       "      <td>\"syncope\"</td>\n",
       "    </tr>\n",
       "    <tr>\n",
       "      <th>31</th>\n",
       "      <td>\"aortic valve stenosis\"</td>\n",
       "      <td>Symptom</td>\n",
       "      <td>\"syncope\"</td>\n",
       "    </tr>\n",
       "    <tr>\n",
       "      <th>32</th>\n",
       "      <td>\"NGLY1-deficiency\"</td>\n",
       "      <td>Symptom</td>\n",
       "      <td>\"microcephaly\"</td>\n",
       "    </tr>\n",
       "    <tr>\n",
       "      <th>33</th>\n",
       "      <td>\"cytomegaloviral disease\"</td>\n",
       "      <td>Symptom</td>\n",
       "      <td>\"microcephaly\"</td>\n",
       "    </tr>\n",
       "    <tr>\n",
       "      <th>34</th>\n",
       "      <td>\"bipolar disorder\"</td>\n",
       "      <td>Symptom</td>\n",
       "      <td>\"mania\"</td>\n",
       "    </tr>\n",
       "    <tr>\n",
       "      <th>35</th>\n",
       "      <td>\"Taylor's syndrome\"</td>\n",
       "      <td>Symptom</td>\n",
       "      <td>\"pelvic pain\"</td>\n",
       "    </tr>\n",
       "    <tr>\n",
       "      <th>36</th>\n",
       "      <td>\"NGLY1-deficiency\"</td>\n",
       "      <td>Symptom</td>\n",
       "      <td>\"Elevetated blood lactate\"</td>\n",
       "    </tr>\n",
       "    <tr>\n",
       "      <th>37</th>\n",
       "      <td>\"Chronic Thromboembolic Pulmonary Hypertension\"</td>\n",
       "      <td>Symptom</td>\n",
       "      <td>\"edema\"</td>\n",
       "    </tr>\n",
       "    <tr>\n",
       "      <th>38</th>\n",
       "      <td>\"myocardial infarction\"</td>\n",
       "      <td>Symptom</td>\n",
       "      <td>\"edema\"</td>\n",
       "    </tr>\n",
       "    <tr>\n",
       "      <th>39</th>\n",
       "      <td>\"heart disease\"</td>\n",
       "      <td>Symptom</td>\n",
       "      <td>\"edema\"</td>\n",
       "    </tr>\n",
       "  </tbody>\n",
       "</table>\n",
       "</div>"
      ],
      "text/plain": [
       "                                              subject predicate  \\\n",
       "0                                          \"measles\"    Symptom   \n",
       "1                               \"myotonic dystrophy\"    Symptom   \n",
       "2                                   \"Chagas disease\"    Symptom   \n",
       "3                                \"Bálint's syndrome\"    Symptom   \n",
       "4                                 \"Kawasaki disease\"    Symptom   \n",
       "5                           \"Bart-Pumphrey syndrome\"    Symptom   \n",
       "6                                          \"aphasia\"    Symptom   \n",
       "7                          \"catatonic schizophrenia\"    Symptom   \n",
       "8                      \"Duchenne muscular dystrophy\"    Symptom   \n",
       "9                   \"limb-girdle muscular dystrophy\"    Symptom   \n",
       "10                                   \"MORM syndrome\"    Symptom   \n",
       "11                                \"NGLY1-deficiency\"    Symptom   \n",
       "12                                      \"diphtheria\"    Symptom   \n",
       "13                         \"cytomegaloviral disease\"    Symptom   \n",
       "14                                           \"mumps\"    Symptom   \n",
       "15                           \"late dumping syndrome\"    Symptom   \n",
       "16                                    \"brain cancer\"    Symptom   \n",
       "17                \"Cerebral venous sinus thrombosis\"    Symptom   \n",
       "18                            \"Korsakoff's syndrome\"    Symptom   \n",
       "19                                \"NGLY1-deficiency\"    Symptom   \n",
       "20                                          \"rabies\"    Symptom   \n",
       "21                                \"Felty's syndrome\"    Symptom   \n",
       "22                                \"NGLY1-deficiency\"    Symptom   \n",
       "23                               \"Bálint's syndrome\"    Symptom   \n",
       "24                                \"Timothy syndrome\"    Symptom   \n",
       "25                                \"Timothy syndrome\"    Symptom   \n",
       "26              \"primary amebic meningoencephalitis\"    Symptom   \n",
       "27                                   \"heart disease\"    Symptom   \n",
       "28                           \"late dumping syndrome\"    Symptom   \n",
       "29                        \"ventricular fibrillation\"    Symptom   \n",
       "30                                    \"brain cancer\"    Symptom   \n",
       "31                           \"aortic valve stenosis\"    Symptom   \n",
       "32                                \"NGLY1-deficiency\"    Symptom   \n",
       "33                         \"cytomegaloviral disease\"    Symptom   \n",
       "34                                \"bipolar disorder\"    Symptom   \n",
       "35                               \"Taylor's syndrome\"    Symptom   \n",
       "36                                \"NGLY1-deficiency\"    Symptom   \n",
       "37   \"Chronic Thromboembolic Pulmonary Hypertension\"    Symptom   \n",
       "38                           \"myocardial infarction\"    Symptom   \n",
       "39                                   \"heart disease\"    Symptom   \n",
       "\n",
       "                            object  \n",
       "0                \"Koplik's spots\"   \n",
       "1                     \"sterility\"   \n",
       "2                       \"Chagoma\"   \n",
       "3                  \"optic ataxia\"   \n",
       "4             \"strawberry tongue\"   \n",
       "5                  \"Knuckle pads\"   \n",
       "6                        \"mutism\"   \n",
       "7                        \"mutism\"   \n",
       "8              \"muscular atrophy\"   \n",
       "9              \"muscular atrophy\"   \n",
       "10             \"fundus dystrophy\"   \n",
       "11   \"Reduced factor XI activity\"   \n",
       "12                  \"tonsillitis\"   \n",
       "13                  \"tonsillitis\"   \n",
       "14                 \"pancreatitis\"   \n",
       "15                   \"convulsion\"   \n",
       "16                   \"convulsion\"   \n",
       "17                   \"convulsion\"   \n",
       "18                \"confabulation\"   \n",
       "19                     \"Alacrima\"   \n",
       "20                \"hyperactivity\"   \n",
       "21         \"rheumatoid arthritis\"   \n",
       "22           \"oculomotor apraxia\"   \n",
       "23           \"oculomotor apraxia\"   \n",
       "24     \"congenital heart disease\"   \n",
       "25                      \"syncope\"   \n",
       "26                      \"syncope\"   \n",
       "27                      \"syncope\"   \n",
       "28                      \"syncope\"   \n",
       "29                      \"syncope\"   \n",
       "30                      \"syncope\"   \n",
       "31                      \"syncope\"   \n",
       "32                 \"microcephaly\"   \n",
       "33                 \"microcephaly\"   \n",
       "34                        \"mania\"   \n",
       "35                  \"pelvic pain\"   \n",
       "36     \"Elevetated blood lactate\"   \n",
       "37                        \"edema\"   \n",
       "38                        \"edema\"   \n",
       "39                        \"edema\"   "
      ]
     },
     "execution_count": 381,
     "metadata": {},
     "output_type": "execute_result"
    }
   ],
   "source": [
    "final_df[final_df['predicate']=='Symptom'].iloc[:40]"
   ]
  },
  {
   "cell_type": "code",
   "execution_count": null,
   "metadata": {},
   "outputs": [],
   "source": [
    "clusters = ['cluster0','cluster1','cluster2','cluster3','cluster6','cluster9','cluster']"
   ]
  }
 ],
 "metadata": {
  "kernelspec": {
   "display_name": "Python 3",
   "language": "python",
   "name": "python3"
  },
  "language_info": {
   "codemirror_mode": {
    "name": "ipython",
    "version": 3
   },
   "file_extension": ".py",
   "mimetype": "text/x-python",
   "name": "python",
   "nbconvert_exporter": "python",
   "pygments_lexer": "ipython3",
   "version": "3.7.6"
  }
 },
 "nbformat": 4,
 "nbformat_minor": 4
}
