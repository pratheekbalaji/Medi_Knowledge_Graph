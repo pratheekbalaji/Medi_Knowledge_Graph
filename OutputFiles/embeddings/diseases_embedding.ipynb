{
 "cells": [
  {
   "cell_type": "code",
   "execution_count": 2,
   "metadata": {},
   "outputs": [],
   "source": [
    "import pandas as pd\n",
    "import os"
   ]
  },
  {
   "cell_type": "code",
   "execution_count": 3,
   "metadata": {},
   "outputs": [
    {
     "data": {
      "text/plain": [
       "['embeddings_meds.csv',\n",
       " 'Medicine_Embeddings_Link_Prediction.ipynb',\n",
       " '.DS_Store',\n",
       " 'disease_cause.csv',\n",
       " 'medicine_side_effects.csv',\n",
       " 'Medicine_Embeddings_Clustering.ipynb',\n",
       " 'medicine_uses.csv',\n",
       " 'disease_specialty.csv',\n",
       " 'embeddigs_diseases.csv',\n",
       " 'disease_link_prediction.ipynb',\n",
       " '.ipynb_checkpoints',\n",
       " 'application.log',\n",
       " 'diseases_embedding.ipynb',\n",
       " 'disease_symptoms.csv']"
      ]
     },
     "execution_count": 3,
     "metadata": {},
     "output_type": "execute_result"
    }
   ],
   "source": [
    "os.listdir()"
   ]
  },
  {
   "cell_type": "code",
   "execution_count": 9,
   "metadata": {},
   "outputs": [],
   "source": [
    "def func(x):\n",
    "    x = x.strip()\n",
    "    x = x.replace('\"', '')\n",
    "    return x"
   ]
  },
  {
   "cell_type": "code",
   "execution_count": 4,
   "metadata": {},
   "outputs": [],
   "source": [
    "final_df = pd.read_csv('embeddigs_diseases.csv')"
   ]
  },
  {
   "cell_type": "code",
   "execution_count": 10,
   "metadata": {},
   "outputs": [],
   "source": [
    "final_df['subject']=final_df['subject'].map(func)"
   ]
  },
  {
   "cell_type": "code",
   "execution_count": 11,
   "metadata": {},
   "outputs": [],
   "source": [
    "final_df['predicate'] = final_df['predicate']"
   ]
  },
  {
   "cell_type": "code",
   "execution_count": 12,
   "metadata": {},
   "outputs": [],
   "source": [
    "final_df['object'] = final_df['object'].map(func)"
   ]
  },
  {
   "cell_type": "code",
   "execution_count": 13,
   "metadata": {},
   "outputs": [],
   "source": [
    "final_df.to_csv('embeddigs_diseases.csv',index=False)"
   ]
  },
  {
   "cell_type": "code",
   "execution_count": 14,
   "metadata": {},
   "outputs": [],
   "source": [
    "import ampligraph\n",
    "import numpy as np"
   ]
  },
  {
   "cell_type": "code",
   "execution_count": 15,
   "metadata": {},
   "outputs": [],
   "source": [
    "from ampligraph.evaluation import train_test_split_no_unseen\n",
    "from ampligraph.datasets import load_from_csv\n"
   ]
  },
  {
   "cell_type": "code",
   "execution_count": 16,
   "metadata": {},
   "outputs": [],
   "source": [
    "X = load_from_csv('.','embeddigs_diseases.csv',sep=',')"
   ]
  },
  {
   "cell_type": "code",
   "execution_count": 17,
   "metadata": {},
   "outputs": [
    {
     "data": {
      "text/plain": [
       "array([['subject', 'predicate', 'object'],\n",
       "       ['encephalitis', 'Cause', 'rabies'],\n",
       "       ['bacterial vaginosis', 'Cause', 'Gardnerella vaginalis'],\n",
       "       ...,\n",
       "       ['acrodermatitis enteropathica', 'Symptom', 'alopecia'],\n",
       "       ['Lassa fever', 'Symptom', 'alopecia'],\n",
       "       ['mercury poisoning', 'Symptom', 'proteinuria']], dtype=object)"
      ]
     },
     "execution_count": 17,
     "metadata": {},
     "output_type": "execute_result"
    }
   ],
   "source": [
    "X"
   ]
  },
  {
   "cell_type": "code",
   "execution_count": 18,
   "metadata": {},
   "outputs": [],
   "source": [
    "X = X[1:]"
   ]
  },
  {
   "cell_type": "code",
   "execution_count": 19,
   "metadata": {},
   "outputs": [
    {
     "data": {
      "text/plain": [
       "9552"
      ]
     },
     "execution_count": 19,
     "metadata": {},
     "output_type": "execute_result"
    }
   ],
   "source": [
    "X.shape[0]"
   ]
  },
  {
   "cell_type": "code",
   "execution_count": 20,
   "metadata": {},
   "outputs": [
    {
     "name": "stdout",
     "output_type": "stream",
     "text": [
      "(9552, 3)\n"
     ]
    }
   ],
   "source": [
    "print(X.shape)"
   ]
  },
  {
   "cell_type": "code",
   "execution_count": 21,
   "metadata": {},
   "outputs": [],
   "source": [
    "from ampligraph.latent_features import ComplEx\n",
    "\n",
    "model = ComplEx(batches_count=50,\n",
    "                epochs=300,\n",
    "                k=100,\n",
    "                eta=20,\n",
    "                optimizer='adam', \n",
    "                optimizer_params={'lr':1e-4},\n",
    "                loss='multiclass_nll',\n",
    "                regularizer='LP', \n",
    "                regularizer_params={'p':3, 'lambda':1e-5}, \n",
    "                seed=0, \n",
    "                verbose=True)"
   ]
  },
  {
   "cell_type": "code",
   "execution_count": 22,
   "metadata": {},
   "outputs": [
    {
     "name": "stderr",
     "output_type": "stream",
     "text": [
      "Average Loss:   0.189599: 100%|██████████| 300/300 [06:25<00:00,  1.28s/epoch]\n"
     ]
    }
   ],
   "source": [
    "import tensorflow as tf\n",
    "tf.logging.set_verbosity(tf.logging.ERROR)\n",
    "\n",
    "model.fit(X)\n"
   ]
  },
  {
   "cell_type": "code",
   "execution_count": 23,
   "metadata": {},
   "outputs": [
    {
     "data": {
      "text/plain": [
       "6150"
      ]
     },
     "execution_count": 23,
     "metadata": {},
     "output_type": "execute_result"
    }
   ],
   "source": [
    "len(set(X[:,0]))"
   ]
  },
  {
   "cell_type": "code",
   "execution_count": 37,
   "metadata": {},
   "outputs": [
    {
     "data": {
      "text/plain": [
       "6150"
      ]
     },
     "execution_count": 37,
     "metadata": {},
     "output_type": "execute_result"
    }
   ],
   "source": [
    "diseases =np.array(list(set(X[:,0])))\n",
    "disease_embeddings = dict(zip(diseases, model.get_embeddings(diseases)))\n",
    "len(diseases)"
   ]
  },
  {
   "cell_type": "code",
   "execution_count": 38,
   "metadata": {},
   "outputs": [
    {
     "data": {
      "text/plain": [
       "6150"
      ]
     },
     "execution_count": 38,
     "metadata": {},
     "output_type": "execute_result"
    }
   ],
   "source": [
    "len(dict(zip(diseases,(model.get_embeddings(diseases)))))"
   ]
  },
  {
   "cell_type": "code",
   "execution_count": 39,
   "metadata": {},
   "outputs": [],
   "source": [
    "from sklearn.decomposition import PCA\n",
    "import matplotlib.pyplot as plt\n",
    "import seaborn as sns\n",
    "embeddings_2d = PCA(n_components=2).fit_transform(np.array([i for i in disease_embeddings.values()]))\n"
   ]
  },
  {
   "cell_type": "code",
   "execution_count": 53,
   "metadata": {},
   "outputs": [],
   "source": [
    "from ampligraph.discovery import find_clusters\n",
    "from sklearn.cluster import KMeans,DBSCAN,OPTICS\n",
    "\n",
    "clustering_algorithm = DBSCAN(eps=0.3,min_samples=4)\n",
    "clusters = find_clusters(diseases, model, clustering_algorithm, mode='entity')"
   ]
  },
  {
   "cell_type": "code",
   "execution_count": 52,
   "metadata": {},
   "outputs": [
    {
     "data": {
      "text/plain": [
       "6150"
      ]
     },
     "execution_count": 52,
     "metadata": {},
     "output_type": "execute_result"
    }
   ],
   "source": [
    "len(clusters)"
   ]
  },
  {
   "cell_type": "code",
   "execution_count": 54,
   "metadata": {},
   "outputs": [],
   "source": [
    "cluster = ['cluster19','cluster1','cluster14','cluster3','cluster23','cluster11','cluster4']\n",
    "title =['Respiratory System Related','Infectious Disease Related','Diabetes Related','Cancer Related','Urology',\n",
    "        'hematology','gastro related']\n",
    "d = {}\n",
    "for i,c in enumerate(cluster):\n",
    "    d[c] = title[i]"
   ]
  },
  {
   "cell_type": "code",
   "execution_count": 55,
   "metadata": {},
   "outputs": [],
   "source": [
    "plot_df = pd.DataFrame({\"diseases\": diseases, \n",
    "                        \"embedding1\": embeddings_2d[:, 0], \n",
    "                        \"embedding2\": embeddings_2d[:, 1],\n",
    "                        \"cluster\": \"cluster\" + pd.Series(clusters).astype(str)})"
   ]
  },
  {
   "cell_type": "code",
   "execution_count": 56,
   "metadata": {},
   "outputs": [],
   "source": [
    "plot_df_display =plot_df[(plot_df['cluster']=='cluster19')|(plot_df['cluster']=='cluster1')|(plot_df['cluster']=='cluster14')\n",
    "       |(plot_df['cluster']=='cluster3')|(plot_df['cluster']=='cluster23')|(plot_df['cluster']=='cluster11')\n",
    "        |(plot_df['cluster']=='cluster4')]"
   ]
  },
  {
   "cell_type": "code",
   "execution_count": 57,
   "metadata": {},
   "outputs": [],
   "source": [
    "def plot_clusters(hue):\n",
    "    np.random.seed(0)\n",
    "    plt.figure(figsize=(20, 15))\n",
    "    plt.title(\"{} embeddings\".format(hue).capitalize())\n",
    "    \n",
    "    \n",
    "   \n",
    "    ax = sns.scatterplot(data=plot_df_display, x=\"embedding1\", y=\"embedding2\", hue=hue)\n",
    "    leg_handles = ax.get_legend_handles_labels()[0]\n",
    "    ax.legend(leg_handles,d.values(), title='New legend')\n",
    "    \n",
    "    \n",
    "    data=plot_df[plot_df.diseases!=\"unk\"]\n",
    "    texts = []\n",
    "    \n",
    "    "
   ]
  },
  {
   "cell_type": "code",
   "execution_count": 58,
   "metadata": {},
   "outputs": [
    {
     "data": {
      "image/png": "[encoded data removed]",
      "text/plain": [
       "<Figure size 1440x1080 with 1 Axes>"
      ]
     },
     "metadata": {
      "needs_background": "light"
     },
     "output_type": "display_data"
    }
   ],
   "source": [
    "plot_clusters('cluster')"
   ]
  },
  {
   "cell_type": "code",
   "execution_count": 786,
   "metadata": {},
   "outputs": [
    {
     "data": {
      "text/plain": [
       "[\"plot_df_display =plot_df[(plot_df['cluster']=='cluster19')|(plot_df['cluster']=='cluster1')|(plot_df['cluster']=='cluster14')\\n       |(plot_df['cluster']=='cluster3')|(plot_df['cluster']=='cluster23')|(plot_df['cluster']=='cluster11')\\n        |(plot_df['cluster']=='cluster4')]\",\n",
       " 'def plot_clusters(hue):\\n    np.random.seed(0)\\n    plt.figure(figsize=(20, 15))\\n    plt.title(\"{} embeddings\".format(hue).capitalize())\\n    \\n    \\n   \\n    ax = sns.scatterplot(data=plot_df_display, x=\"embedding1\", y=\"embedding2\", hue=hue)\\n    leg_handles = ax.get_legend_handles_labels()[0]\\n    ax.legend(leg_handles,d.values(), title=\\'New legend\\')\\n    \\n    \\n    data=plot_df[plot_df.diseases!=\"unk\"]\\n    texts = []\\n    \\n    ',\n",
       " \"plot_clusters('cluster')\",\n",
       " \"clusters = ['cluster19','cluster1','cluster14','cluster3','cluster23','cluster11','cluster4']\\ntitle =['Respiratory System Related','Infectious Disease Related','Diabetes Related','Cancer Related','Urology',\\n        'hematology','gastro related']\\nd = {}\\nfor i,c in enumerate(clusters):\\n    d[c] = title[i]\",\n",
       " '_ih[-5:]']"
      ]
     },
     "execution_count": 786,
     "metadata": {},
     "output_type": "execute_result"
    }
   ],
   "source": [
    "_ih[-5:]"
   ]
  },
  {
   "cell_type": "code",
   "execution_count": 88,
   "metadata": {},
   "outputs": [],
   "source": [
    "df = pd.DataFrame(columns=d.values())"
   ]
  },
  {
   "cell_type": "code",
   "execution_count": 89,
   "metadata": {},
   "outputs": [
    {
     "data": {
      "text/html": [
       "<div>\n",
       "<style scoped>\n",
       "    .dataframe tbody tr th:only-of-type {\n",
       "        vertical-align: middle;\n",
       "    }\n",
       "\n",
       "    .dataframe tbody tr th {\n",
       "        vertical-align: top;\n",
       "    }\n",
       "\n",
       "    .dataframe thead th {\n",
       "        text-align: right;\n",
       "    }\n",
       "</style>\n",
       "<table border=\"1\" class=\"dataframe\">\n",
       "  <thead>\n",
       "    <tr style=\"text-align: right;\">\n",
       "      <th></th>\n",
       "      <th>Respiratory System Related</th>\n",
       "      <th>Infectious Disease Related</th>\n",
       "      <th>Diabetes Related</th>\n",
       "      <th>Cancer Related</th>\n",
       "      <th>Urology</th>\n",
       "      <th>hematology</th>\n",
       "      <th>gastro related</th>\n",
       "    </tr>\n",
       "  </thead>\n",
       "  <tbody>\n",
       "  </tbody>\n",
       "</table>\n",
       "</div>"
      ],
      "text/plain": [
       "Empty DataFrame\n",
       "Columns: [Respiratory System Related, Infectious Disease Related, Diabetes Related, Cancer Related, Urology, hematology, gastro related]\n",
       "Index: []"
      ]
     },
     "execution_count": 89,
     "metadata": {},
     "output_type": "execute_result"
    }
   ],
   "source": [
    "df"
   ]
  },
  {
   "cell_type": "code",
   "execution_count": 82,
   "metadata": {},
   "outputs": [
    {
     "data": {
      "text/plain": [
       "['cluster19',\n",
       " 'cluster1',\n",
       " 'cluster14',\n",
       " 'cluster3',\n",
       " 'cluster23',\n",
       " 'cluster11',\n",
       " 'cluster4']"
      ]
     },
     "execution_count": 82,
     "metadata": {},
     "output_type": "execute_result"
    }
   ],
   "source": [
    "cluster"
   ]
  },
  {
   "cell_type": "code",
   "execution_count": 90,
   "metadata": {},
   "outputs": [],
   "source": [
    "for i in range(1):\n",
    "    a =[]\n",
    "    for c in cluster:\n",
    "        \n",
    "        temp = plot_df[plot_df['cluster']==c]['diseases'].iloc[i]\n",
    "        a.append(temp)\n",
    "    \n",
    "    df.loc[len(df)] = a"
   ]
  },
  {
   "cell_type": "code",
   "execution_count": 91,
   "metadata": {},
   "outputs": [
    {
     "data": {
      "text/html": [
       "<div>\n",
       "<style scoped>\n",
       "    .dataframe tbody tr th:only-of-type {\n",
       "        vertical-align: middle;\n",
       "    }\n",
       "\n",
       "    .dataframe tbody tr th {\n",
       "        vertical-align: top;\n",
       "    }\n",
       "\n",
       "    .dataframe thead th {\n",
       "        text-align: right;\n",
       "    }\n",
       "</style>\n",
       "<table border=\"1\" class=\"dataframe\">\n",
       "  <thead>\n",
       "    <tr style=\"text-align: right;\">\n",
       "      <th></th>\n",
       "      <th>Respiratory System Related</th>\n",
       "      <th>Infectious Disease Related</th>\n",
       "      <th>Diabetes Related</th>\n",
       "      <th>Cancer Related</th>\n",
       "      <th>Urology</th>\n",
       "      <th>hematology</th>\n",
       "      <th>gastro related</th>\n",
       "    </tr>\n",
       "  </thead>\n",
       "  <tbody>\n",
       "    <tr>\n",
       "      <th>0</th>\n",
       "      <td>root caries</td>\n",
       "      <td>carcinoma in situ of respiratory system</td>\n",
       "      <td>ascending aortic aneurysm</td>\n",
       "      <td>primary ciliary dyskinesia 18</td>\n",
       "      <td>drusen</td>\n",
       "      <td>uveal disease</td>\n",
       "      <td>MECP2 duplication syndrome</td>\n",
       "    </tr>\n",
       "  </tbody>\n",
       "</table>\n",
       "</div>"
      ],
      "text/plain": [
       "  Respiratory System Related               Infectious Disease Related  \\\n",
       "0                root caries  carcinoma in situ of respiratory system   \n",
       "\n",
       "            Diabetes Related                 Cancer Related Urology  \\\n",
       "0  ascending aortic aneurysm  primary ciliary dyskinesia 18  drusen   \n",
       "\n",
       "      hematology              gastro related  \n",
       "0  uveal disease  MECP2 duplication syndrome  "
      ]
     },
     "execution_count": 91,
     "metadata": {},
     "output_type": "execute_result"
    }
   ],
   "source": [
    "df"
   ]
  },
  {
   "cell_type": "code",
   "execution_count": 108,
   "metadata": {},
   "outputs": [
    {
     "data": {
      "text/html": [
       "<div>\n",
       "<style scoped>\n",
       "    .dataframe tbody tr th:only-of-type {\n",
       "        vertical-align: middle;\n",
       "    }\n",
       "\n",
       "    .dataframe tbody tr th {\n",
       "        vertical-align: top;\n",
       "    }\n",
       "\n",
       "    .dataframe thead th {\n",
       "        text-align: right;\n",
       "    }\n",
       "</style>\n",
       "<table border=\"1\" class=\"dataframe\">\n",
       "  <thead>\n",
       "    <tr style=\"text-align: right;\">\n",
       "      <th></th>\n",
       "      <th>diseases</th>\n",
       "      <th>embedding1</th>\n",
       "      <th>embedding2</th>\n",
       "      <th>cluster</th>\n",
       "    </tr>\n",
       "  </thead>\n",
       "  <tbody>\n",
       "    <tr>\n",
       "      <th>14</th>\n",
       "      <td>ethylmalonic encephalopathy</td>\n",
       "      <td>0.124398</td>\n",
       "      <td>-0.942268</td>\n",
       "      <td>cluster6</td>\n",
       "    </tr>\n",
       "    <tr>\n",
       "      <th>61</th>\n",
       "      <td>retinal perforation</td>\n",
       "      <td>0.138681</td>\n",
       "      <td>-0.931156</td>\n",
       "      <td>cluster6</td>\n",
       "    </tr>\n",
       "    <tr>\n",
       "      <th>87</th>\n",
       "      <td>post-head injury coma</td>\n",
       "      <td>0.147180</td>\n",
       "      <td>-0.905194</td>\n",
       "      <td>cluster6</td>\n",
       "    </tr>\n",
       "    <tr>\n",
       "      <th>91</th>\n",
       "      <td>dystonia 25</td>\n",
       "      <td>0.137652</td>\n",
       "      <td>-0.923399</td>\n",
       "      <td>cluster6</td>\n",
       "    </tr>\n",
       "    <tr>\n",
       "      <th>109</th>\n",
       "      <td>spinocerebellar ataxia type 6</td>\n",
       "      <td>0.140305</td>\n",
       "      <td>-0.928349</td>\n",
       "      <td>cluster6</td>\n",
       "    </tr>\n",
       "    <tr>\n",
       "      <th>...</th>\n",
       "      <td>...</td>\n",
       "      <td>...</td>\n",
       "      <td>...</td>\n",
       "      <td>...</td>\n",
       "    </tr>\n",
       "    <tr>\n",
       "      <th>6053</th>\n",
       "      <td>mast syndrome</td>\n",
       "      <td>0.162916</td>\n",
       "      <td>-0.960212</td>\n",
       "      <td>cluster6</td>\n",
       "    </tr>\n",
       "    <tr>\n",
       "      <th>6059</th>\n",
       "      <td>photosensitive epilepsy</td>\n",
       "      <td>0.166804</td>\n",
       "      <td>-0.916539</td>\n",
       "      <td>cluster6</td>\n",
       "    </tr>\n",
       "    <tr>\n",
       "      <th>6061</th>\n",
       "      <td>Benedikt syndrome</td>\n",
       "      <td>0.162608</td>\n",
       "      <td>-0.898490</td>\n",
       "      <td>cluster6</td>\n",
       "    </tr>\n",
       "    <tr>\n",
       "      <th>6063</th>\n",
       "      <td>Hereditary neuralgic amyotrophy</td>\n",
       "      <td>0.156072</td>\n",
       "      <td>-0.899177</td>\n",
       "      <td>cluster6</td>\n",
       "    </tr>\n",
       "    <tr>\n",
       "      <th>6133</th>\n",
       "      <td>Minor's disease</td>\n",
       "      <td>0.145555</td>\n",
       "      <td>-0.943299</td>\n",
       "      <td>cluster6</td>\n",
       "    </tr>\n",
       "  </tbody>\n",
       "</table>\n",
       "<p>362 rows × 4 columns</p>\n",
       "</div>"
      ],
      "text/plain": [
       "                             diseases  embedding1  embedding2   cluster\n",
       "14        ethylmalonic encephalopathy    0.124398   -0.942268  cluster6\n",
       "61                retinal perforation    0.138681   -0.931156  cluster6\n",
       "87              post-head injury coma    0.147180   -0.905194  cluster6\n",
       "91                        dystonia 25    0.137652   -0.923399  cluster6\n",
       "109     spinocerebellar ataxia type 6    0.140305   -0.928349  cluster6\n",
       "...                               ...         ...         ...       ...\n",
       "6053                    mast syndrome    0.162916   -0.960212  cluster6\n",
       "6059          photosensitive epilepsy    0.166804   -0.916539  cluster6\n",
       "6061                Benedikt syndrome    0.162608   -0.898490  cluster6\n",
       "6063  Hereditary neuralgic amyotrophy    0.156072   -0.899177  cluster6\n",
       "6133                  Minor's disease    0.145555   -0.943299  cluster6\n",
       "\n",
       "[362 rows x 4 columns]"
      ]
     },
     "execution_count": 108,
     "metadata": {},
     "output_type": "execute_result"
    }
   ],
   "source": [
    "plot_df[plot_df['cluster']=='cluster6']"
   ]
  },
  {
   "cell_type": "code",
   "execution_count": 107,
   "metadata": {},
   "outputs": [
    {
     "data": {
      "text/html": [
       "<div>\n",
       "<style scoped>\n",
       "    .dataframe tbody tr th:only-of-type {\n",
       "        vertical-align: middle;\n",
       "    }\n",
       "\n",
       "    .dataframe tbody tr th {\n",
       "        vertical-align: top;\n",
       "    }\n",
       "\n",
       "    .dataframe thead th {\n",
       "        text-align: right;\n",
       "    }\n",
       "</style>\n",
       "<table border=\"1\" class=\"dataframe\">\n",
       "  <thead>\n",
       "    <tr style=\"text-align: right;\">\n",
       "      <th></th>\n",
       "      <th>subject</th>\n",
       "      <th>predicate</th>\n",
       "      <th>object</th>\n",
       "    </tr>\n",
       "  </thead>\n",
       "  <tbody>\n",
       "    <tr>\n",
       "      <th>6688</th>\n",
       "      <td>thrombophlebitis</td>\n",
       "      <td>Specialty</td>\n",
       "      <td>cardiology</td>\n",
       "    </tr>\n",
       "  </tbody>\n",
       "</table>\n",
       "</div>"
      ],
      "text/plain": [
       "               subject    predicate      object\n",
       "6688  thrombophlebitis   Specialty   cardiology"
      ]
     },
     "execution_count": 107,
     "metadata": {},
     "output_type": "execute_result"
    }
   ],
   "source": [
    "final_df[final_df['subject']=='thrombophlebitis']"
   ]
  },
  {
   "cell_type": "code",
   "execution_count": null,
   "metadata": {},
   "outputs": [],
   "source": [
    "plot_df_display =plot_df[(plot_df['cluster']=='cluster19')|(plot_df['cluster']=='cluster1')"
   ]
  },
  {
   "cell_type": "code",
   "execution_count": 110,
   "metadata": {},
   "outputs": [],
   "source": [
    "cluster = ['cluster2','cluster5']\n",
    "title =['Cancer', 'Cardiology']\n",
    "d = {}\n",
    "for i,c in enumerate(cluster):\n",
    "    d[c] = title[i]"
   ]
  },
  {
   "cell_type": "code",
   "execution_count": 114,
   "metadata": {},
   "outputs": [],
   "source": [
    "df = pd.DataFrame(columns=d.values())"
   ]
  },
  {
   "cell_type": "code",
   "execution_count": 115,
   "metadata": {},
   "outputs": [],
   "source": [
    "for i in range(30):\n",
    "    a =[]\n",
    "    for c in cluster:\n",
    "        \n",
    "        temp = plot_df[plot_df['cluster']==c]['diseases'].iloc[i]\n",
    "        a.append(temp)\n",
    "    \n",
    "    df.loc[len(df)] = a"
   ]
  },
  {
   "cell_type": "code",
   "execution_count": 116,
   "metadata": {},
   "outputs": [
    {
     "data": {
      "text/html": [
       "<div>\n",
       "<style scoped>\n",
       "    .dataframe tbody tr th:only-of-type {\n",
       "        vertical-align: middle;\n",
       "    }\n",
       "\n",
       "    .dataframe tbody tr th {\n",
       "        vertical-align: top;\n",
       "    }\n",
       "\n",
       "    .dataframe thead th {\n",
       "        text-align: right;\n",
       "    }\n",
       "</style>\n",
       "<table border=\"1\" class=\"dataframe\">\n",
       "  <thead>\n",
       "    <tr style=\"text-align: right;\">\n",
       "      <th></th>\n",
       "      <th>Cancer</th>\n",
       "      <th>Cardiology</th>\n",
       "    </tr>\n",
       "  </thead>\n",
       "  <tbody>\n",
       "    <tr>\n",
       "      <th>0</th>\n",
       "      <td>dysplasia</td>\n",
       "      <td>thrombophlebitis</td>\n",
       "    </tr>\n",
       "    <tr>\n",
       "      <th>1</th>\n",
       "      <td>occipital lobe neoplasm</td>\n",
       "      <td>acute inferoposterior infarction</td>\n",
       "    </tr>\n",
       "    <tr>\n",
       "      <th>2</th>\n",
       "      <td>jejunal cancer</td>\n",
       "      <td>Brugada syndrome 1</td>\n",
       "    </tr>\n",
       "    <tr>\n",
       "      <th>3</th>\n",
       "      <td>alveolar soft part sarcoma</td>\n",
       "      <td>ventricular tachycardia</td>\n",
       "    </tr>\n",
       "    <tr>\n",
       "      <th>4</th>\n",
       "      <td>anaplastic astrocytoma</td>\n",
       "      <td>dilated cardiomyopathy 3B</td>\n",
       "    </tr>\n",
       "    <tr>\n",
       "      <th>5</th>\n",
       "      <td>glomus tumor</td>\n",
       "      <td>vertebral artery occlusion</td>\n",
       "    </tr>\n",
       "    <tr>\n",
       "      <th>6</th>\n",
       "      <td>testicular cancer</td>\n",
       "      <td>Brugada syndrome 7</td>\n",
       "    </tr>\n",
       "    <tr>\n",
       "      <th>7</th>\n",
       "      <td>pilomatrixoma</td>\n",
       "      <td>Monckeberg arteriosclerosis</td>\n",
       "    </tr>\n",
       "    <tr>\n",
       "      <th>8</th>\n",
       "      <td>epithelioid sarcoma</td>\n",
       "      <td>long QT syndrome 14</td>\n",
       "    </tr>\n",
       "    <tr>\n",
       "      <th>9</th>\n",
       "      <td>medulloepithelioma</td>\n",
       "      <td>atrioventricular block</td>\n",
       "    </tr>\n",
       "    <tr>\n",
       "      <th>10</th>\n",
       "      <td>urinary bladder anterior wall cancer</td>\n",
       "      <td>Brugada syndrome 3</td>\n",
       "    </tr>\n",
       "    <tr>\n",
       "      <th>11</th>\n",
       "      <td>choroid cancer</td>\n",
       "      <td>acute anterolateral myocardial infarction</td>\n",
       "    </tr>\n",
       "    <tr>\n",
       "      <th>12</th>\n",
       "      <td>uterus carcinoma in situ</td>\n",
       "      <td>arrhythmogenic right ventricular dysplasia 13</td>\n",
       "    </tr>\n",
       "    <tr>\n",
       "      <th>13</th>\n",
       "      <td>postcricoid region cancer</td>\n",
       "      <td>stable angina</td>\n",
       "    </tr>\n",
       "    <tr>\n",
       "      <th>14</th>\n",
       "      <td>adrenal cortex cancer</td>\n",
       "      <td>capillary leak syndrome</td>\n",
       "    </tr>\n",
       "    <tr>\n",
       "      <th>15</th>\n",
       "      <td>atypical chronic myeloid leukemia</td>\n",
       "      <td>aortic disease</td>\n",
       "    </tr>\n",
       "    <tr>\n",
       "      <th>16</th>\n",
       "      <td>subserous uterine fibroid</td>\n",
       "      <td>intracranial thrombosis</td>\n",
       "    </tr>\n",
       "    <tr>\n",
       "      <th>17</th>\n",
       "      <td>acanthoma</td>\n",
       "      <td>tricuspid valve disease</td>\n",
       "    </tr>\n",
       "    <tr>\n",
       "      <th>18</th>\n",
       "      <td>embryonal carcinoma</td>\n",
       "      <td>dilated cardiomyopathy 1CC</td>\n",
       "    </tr>\n",
       "    <tr>\n",
       "      <th>19</th>\n",
       "      <td>prostatic intraepithelial neoplasia</td>\n",
       "      <td>endoleak</td>\n",
       "    </tr>\n",
       "    <tr>\n",
       "      <th>20</th>\n",
       "      <td>soft tissue neoplasm</td>\n",
       "      <td>arrhythmogenic right ventricular dysplasia 11</td>\n",
       "    </tr>\n",
       "    <tr>\n",
       "      <th>21</th>\n",
       "      <td>clear cell adenofibroma</td>\n",
       "      <td>myocardial degeneration</td>\n",
       "    </tr>\n",
       "    <tr>\n",
       "      <th>22</th>\n",
       "      <td>neuroectodermal tumor</td>\n",
       "      <td>arterial tortuosity syndrome</td>\n",
       "    </tr>\n",
       "    <tr>\n",
       "      <th>23</th>\n",
       "      <td>female breast nipple and areola cancer</td>\n",
       "      <td>pulmonary embolism and infarction</td>\n",
       "    </tr>\n",
       "    <tr>\n",
       "      <th>24</th>\n",
       "      <td>orbital cancer</td>\n",
       "      <td>collapse</td>\n",
       "    </tr>\n",
       "    <tr>\n",
       "      <th>25</th>\n",
       "      <td>female breast upper-outer quadrant cancer</td>\n",
       "      <td>pulmonary hypertension</td>\n",
       "    </tr>\n",
       "    <tr>\n",
       "      <th>26</th>\n",
       "      <td>pleomorphic lipoma</td>\n",
       "      <td>dilated cardiomyopathy 1U</td>\n",
       "    </tr>\n",
       "    <tr>\n",
       "      <th>27</th>\n",
       "      <td>female breast cancer</td>\n",
       "      <td>dilated cardiomyopathy 1BB</td>\n",
       "    </tr>\n",
       "    <tr>\n",
       "      <th>28</th>\n",
       "      <td>squamous cell neoplasm</td>\n",
       "      <td>premature atrial contraction</td>\n",
       "    </tr>\n",
       "    <tr>\n",
       "      <th>29</th>\n",
       "      <td>pericardial mesothelioma</td>\n",
       "      <td>Raynaud disease</td>\n",
       "    </tr>\n",
       "  </tbody>\n",
       "</table>\n",
       "</div>"
      ],
      "text/plain": [
       "                                       Cancer  \\\n",
       "0                                   dysplasia   \n",
       "1                     occipital lobe neoplasm   \n",
       "2                              jejunal cancer   \n",
       "3                  alveolar soft part sarcoma   \n",
       "4                      anaplastic astrocytoma   \n",
       "5                                glomus tumor   \n",
       "6                           testicular cancer   \n",
       "7                               pilomatrixoma   \n",
       "8                         epithelioid sarcoma   \n",
       "9                          medulloepithelioma   \n",
       "10       urinary bladder anterior wall cancer   \n",
       "11                             choroid cancer   \n",
       "12                   uterus carcinoma in situ   \n",
       "13                  postcricoid region cancer   \n",
       "14                      adrenal cortex cancer   \n",
       "15          atypical chronic myeloid leukemia   \n",
       "16                  subserous uterine fibroid   \n",
       "17                                  acanthoma   \n",
       "18                        embryonal carcinoma   \n",
       "19        prostatic intraepithelial neoplasia   \n",
       "20                       soft tissue neoplasm   \n",
       "21                    clear cell adenofibroma   \n",
       "22                      neuroectodermal tumor   \n",
       "23     female breast nipple and areola cancer   \n",
       "24                             orbital cancer   \n",
       "25  female breast upper-outer quadrant cancer   \n",
       "26                         pleomorphic lipoma   \n",
       "27                       female breast cancer   \n",
       "28                     squamous cell neoplasm   \n",
       "29                   pericardial mesothelioma   \n",
       "\n",
       "                                       Cardiology  \n",
       "0                                thrombophlebitis  \n",
       "1                acute inferoposterior infarction  \n",
       "2                              Brugada syndrome 1  \n",
       "3                         ventricular tachycardia  \n",
       "4                       dilated cardiomyopathy 3B  \n",
       "5                      vertebral artery occlusion  \n",
       "6                              Brugada syndrome 7  \n",
       "7                     Monckeberg arteriosclerosis  \n",
       "8                             long QT syndrome 14  \n",
       "9                          atrioventricular block  \n",
       "10                             Brugada syndrome 3  \n",
       "11      acute anterolateral myocardial infarction  \n",
       "12  arrhythmogenic right ventricular dysplasia 13  \n",
       "13                                  stable angina  \n",
       "14                        capillary leak syndrome  \n",
       "15                                 aortic disease  \n",
       "16                        intracranial thrombosis  \n",
       "17                        tricuspid valve disease  \n",
       "18                     dilated cardiomyopathy 1CC  \n",
       "19                                       endoleak  \n",
       "20  arrhythmogenic right ventricular dysplasia 11  \n",
       "21                        myocardial degeneration  \n",
       "22                   arterial tortuosity syndrome  \n",
       "23              pulmonary embolism and infarction  \n",
       "24                                       collapse  \n",
       "25                         pulmonary hypertension  \n",
       "26                      dilated cardiomyopathy 1U  \n",
       "27                     dilated cardiomyopathy 1BB  \n",
       "28                   premature atrial contraction  \n",
       "29                                Raynaud disease  "
      ]
     },
     "execution_count": 116,
     "metadata": {},
     "output_type": "execute_result"
    }
   ],
   "source": [
    "df"
   ]
  },
  {
   "cell_type": "code",
   "execution_count": 117,
   "metadata": {},
   "outputs": [],
   "source": [
    "df.to_csv('disease_categories.csv',index=False)"
   ]
  },
  {
   "cell_type": "code",
   "execution_count": null,
   "metadata": {},
   "outputs": [],
   "source": []
  }
 ],
 "metadata": {
  "kernelspec": {
   "display_name": "Python 3",
   "language": "python",
   "name": "python3"
  },
  "language_info": {
   "codemirror_mode": {
    "name": "ipython",
    "version": 3
   },
   "file_extension": ".py",
   "mimetype": "text/x-python",
   "name": "python",
   "nbconvert_exporter": "python",
   "pygments_lexer": "ipython3",
   "version": "3.7.4"
  }
 },
 "nbformat": 4,
 "nbformat_minor": 4
}
