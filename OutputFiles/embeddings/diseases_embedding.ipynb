{
 "cells": [
  {
   "cell_type": "code",
   "execution_count": 619,
   "metadata": {},
   "outputs": [],
   "source": [
    "import pandas as pd\n",
    "import os"
   ]
  },
  {
   "cell_type": "code",
   "execution_count": 620,
   "metadata": {},
   "outputs": [
    {
     "data": {
      "text/plain": [
       "['.DS_Store',\n",
       " 'disease_cause.csv',\n",
       " 'medicine_side_effects.csv',\n",
       " 'medicine_uses.csv',\n",
       " 'Untitled.ipynb',\n",
       " 'disease_specialty.csv',\n",
       " 'embeddigs_diseases.csv',\n",
       " 'diseases_embedding-Copy1.ipynb',\n",
       " '.ipynb_checkpoints',\n",
       " 'application.log',\n",
       " 'diseases_embedding.ipynb',\n",
       " 'disease_symptoms.csv']"
      ]
     },
     "execution_count": 620,
     "metadata": {},
     "output_type": "execute_result"
    }
   ],
   "source": [
    "os.listdir()"
   ]
  },
  {
   "cell_type": "code",
   "execution_count": 621,
   "metadata": {},
   "outputs": [],
   "source": [
    "final_df = pd.read_csv('embeddigs_diseases.csv')"
   ]
  },
  {
   "cell_type": "code",
   "execution_count": 625,
   "metadata": {},
   "outputs": [],
   "source": [
    "import ampligraph\n",
    "import numpy as np"
   ]
  },
  {
   "cell_type": "code",
   "execution_count": 626,
   "metadata": {},
   "outputs": [],
   "source": [
    "from ampligraph.evaluation import train_test_split_no_unseen\n",
    "from ampligraph.datasets import load_from_csv\n"
   ]
  },
  {
   "cell_type": "code",
   "execution_count": 627,
   "metadata": {},
   "outputs": [],
   "source": [
    "X = load_from_csv('.','embeddigs_diseases.csv',sep=',')"
   ]
  },
  {
   "cell_type": "code",
   "execution_count": 628,
   "metadata": {},
   "outputs": [
    {
     "data": {
      "text/plain": [
       "array([['subject', 'predicate', 'object'],\n",
       "       ['encephalitis', 'Cause', 'rabies'],\n",
       "       ['bacterial vaginosis', 'Cause', 'Gardnerella vaginalis'],\n",
       "       ...,\n",
       "       ['acrodermatitis enteropathica', 'Symptom', 'alopecia'],\n",
       "       ['Lassa fever', 'Symptom', 'alopecia'],\n",
       "       ['mercury poisoning', 'Symptom', 'proteinuria']], dtype=object)"
      ]
     },
     "execution_count": 628,
     "metadata": {},
     "output_type": "execute_result"
    }
   ],
   "source": [
    "X"
   ]
  },
  {
   "cell_type": "code",
   "execution_count": 629,
   "metadata": {},
   "outputs": [],
   "source": [
    "X = X[1:]"
   ]
  },
  {
   "cell_type": "code",
   "execution_count": 630,
   "metadata": {},
   "outputs": [
    {
     "data": {
      "text/plain": [
       "9552"
      ]
     },
     "execution_count": 630,
     "metadata": {},
     "output_type": "execute_result"
    }
   ],
   "source": [
    "X.shape[0]"
   ]
  },
  {
   "cell_type": "code",
   "execution_count": 631,
   "metadata": {},
   "outputs": [
    {
     "name": "stdout",
     "output_type": "stream",
     "text": [
      "(9552, 3)\n"
     ]
    }
   ],
   "source": [
    "print(X.shape)"
   ]
  },
  {
   "cell_type": "code",
   "execution_count": 632,
   "metadata": {},
   "outputs": [],
   "source": [
    "from ampligraph.latent_features import ComplEx\n",
    "\n",
    "model = ComplEx(batches_count=50,\n",
    "                epochs=300,\n",
    "                k=100,\n",
    "                eta=20,\n",
    "                optimizer='adam', \n",
    "                optimizer_params={'lr':1e-4},\n",
    "                loss='multiclass_nll',\n",
    "                regularizer='LP', \n",
    "                regularizer_params={'p':3, 'lambda':1e-5}, \n",
    "                seed=0, \n",
    "                verbose=True)"
   ]
  },
  {
   "cell_type": "code",
   "execution_count": 633,
   "metadata": {},
   "outputs": [
    {
     "name": "stderr",
     "output_type": "stream",
     "text": [
      "Average Loss:   0.190152: 100%|██████████| 300/300 [06:11<00:00,  1.24s/epoch]\n"
     ]
    }
   ],
   "source": [
    "import tensorflow as tf\n",
    "tf.logging.set_verbosity(tf.logging.ERROR)\n",
    "\n",
    "model.fit(X)\n"
   ]
  },
  {
   "cell_type": "code",
   "execution_count": 634,
   "metadata": {},
   "outputs": [
    {
     "data": {
      "text/plain": [
       "6150"
      ]
     },
     "execution_count": 634,
     "metadata": {},
     "output_type": "execute_result"
    }
   ],
   "source": [
    "len(set(X[:,0]))"
   ]
  },
  {
   "cell_type": "code",
   "execution_count": 635,
   "metadata": {},
   "outputs": [
    {
     "data": {
      "text/plain": [
       "6150"
      ]
     },
     "execution_count": 635,
     "metadata": {},
     "output_type": "execute_result"
    }
   ],
   "source": [
    "diseases =np.array(list(set(X[:,0])))\n",
    "disease_embeddings = dict(zip(diseases, model.get_embeddings(diseases)))\n",
    "len(diseases)"
   ]
  },
  {
   "cell_type": "code",
   "execution_count": 636,
   "metadata": {},
   "outputs": [
    {
     "data": {
      "text/plain": [
       "6150"
      ]
     },
     "execution_count": 636,
     "metadata": {},
     "output_type": "execute_result"
    }
   ],
   "source": [
    "len(dict(zip(diseases,(model.get_embeddings(diseases)))))"
   ]
  },
  {
   "cell_type": "code",
   "execution_count": 637,
   "metadata": {},
   "outputs": [],
   "source": [
    "from sklearn.decomposition import PCA\n",
    "import matplotlib.pyplot as plt\n",
    "import seaborn as sns\n",
    "embeddings_2d = PCA(n_components=2).fit_transform(np.array([i for i in disease_embeddings.values()]))\n"
   ]
  },
  {
   "cell_type": "code",
   "execution_count": 753,
   "metadata": {},
   "outputs": [],
   "source": [
    "from ampligraph.discovery import find_clusters\n",
    "from sklearn.cluster import KMeans,DBSCAN,OPTICS\n",
    "\n",
    "clustering_algorithm = DBSCAN(eps=0.3,min_samples=4)\n",
    "clusters = find_clusters(diseases, model, clustering_algorithm, mode='entity')"
   ]
  },
  {
   "cell_type": "code",
   "execution_count": 754,
   "metadata": {},
   "outputs": [
    {
     "data": {
      "text/plain": [
       "array([-1,  0,  1,  2,  3,  4,  5,  6,  7,  8,  9, 10, 11, 12, 13, 14, 15,\n",
       "       16, 17, 18, 19, 20, 21, 22, 23, 24, 25, 26, 27, 28, 29, 30, 31, 32,\n",
       "       33, 34, 35, 36, 37, 38, 39, 40, 41, 42, 43, 44, 45])"
      ]
     },
     "execution_count": 754,
     "metadata": {},
     "output_type": "execute_result"
    }
   ],
   "source": [
    "np.unique(clusters)"
   ]
  },
  {
   "cell_type": "code",
   "execution_count": 785,
   "metadata": {},
   "outputs": [],
   "source": [
    "clusters = ['cluster19','cluster1','cluster14','cluster3','cluster23','cluster11','cluster4']\n",
    "title =['Respiratory System Related','Infectious Disease Related','Diabetes Related','Cancer Related','Urology',\n",
    "        'hematology','gastro related']\n",
    "d = {}\n",
    "for i,c in enumerate(clusters):\n",
    "    d[c] = title[i]"
   ]
  },
  {
   "cell_type": "code",
   "execution_count": 750,
   "metadata": {},
   "outputs": [],
   "source": [
    "plot_df = pd.DataFrame({\"diseases\": diseases, \n",
    "                        \"embedding1\": embeddings_2d[:, 0], \n",
    "                        \"embedding2\": embeddings_2d[:, 1],\n",
    "                        \"cluster\": \"cluster\" + pd.Series(clusters).astype(str)})"
   ]
  },
  {
   "cell_type": "code",
   "execution_count": 782,
   "metadata": {},
   "outputs": [],
   "source": [
    "plot_df_display =plot_df[(plot_df['cluster']=='cluster19')|(plot_df['cluster']=='cluster1')|(plot_df['cluster']=='cluster14')\n",
    "       |(plot_df['cluster']=='cluster3')|(plot_df['cluster']=='cluster23')|(plot_df['cluster']=='cluster11')\n",
    "        |(plot_df['cluster']=='cluster4')]"
   ]
  },
  {
   "cell_type": "code",
   "execution_count": 783,
   "metadata": {},
   "outputs": [],
   "source": [
    "def plot_clusters(hue):\n",
    "    np.random.seed(0)\n",
    "    plt.figure(figsize=(20, 15))\n",
    "    plt.title(\"{} embeddings\".format(hue).capitalize())\n",
    "    \n",
    "    \n",
    "   \n",
    "    ax = sns.scatterplot(data=plot_df_display, x=\"embedding1\", y=\"embedding2\", hue=hue)\n",
    "    leg_handles = ax.get_legend_handles_labels()[0]\n",
    "    ax.legend(leg_handles,d.values(), title='New legend')\n",
    "    \n",
    "    \n",
    "    data=plot_df[plot_df.diseases!=\"unk\"]\n",
    "    texts = []\n",
    "    \n",
    "    "
   ]
  },
  {
   "cell_type": "code",
   "execution_count": 784,
   "metadata": {},
   "outputs": [
    {
     "data": {
      "image/png": "[encoded data removed]",
      "text/plain": [
       "<Figure size 1440x1080 with 1 Axes>"
      ]
     },
     "metadata": {
      "needs_background": "light"
     },
     "output_type": "display_data"
    }
   ],
   "source": [
    "plot_clusters('cluster')"
   ]
  },
  {
   "cell_type": "code",
   "execution_count": 786,
   "metadata": {},
   "outputs": [
    {
     "data": {
      "text/plain": [
       "[\"plot_df_display =plot_df[(plot_df['cluster']=='cluster19')|(plot_df['cluster']=='cluster1')|(plot_df['cluster']=='cluster14')\\n       |(plot_df['cluster']=='cluster3')|(plot_df['cluster']=='cluster23')|(plot_df['cluster']=='cluster11')\\n        |(plot_df['cluster']=='cluster4')]\",\n",
       " 'def plot_clusters(hue):\\n    np.random.seed(0)\\n    plt.figure(figsize=(20, 15))\\n    plt.title(\"{} embeddings\".format(hue).capitalize())\\n    \\n    \\n   \\n    ax = sns.scatterplot(data=plot_df_display, x=\"embedding1\", y=\"embedding2\", hue=hue)\\n    leg_handles = ax.get_legend_handles_labels()[0]\\n    ax.legend(leg_handles,d.values(), title=\\'New legend\\')\\n    \\n    \\n    data=plot_df[plot_df.diseases!=\"unk\"]\\n    texts = []\\n    \\n    ',\n",
       " \"plot_clusters('cluster')\",\n",
       " \"clusters = ['cluster19','cluster1','cluster14','cluster3','cluster23','cluster11','cluster4']\\ntitle =['Respiratory System Related','Infectious Disease Related','Diabetes Related','Cancer Related','Urology',\\n        'hematology','gastro related']\\nd = {}\\nfor i,c in enumerate(clusters):\\n    d[c] = title[i]\",\n",
       " '_ih[-5:]']"
      ]
     },
     "execution_count": 786,
     "metadata": {},
     "output_type": "execute_result"
    }
   ],
   "source": [
    "_ih[-5:]"
   ]
  },
  {
   "cell_type": "code",
   "execution_count": 812,
   "metadata": {},
   "outputs": [],
   "source": [
    "df = pd.DataFrame(columns=d.values())"
   ]
  },
  {
   "cell_type": "code",
   "execution_count": 813,
   "metadata": {},
   "outputs": [
    {
     "data": {
      "text/html": [
       "<div>\n",
       "<style scoped>\n",
       "    .dataframe tbody tr th:only-of-type {\n",
       "        vertical-align: middle;\n",
       "    }\n",
       "\n",
       "    .dataframe tbody tr th {\n",
       "        vertical-align: top;\n",
       "    }\n",
       "\n",
       "    .dataframe thead th {\n",
       "        text-align: right;\n",
       "    }\n",
       "</style>\n",
       "<table border=\"1\" class=\"dataframe\">\n",
       "  <thead>\n",
       "    <tr style=\"text-align: right;\">\n",
       "      <th></th>\n",
       "      <th>Respiratory System Related</th>\n",
       "      <th>Infectious Disease Related</th>\n",
       "      <th>Diabetes Related</th>\n",
       "      <th>Cancer Related</th>\n",
       "      <th>Urology</th>\n",
       "      <th>hematology</th>\n",
       "      <th>gastro related</th>\n",
       "    </tr>\n",
       "  </thead>\n",
       "  <tbody>\n",
       "  </tbody>\n",
       "</table>\n",
       "</div>"
      ],
      "text/plain": [
       "Empty DataFrame\n",
       "Columns: [Respiratory System Related, Infectious Disease Related, Diabetes Related, Cancer Related, Urology, hematology, gastro related]\n",
       "Index: []"
      ]
     },
     "execution_count": 813,
     "metadata": {},
     "output_type": "execute_result"
    }
   ],
   "source": [
    "df"
   ]
  },
  {
   "cell_type": "code",
   "execution_count": 814,
   "metadata": {},
   "outputs": [
    {
     "data": {
      "text/plain": [
       "['cluster19',\n",
       " 'cluster1',\n",
       " 'cluster14',\n",
       " 'cluster3',\n",
       " 'cluster23',\n",
       " 'cluster11',\n",
       " 'cluster4']"
      ]
     },
     "execution_count": 814,
     "metadata": {},
     "output_type": "execute_result"
    }
   ],
   "source": [
    "clusters"
   ]
  },
  {
   "cell_type": "code",
   "execution_count": 816,
   "metadata": {},
   "outputs": [],
   "source": [
    "for i in range(5):\n",
    "    a =[]\n",
    "    for c in clusters:\n",
    "        \n",
    "        temp = plot_df[plot_df['cluster']==c]['diseases'].iloc[i]\n",
    "        a.append(temp)\n",
    "    \n",
    "    df.loc[len(df)] = a"
   ]
  },
  {
   "cell_type": "code",
   "execution_count": 817,
   "metadata": {},
   "outputs": [
    {
     "data": {
      "text/html": [
       "<div>\n",
       "<style scoped>\n",
       "    .dataframe tbody tr th:only-of-type {\n",
       "        vertical-align: middle;\n",
       "    }\n",
       "\n",
       "    .dataframe tbody tr th {\n",
       "        vertical-align: top;\n",
       "    }\n",
       "\n",
       "    .dataframe thead th {\n",
       "        text-align: right;\n",
       "    }\n",
       "</style>\n",
       "<table border=\"1\" class=\"dataframe\">\n",
       "  <thead>\n",
       "    <tr style=\"text-align: right;\">\n",
       "      <th></th>\n",
       "      <th>Respiratory System Related</th>\n",
       "      <th>Infectious Disease Related</th>\n",
       "      <th>Diabetes Related</th>\n",
       "      <th>Cancer Related</th>\n",
       "      <th>Urology</th>\n",
       "      <th>hematology</th>\n",
       "      <th>gastro related</th>\n",
       "    </tr>\n",
       "  </thead>\n",
       "  <tbody>\n",
       "    <tr>\n",
       "      <th>0</th>\n",
       "      <td>chronic lower respiratory diseases</td>\n",
       "      <td>cerebral toxoplasmosis</td>\n",
       "      <td>metabolic disease</td>\n",
       "      <td>parathyroid adenoma</td>\n",
       "      <td>endosalpingiosis</td>\n",
       "      <td>Hyper-IgM syndrome type 4</td>\n",
       "      <td>intestinal fistula</td>\n",
       "    </tr>\n",
       "    <tr>\n",
       "      <th>1</th>\n",
       "      <td>ventilation pneumonitis</td>\n",
       "      <td>tertiary syphilis</td>\n",
       "      <td>hypolipoproteinemia</td>\n",
       "      <td>dysplasia</td>\n",
       "      <td>prostatic hypertrophy</td>\n",
       "      <td>splenic sequestration</td>\n",
       "      <td>oral hairy leukoplakia</td>\n",
       "    </tr>\n",
       "    <tr>\n",
       "      <th>2</th>\n",
       "      <td>tracheitis</td>\n",
       "      <td>trachoma</td>\n",
       "      <td>Cushing's syndrome</td>\n",
       "      <td>cerebral ventricle cancer</td>\n",
       "      <td>ovarian disease</td>\n",
       "      <td>blood platelet disease</td>\n",
       "      <td>ascending cholangitis</td>\n",
       "    </tr>\n",
       "    <tr>\n",
       "      <th>3</th>\n",
       "      <td>pulmonary hemosiderosis</td>\n",
       "      <td>Condyloma</td>\n",
       "      <td>glucose intolerance</td>\n",
       "      <td>krebs 2 carcinoma</td>\n",
       "      <td>prolapse of female genital organ</td>\n",
       "      <td>multiple myeloma</td>\n",
       "      <td>amelogenesis imperfecta hypomaturation type 2A4</td>\n",
       "    </tr>\n",
       "    <tr>\n",
       "      <th>4</th>\n",
       "      <td>bronchiolitis obliterans</td>\n",
       "      <td>early yaws</td>\n",
       "      <td>isovaleric acidemia</td>\n",
       "      <td>thyroid medullary carcinoma</td>\n",
       "      <td>prostatic adenoma</td>\n",
       "      <td>chronic lymphocytic leukemia</td>\n",
       "      <td>Spontaneous bacterial peritonitis</td>\n",
       "    </tr>\n",
       "  </tbody>\n",
       "</table>\n",
       "</div>"
      ],
      "text/plain": [
       "           Respiratory System Related Infectious Disease Related  \\\n",
       "0  chronic lower respiratory diseases     cerebral toxoplasmosis   \n",
       "1             ventilation pneumonitis          tertiary syphilis   \n",
       "2                          tracheitis                   trachoma   \n",
       "3             pulmonary hemosiderosis                  Condyloma   \n",
       "4            bronchiolitis obliterans                 early yaws   \n",
       "\n",
       "      Diabetes Related               Cancer Related  \\\n",
       "0    metabolic disease          parathyroid adenoma   \n",
       "1  hypolipoproteinemia                    dysplasia   \n",
       "2   Cushing's syndrome    cerebral ventricle cancer   \n",
       "3  glucose intolerance            krebs 2 carcinoma   \n",
       "4  isovaleric acidemia  thyroid medullary carcinoma   \n",
       "\n",
       "                            Urology                    hematology  \\\n",
       "0                  endosalpingiosis     Hyper-IgM syndrome type 4   \n",
       "1             prostatic hypertrophy         splenic sequestration   \n",
       "2                   ovarian disease        blood platelet disease   \n",
       "3  prolapse of female genital organ              multiple myeloma   \n",
       "4                 prostatic adenoma  chronic lymphocytic leukemia   \n",
       "\n",
       "                                    gastro related  \n",
       "0                               intestinal fistula  \n",
       "1                           oral hairy leukoplakia  \n",
       "2                            ascending cholangitis  \n",
       "3  amelogenesis imperfecta hypomaturation type 2A4  \n",
       "4                Spontaneous bacterial peritonitis  "
      ]
     },
     "execution_count": 817,
     "metadata": {},
     "output_type": "execute_result"
    }
   ],
   "source": [
    "df"
   ]
  },
  {
   "cell_type": "code",
   "execution_count": null,
   "metadata": {},
   "outputs": [],
   "source": []
  }
 ],
 "metadata": {
  "kernelspec": {
   "display_name": "Python 3",
   "language": "python",
   "name": "python3"
  },
  "language_info": {
   "codemirror_mode": {
    "name": "ipython",
    "version": 3
   },
   "file_extension": ".py",
   "mimetype": "text/x-python",
   "name": "python",
   "nbconvert_exporter": "python",
   "pygments_lexer": "ipython3",
   "version": "3.7.4"
  }
 },
 "nbformat": 4,
 "nbformat_minor": 4
}
