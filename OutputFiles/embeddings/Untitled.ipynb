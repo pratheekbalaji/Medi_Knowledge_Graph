{
 "cells": [
  {
   "cell_type": "code",
   "execution_count": 39,
   "metadata": {},
   "outputs": [],
   "source": [
    "import pandas as pd\n",
    "import os"
   ]
  },
  {
   "cell_type": "code",
   "execution_count": 40,
   "metadata": {},
   "outputs": [
    {
     "data": {
      "text/plain": [
       "['disease_cause.csv',\n",
       " 'Untitled.ipynb',\n",
       " 'disease_specialty.csv',\n",
       " 'embeddigs_diseases.csv',\n",
       " '.ipynb_checkpoints',\n",
       " 'disease_symptoms.csv']"
      ]
     },
     "execution_count": 40,
     "metadata": {},
     "output_type": "execute_result"
    }
   ],
   "source": [
    "os.listdir()"
   ]
  },
  {
   "cell_type": "code",
   "execution_count": 45,
   "metadata": {},
   "outputs": [],
   "source": [
    "df1 = pd.read_csv('disease_cause.csv')\n",
    "df2 = pd.read_csv('disease_specialty.csv')\n",
    "df3 = pd.read_csv('disease_symptoms.csv')"
   ]
  },
  {
   "cell_type": "code",
   "execution_count": 46,
   "metadata": {},
   "outputs": [],
   "source": [
    "final_df=pd.concat([df1,df2,df3])\n",
    "\n",
    "final_df.to_csv('embeddigs_diseases.csv',index=False)"
   ]
  },
  {
   "cell_type": "code",
   "execution_count": 43,
   "metadata": {},
   "outputs": [
    {
     "data": {
      "text/html": [
       "<div>\n",
       "<style scoped>\n",
       "    .dataframe tbody tr th:only-of-type {\n",
       "        vertical-align: middle;\n",
       "    }\n",
       "\n",
       "    .dataframe tbody tr th {\n",
       "        vertical-align: top;\n",
       "    }\n",
       "\n",
       "    .dataframe thead th {\n",
       "        text-align: right;\n",
       "    }\n",
       "</style>\n",
       "<table border=\"1\" class=\"dataframe\">\n",
       "  <thead>\n",
       "    <tr style=\"text-align: right;\">\n",
       "      <th></th>\n",
       "      <th>subject</th>\n",
       "      <th>predicate</th>\n",
       "      <th>object</th>\n",
       "    </tr>\n",
       "  </thead>\n",
       "  <tbody>\n",
       "    <tr>\n",
       "      <th>0</th>\n",
       "      <td>\"encephalitis\"</td>\n",
       "      <td>Cause</td>\n",
       "      <td>\"rabies\"</td>\n",
       "    </tr>\n",
       "    <tr>\n",
       "      <th>1</th>\n",
       "      <td>\"bacterial vaginosis\"</td>\n",
       "      <td>Cause</td>\n",
       "      <td>\"Gardnerella vaginalis\"</td>\n",
       "    </tr>\n",
       "    <tr>\n",
       "      <th>2</th>\n",
       "      <td>\"obsolete adenovirus infectious disease\"</td>\n",
       "      <td>Cause</td>\n",
       "      <td>\"Adenoviridae\"</td>\n",
       "    </tr>\n",
       "    <tr>\n",
       "      <th>3</th>\n",
       "      <td>\"spinal stenosis\"</td>\n",
       "      <td>Cause</td>\n",
       "      <td>\"spondylosis\"</td>\n",
       "    </tr>\n",
       "    <tr>\n",
       "      <th>4</th>\n",
       "      <td>\"endemic goiter\"</td>\n",
       "      <td>Cause</td>\n",
       "      <td>\"iodine deficiency\"</td>\n",
       "    </tr>\n",
       "    <tr>\n",
       "      <th>...</th>\n",
       "      <td>...</td>\n",
       "      <td>...</td>\n",
       "      <td>...</td>\n",
       "    </tr>\n",
       "    <tr>\n",
       "      <th>1627</th>\n",
       "      <td>\"primary amebic meningoencephalitis\"</td>\n",
       "      <td>Symptom</td>\n",
       "      <td>\"ulcer\"</td>\n",
       "    </tr>\n",
       "    <tr>\n",
       "      <th>1628</th>\n",
       "      <td>\"Crohn's disease\"</td>\n",
       "      <td>Symptom</td>\n",
       "      <td>\"ulcer\"</td>\n",
       "    </tr>\n",
       "    <tr>\n",
       "      <th>1629</th>\n",
       "      <td>\"acrodermatitis enteropathica\"</td>\n",
       "      <td>Symptom</td>\n",
       "      <td>\"alopecia\"</td>\n",
       "    </tr>\n",
       "    <tr>\n",
       "      <th>1630</th>\n",
       "      <td>\"Lassa fever\"</td>\n",
       "      <td>Symptom</td>\n",
       "      <td>\"alopecia\"</td>\n",
       "    </tr>\n",
       "    <tr>\n",
       "      <th>1631</th>\n",
       "      <td>\"mercury poisoning\"</td>\n",
       "      <td>Symptom</td>\n",
       "      <td>\"proteinuria\"</td>\n",
       "    </tr>\n",
       "  </tbody>\n",
       "</table>\n",
       "<p>9554 rows × 3 columns</p>\n",
       "</div>"
      ],
      "text/plain": [
       "                                         subject predicate  \\\n",
       "0                                \"encephalitis\"      Cause   \n",
       "1                         \"bacterial vaginosis\"      Cause   \n",
       "2      \"obsolete adenovirus infectious disease\"      Cause   \n",
       "3                             \"spinal stenosis\"      Cause   \n",
       "4                              \"endemic goiter\"      Cause   \n",
       "...                                          ...       ...   \n",
       "1627       \"primary amebic meningoencephalitis\"    Symptom   \n",
       "1628                          \"Crohn's disease\"    Symptom   \n",
       "1629             \"acrodermatitis enteropathica\"    Symptom   \n",
       "1630                              \"Lassa fever\"    Symptom   \n",
       "1631                        \"mercury poisoning\"    Symptom   \n",
       "\n",
       "                         object  \n",
       "0                     \"rabies\"   \n",
       "1      \"Gardnerella vaginalis\"   \n",
       "2               \"Adenoviridae\"   \n",
       "3                \"spondylosis\"   \n",
       "4          \"iodine deficiency\"   \n",
       "...                         ...  \n",
       "1627                   \"ulcer\"   \n",
       "1628                   \"ulcer\"   \n",
       "1629                \"alopecia\"   \n",
       "1630                \"alopecia\"   \n",
       "1631             \"proteinuria\"   \n",
       "\n",
       "[9554 rows x 3 columns]"
      ]
     },
     "execution_count": 43,
     "metadata": {},
     "output_type": "execute_result"
    }
   ],
   "source": [
    "final_df"
   ]
  },
  {
   "cell_type": "code",
   "execution_count": 59,
   "metadata": {},
   "outputs": [],
   "source": [
    "import ampligraph\n",
    "import numpy as np"
   ]
  },
  {
   "cell_type": "code",
   "execution_count": 49,
   "metadata": {},
   "outputs": [],
   "source": [
    "from ampligraph.evaluation import train_test_split_no_unseen\n",
    "from ampligraph.datasets import load_from_csv\n"
   ]
  },
  {
   "cell_type": "code",
   "execution_count": 54,
   "metadata": {},
   "outputs": [],
   "source": [
    "X = load_from_csv('.','embeddigs_diseases.csv',sep=',')"
   ]
  },
  {
   "cell_type": "code",
   "execution_count": 57,
   "metadata": {},
   "outputs": [
    {
     "data": {
      "text/plain": [
       "9552"
      ]
     },
     "execution_count": 57,
     "metadata": {},
     "output_type": "execute_result"
    }
   ],
   "source": [
    "X.shape[0]"
   ]
  },
  {
   "cell_type": "code",
   "execution_count": 64,
   "metadata": {},
   "outputs": [],
   "source": [
    "X_train, X_valid = train_test_split_no_unseen(np.array(X), test_size=int(X.shape[0]/10))"
   ]
  },
  {
   "cell_type": "code",
   "execution_count": 65,
   "metadata": {},
   "outputs": [
    {
     "data": {
      "text/plain": [
       "array([[' \"encephalitis\" ', 'Cause', ' \"rabies\" '],\n",
       "       [' \"bacterial vaginosis\" ', 'Cause', ' \"Gardnerella vaginalis\" '],\n",
       "       [' \"obsolete adenovirus infectious disease\" ', 'Cause',\n",
       "        ' \"Adenoviridae\" '],\n",
       "       ...,\n",
       "       [' \"acrodermatitis enteropathica\" ', 'Symptom', ' \"alopecia\" '],\n",
       "       [' \"Lassa fever\" ', 'Symptom', ' \"alopecia\" '],\n",
       "       [' \"mercury poisoning\" ', 'Symptom', ' \"proteinuria\" ']],\n",
       "      dtype=object)"
      ]
     },
     "execution_count": 65,
     "metadata": {},
     "output_type": "execute_result"
    }
   ],
   "source": [
    "X_train"
   ]
  },
  {
   "cell_type": "code",
   "execution_count": 66,
   "metadata": {},
   "outputs": [
    {
     "name": "stdout",
     "output_type": "stream",
     "text": [
      "Train set size:  (8597, 3)\n",
      "Test set size:  (955, 3)\n"
     ]
    }
   ],
   "source": [
    "print('Train set size: ', X_train.shape)\n",
    "print('Test set size: ', X_valid.shape)\n"
   ]
  },
  {
   "cell_type": "code",
   "execution_count": 67,
   "metadata": {},
   "outputs": [],
   "source": [
    "from ampligraph.latent_features import ComplEx\n",
    "\n",
    "model = ComplEx(batches_count=50,\n",
    "                epochs=300,\n",
    "                k=100,\n",
    "                eta=20,\n",
    "                optimizer='adam', \n",
    "                optimizer_params={'lr':1e-4},\n",
    "                loss='multiclass_nll',\n",
    "                regularizer='LP', \n",
    "                regularizer_params={'p':3, 'lambda':1e-5}, \n",
    "                seed=0, \n",
    "                verbose=True)"
   ]
  },
  {
   "cell_type": "code",
   "execution_count": 68,
   "metadata": {},
   "outputs": [
    {
     "name": "stderr",
     "output_type": "stream",
     "text": [
      "Average Loss:   0.361013: 100%|██████████| 300/300 [05:46<00:00,  1.15s/epoch]\n"
     ]
    }
   ],
   "source": [
    "import tensorflow as tf\n",
    "tf.logging.set_verbosity(tf.logging.ERROR)\n",
    "\n",
    "model.fit(X_train)\n"
   ]
  },
  {
   "cell_type": "code",
   "execution_count": 70,
   "metadata": {},
   "outputs": [
    {
     "name": "stdout",
     "output_type": "stream",
     "text": [
      "WARNING - DeprecationWarning: use_default_protocol will be removed in future. Please use corrupt_side argument instead.\n"
     ]
    },
    {
     "name": "stderr",
     "output_type": "stream",
     "text": [
      "100%|██████████| 955/955 [00:20<00:00, 47.47it/s]\n"
     ]
    }
   ],
   "source": [
    "from ampligraph.evaluation import evaluate_performance\n",
    "filter_triples = np.concatenate((X_train, X_valid))\n",
    "ranks = evaluate_performance(X_valid,\n",
    "                             model=model, \n",
    "                             filter_triples=filter_triples,\n",
    "                             use_default_protocol=True,\n",
    "                             verbose=True)"
   ]
  },
  {
   "cell_type": "code",
   "execution_count": 71,
   "metadata": {},
   "outputs": [
    {
     "name": "stdout",
     "output_type": "stream",
     "text": [
      "MRR: 0.08\n",
      "MR: 2043.11\n",
      "Hits@10: 0.17\n",
      "Hits@3: 0.09\n",
      "Hits@1: 0.04\n"
     ]
    }
   ],
   "source": [
    "from ampligraph.evaluation import mr_score, mrr_score, hits_at_n_score\n",
    "\n",
    "mr = mr_score(ranks)\n",
    "mrr = mrr_score(ranks)\n",
    "\n",
    "print(\"MRR: %.2f\" % (mrr))\n",
    "print(\"MR: %.2f\" % (mr))\n",
    "\n",
    "hits_10 = hits_at_n_score(ranks, n=10)\n",
    "print(\"Hits@10: %.2f\" % (hits_10))\n",
    "hits_3 = hits_at_n_score(ranks, n=3)\n",
    "print(\"Hits@3: %.2f\" % (hits_3))\n",
    "hits_1 = hits_at_n_score(ranks, n=1)\n",
    "print(\"Hits@1: %.2f\" % (hits_1))\n"
   ]
  },
  {
   "cell_type": "code",
   "execution_count": null,
   "metadata": {},
   "outputs": [],
   "source": [
    "from ampligraph.discovery import find_clusters\n",
    "from sklearn.cluster import KMeans"
   ]
  },
  {
   "cell_type": "code",
   "execution_count": 125,
   "metadata": {},
   "outputs": [
    {
     "data": {
      "text/plain": [
       "6151"
      ]
     },
     "execution_count": 125,
     "metadata": {},
     "output_type": "execute_result"
    }
   ],
   "source": [
    "diseases =np.array(list(set(X_train[:,0])))\n",
    "disease_embeddings = dict(zip(diseases, model.get_embeddings(diseases)))\n",
    "len(diseases)"
   ]
  },
  {
   "cell_type": "code",
   "execution_count": 126,
   "metadata": {},
   "outputs": [
    {
     "data": {
      "text/plain": [
       "6151"
      ]
     },
     "execution_count": 126,
     "metadata": {},
     "output_type": "execute_result"
    }
   ],
   "source": [
    "len(dict(zip(diseases,(model.get_embeddings(diseases)))))"
   ]
  },
  {
   "cell_type": "code",
   "execution_count": 127,
   "metadata": {},
   "outputs": [],
   "source": [
    "from sklearn.decomposition import PCA\n",
    "import matplotlib.pyplot as plt\n",
    "import seaborn as sns\n",
    "embeddings_2d = PCA(n_components=2).fit_transform(np.array([i for i in disease_embeddings.values()]))\n"
   ]
  },
  {
   "cell_type": "code",
   "execution_count": 110,
   "metadata": {},
   "outputs": [
    {
     "data": {
      "text/plain": [
       "(9552, 3)"
      ]
     },
     "execution_count": 110,
     "metadata": {},
     "output_type": "execute_result"
    }
   ],
   "source": []
  },
  {
   "cell_type": "code",
   "execution_count": 174,
   "metadata": {},
   "outputs": [],
   "source": [
    "from ampligraph.discovery import find_clusters\n",
    "from sklearn.cluster import KMeans,DBSCAN\n",
    "\n",
    "clustering_algorithm = DBSCAN()\n",
    "clusters = find_clusters(diseases, model, clustering_algorithm, mode='entity')"
   ]
  },
  {
   "cell_type": "code",
   "execution_count": 201,
   "metadata": {},
   "outputs": [
    {
     "data": {
      "text/plain": [
       "array([-1,  0,  1,  2,  3,  4,  5,  6,  7,  8,  9, 10, 11, 12, 13, 14, 15,\n",
       "       16, 17, 18, 19, 20, 21, 22, 23, 24, 25, 26, 27, 28, 29, 30, 31, 32,\n",
       "       33, 34, 35, 36, 37, 38, 39, 40, 41, 42, 43, 44, 45, 46, 47, 48, 49,\n",
       "       50, 51, 52, 53, 54, 55, 56, 57, 58])"
      ]
     },
     "execution_count": 201,
     "metadata": {},
     "output_type": "execute_result"
    }
   ],
   "source": [
    "np.unique(clusters)"
   ]
  },
  {
   "cell_type": "code",
   "execution_count": 181,
   "metadata": {},
   "outputs": [],
   "source": [
    "plot_df = pd.DataFrame({\"diseases\": diseases, \n",
    "                        \"embedding1\": embeddings_2d[:, 0], \n",
    "                        \"embedding2\": embeddings_2d[:, 1],\n",
    "                        \"cluster\": \"cluster\" + pd.Series(clusters).astype(str)})"
   ]
  },
  {
   "cell_type": "code",
   "execution_count": 156,
   "metadata": {},
   "outputs": [],
   "source": [
    "def plot_clusters(hue):\n",
    "    np.random.seed(0)\n",
    "    plt.figure(figsize=(20, 15))\n",
    "    plt.title(\"{} embeddings\".format(hue).capitalize())\n",
    "    ax = sns.scatterplot(data=plot_df[plot_df.diseases!=\"unk\"].iloc[0:20], x=\"embedding1\", y=\"embedding2\", hue=hue)\n",
    "    data=plot_df[plot_df.diseases!=\"unk\"].iloc[0:20]\n",
    "    texts = []\n",
    "    for i, point in data.iterrows():\n",
    "        texts.append(plt.text(point['embedding1']+0.02, point['embedding2']+0.01, str(point[\"diseases\"])))\n",
    "    "
   ]
  },
  {
   "cell_type": "code",
   "execution_count": 157,
   "metadata": {},
   "outputs": [
    {
     "data": {
      "image/png": "[encoded data removed]",
      "text/plain": [
       "<Figure size 1440x1080 with 1 Axes>"
      ]
     },
     "metadata": {
      "needs_background": "light"
     },
     "output_type": "display_data"
    }
   ],
   "source": [
    "plot_clusters('cluster')"
   ]
  },
  {
   "cell_type": "code",
   "execution_count": 205,
   "metadata": {},
   "outputs": [
    {
     "data": {
      "text/html": [
       "<div>\n",
       "<style scoped>\n",
       "    .dataframe tbody tr th:only-of-type {\n",
       "        vertical-align: middle;\n",
       "    }\n",
       "\n",
       "    .dataframe tbody tr th {\n",
       "        vertical-align: top;\n",
       "    }\n",
       "\n",
       "    .dataframe thead th {\n",
       "        text-align: right;\n",
       "    }\n",
       "</style>\n",
       "<table border=\"1\" class=\"dataframe\">\n",
       "  <thead>\n",
       "    <tr style=\"text-align: right;\">\n",
       "      <th></th>\n",
       "      <th>diseases</th>\n",
       "      <th>embedding1</th>\n",
       "      <th>embedding2</th>\n",
       "      <th>cluster</th>\n",
       "    </tr>\n",
       "  </thead>\n",
       "  <tbody>\n",
       "    <tr>\n",
       "      <th>12</th>\n",
       "      <td>\"arizonosis\"</td>\n",
       "      <td>-0.144345</td>\n",
       "      <td>0.608246</td>\n",
       "      <td>cluster7</td>\n",
       "    </tr>\n",
       "    <tr>\n",
       "      <th>178</th>\n",
       "      <td>\"baylisascariasis\"</td>\n",
       "      <td>-0.167976</td>\n",
       "      <td>0.580644</td>\n",
       "      <td>cluster7</td>\n",
       "    </tr>\n",
       "    <tr>\n",
       "      <th>225</th>\n",
       "      <td>\"mesocestoidiasis\"</td>\n",
       "      <td>-0.198233</td>\n",
       "      <td>0.648878</td>\n",
       "      <td>cluster7</td>\n",
       "    </tr>\n",
       "    <tr>\n",
       "      <th>661</th>\n",
       "      <td>\"Acinetobacter infectious disease\"</td>\n",
       "      <td>-0.177107</td>\n",
       "      <td>0.622956</td>\n",
       "      <td>cluster7</td>\n",
       "    </tr>\n",
       "    <tr>\n",
       "      <th>862</th>\n",
       "      <td>\"human immunodeficiency virus infectious dise...</td>\n",
       "      <td>-0.167608</td>\n",
       "      <td>0.632806</td>\n",
       "      <td>cluster7</td>\n",
       "    </tr>\n",
       "    <tr>\n",
       "      <th>1231</th>\n",
       "      <td>\"Polyomavirus-associated Nephropathy\"</td>\n",
       "      <td>-0.144526</td>\n",
       "      <td>0.594836</td>\n",
       "      <td>cluster7</td>\n",
       "    </tr>\n",
       "    <tr>\n",
       "      <th>1232</th>\n",
       "      <td>\"black piedra\"</td>\n",
       "      <td>-0.178518</td>\n",
       "      <td>0.616393</td>\n",
       "      <td>cluster7</td>\n",
       "    </tr>\n",
       "    <tr>\n",
       "      <th>1280</th>\n",
       "      <td>\"cysticercosis\"</td>\n",
       "      <td>-0.183762</td>\n",
       "      <td>0.639975</td>\n",
       "      <td>cluster7</td>\n",
       "    </tr>\n",
       "    <tr>\n",
       "      <th>1323</th>\n",
       "      <td>\"spiruridiasis\"</td>\n",
       "      <td>-0.184757</td>\n",
       "      <td>0.604131</td>\n",
       "      <td>cluster7</td>\n",
       "    </tr>\n",
       "    <tr>\n",
       "      <th>1426</th>\n",
       "      <td>\"Monieziosis\"</td>\n",
       "      <td>-0.193924</td>\n",
       "      <td>0.601437</td>\n",
       "      <td>cluster7</td>\n",
       "    </tr>\n",
       "    <tr>\n",
       "      <th>1542</th>\n",
       "      <td>\"papular stomatitis\"</td>\n",
       "      <td>-0.181218</td>\n",
       "      <td>0.568728</td>\n",
       "      <td>cluster7</td>\n",
       "    </tr>\n",
       "    <tr>\n",
       "      <th>1549</th>\n",
       "      <td>\"gonococcal infectious diseases\"</td>\n",
       "      <td>-0.189667</td>\n",
       "      <td>0.569425</td>\n",
       "      <td>cluster7</td>\n",
       "    </tr>\n",
       "    <tr>\n",
       "      <th>1747</th>\n",
       "      <td>\"hantavirus hemorrhagic fever\"</td>\n",
       "      <td>-0.169379</td>\n",
       "      <td>0.595946</td>\n",
       "      <td>cluster7</td>\n",
       "    </tr>\n",
       "    <tr>\n",
       "      <th>1778</th>\n",
       "      <td>\"Skrljevo disease\"</td>\n",
       "      <td>-0.192205</td>\n",
       "      <td>0.599037</td>\n",
       "      <td>cluster7</td>\n",
       "    </tr>\n",
       "    <tr>\n",
       "      <th>1873</th>\n",
       "      <td>\"Whitewater Arroyo hemorrhagic fever\"</td>\n",
       "      <td>-0.185792</td>\n",
       "      <td>0.597635</td>\n",
       "      <td>cluster7</td>\n",
       "    </tr>\n",
       "    <tr>\n",
       "      <th>1997</th>\n",
       "      <td>\"Balkan hemorrhagic fever\"</td>\n",
       "      <td>-0.179127</td>\n",
       "      <td>0.626803</td>\n",
       "      <td>cluster7</td>\n",
       "    </tr>\n",
       "    <tr>\n",
       "      <th>2087</th>\n",
       "      <td>\"Pseudamphistomum truncatum  infection\"</td>\n",
       "      <td>-0.165737</td>\n",
       "      <td>0.613743</td>\n",
       "      <td>cluster7</td>\n",
       "    </tr>\n",
       "    <tr>\n",
       "      <th>2222</th>\n",
       "      <td>\"Poxviridae infectious disease\"</td>\n",
       "      <td>-0.188790</td>\n",
       "      <td>0.589977</td>\n",
       "      <td>cluster7</td>\n",
       "    </tr>\n",
       "    <tr>\n",
       "      <th>2307</th>\n",
       "      <td>\"Creeping myiasis\"</td>\n",
       "      <td>-0.162088</td>\n",
       "      <td>0.576653</td>\n",
       "      <td>cluster7</td>\n",
       "    </tr>\n",
       "    <tr>\n",
       "      <th>2779</th>\n",
       "      <td>\"herpes B\"</td>\n",
       "      <td>-0.159872</td>\n",
       "      <td>0.613456</td>\n",
       "      <td>cluster7</td>\n",
       "    </tr>\n",
       "    <tr>\n",
       "      <th>2820</th>\n",
       "      <td>\"Chlamydia pneumonia\"</td>\n",
       "      <td>-0.173294</td>\n",
       "      <td>0.599852</td>\n",
       "      <td>cluster7</td>\n",
       "    </tr>\n",
       "    <tr>\n",
       "      <th>2862</th>\n",
       "      <td>\"echovirus 9 infection\"</td>\n",
       "      <td>-0.168355</td>\n",
       "      <td>0.617316</td>\n",
       "      <td>cluster7</td>\n",
       "    </tr>\n",
       "    <tr>\n",
       "      <th>2928</th>\n",
       "      <td>\"philophthalmiasis\"</td>\n",
       "      <td>-0.154801</td>\n",
       "      <td>0.595550</td>\n",
       "      <td>cluster7</td>\n",
       "    </tr>\n",
       "    <tr>\n",
       "      <th>2965</th>\n",
       "      <td>\"Eastern equine encephalitis\"</td>\n",
       "      <td>-0.176438</td>\n",
       "      <td>0.625359</td>\n",
       "      <td>cluster7</td>\n",
       "    </tr>\n",
       "    <tr>\n",
       "      <th>3038</th>\n",
       "      <td>\"legionellosis\"</td>\n",
       "      <td>-0.169743</td>\n",
       "      <td>0.621971</td>\n",
       "      <td>cluster7</td>\n",
       "    </tr>\n",
       "    <tr>\n",
       "      <th>3176</th>\n",
       "      <td>\"lujo hemorrhagic fever\"</td>\n",
       "      <td>-0.174560</td>\n",
       "      <td>0.575412</td>\n",
       "      <td>cluster7</td>\n",
       "    </tr>\n",
       "    <tr>\n",
       "      <th>3258</th>\n",
       "      <td>\"microsporidiosis\"</td>\n",
       "      <td>-0.204197</td>\n",
       "      <td>0.570969</td>\n",
       "      <td>cluster7</td>\n",
       "    </tr>\n",
       "    <tr>\n",
       "      <th>3323</th>\n",
       "      <td>\"(+)ssRNA virus infectious disease\"</td>\n",
       "      <td>-0.175784</td>\n",
       "      <td>0.600784</td>\n",
       "      <td>cluster7</td>\n",
       "    </tr>\n",
       "    <tr>\n",
       "      <th>3334</th>\n",
       "      <td>\"mucormycosis\"</td>\n",
       "      <td>-0.183584</td>\n",
       "      <td>0.633101</td>\n",
       "      <td>cluster7</td>\n",
       "    </tr>\n",
       "    <tr>\n",
       "      <th>3447</th>\n",
       "      <td>\"Pneumocystis infectious disease\"</td>\n",
       "      <td>-0.178934</td>\n",
       "      <td>0.596838</td>\n",
       "      <td>cluster7</td>\n",
       "    </tr>\n",
       "    <tr>\n",
       "      <th>3544</th>\n",
       "      <td>\"acanthocephaliasis\"</td>\n",
       "      <td>-0.159759</td>\n",
       "      <td>0.566874</td>\n",
       "      <td>cluster7</td>\n",
       "    </tr>\n",
       "    <tr>\n",
       "      <th>3599</th>\n",
       "      <td>\"Helicobacter infection\"</td>\n",
       "      <td>-0.131909</td>\n",
       "      <td>0.561624</td>\n",
       "      <td>cluster7</td>\n",
       "    </tr>\n",
       "    <tr>\n",
       "      <th>3654</th>\n",
       "      <td>\"enterohaemorrhagic Escherichia coli infection\"</td>\n",
       "      <td>-0.199450</td>\n",
       "      <td>0.601714</td>\n",
       "      <td>cluster7</td>\n",
       "    </tr>\n",
       "    <tr>\n",
       "      <th>3731</th>\n",
       "      <td>\"parasitic Ichthyosporea infectious disease\"</td>\n",
       "      <td>-0.147365</td>\n",
       "      <td>0.553890</td>\n",
       "      <td>cluster7</td>\n",
       "    </tr>\n",
       "    <tr>\n",
       "      <th>3932</th>\n",
       "      <td>\"enzootic bovine leukosis\"</td>\n",
       "      <td>-0.146372</td>\n",
       "      <td>0.648110</td>\n",
       "      <td>cluster7</td>\n",
       "    </tr>\n",
       "    <tr>\n",
       "      <th>3965</th>\n",
       "      <td>\"Torovirus infectious disease\"</td>\n",
       "      <td>-0.157800</td>\n",
       "      <td>0.632296</td>\n",
       "      <td>cluster7</td>\n",
       "    </tr>\n",
       "    <tr>\n",
       "      <th>4305</th>\n",
       "      <td>\"Brucella suis brucellosis\"</td>\n",
       "      <td>-0.190851</td>\n",
       "      <td>0.603151</td>\n",
       "      <td>cluster7</td>\n",
       "    </tr>\n",
       "    <tr>\n",
       "      <th>4375</th>\n",
       "      <td>\"Flaviviridae infectious disease\"</td>\n",
       "      <td>-0.193031</td>\n",
       "      <td>0.630149</td>\n",
       "      <td>cluster7</td>\n",
       "    </tr>\n",
       "    <tr>\n",
       "      <th>4455</th>\n",
       "      <td>\"opisthorchiasis\"</td>\n",
       "      <td>-0.188082</td>\n",
       "      <td>0.605824</td>\n",
       "      <td>cluster7</td>\n",
       "    </tr>\n",
       "    <tr>\n",
       "      <th>4484</th>\n",
       "      <td>\"cytophagaceae infection\"</td>\n",
       "      <td>-0.180249</td>\n",
       "      <td>0.590430</td>\n",
       "      <td>cluster7</td>\n",
       "    </tr>\n",
       "    <tr>\n",
       "      <th>4764</th>\n",
       "      <td>\"Tuberculosis of the adrenal glands\"</td>\n",
       "      <td>-0.176702</td>\n",
       "      <td>0.569542</td>\n",
       "      <td>cluster7</td>\n",
       "    </tr>\n",
       "    <tr>\n",
       "      <th>4854</th>\n",
       "      <td>\"hypodermyasis\"</td>\n",
       "      <td>-0.177744</td>\n",
       "      <td>0.572909</td>\n",
       "      <td>cluster7</td>\n",
       "    </tr>\n",
       "    <tr>\n",
       "      <th>4980</th>\n",
       "      <td>\"Alkhurma hemorrhagic fever\"</td>\n",
       "      <td>-0.214646</td>\n",
       "      <td>0.604457</td>\n",
       "      <td>cluster7</td>\n",
       "    </tr>\n",
       "    <tr>\n",
       "      <th>5008</th>\n",
       "      <td>\"dioctophymiasis\"</td>\n",
       "      <td>-0.227707</td>\n",
       "      <td>0.627228</td>\n",
       "      <td>cluster7</td>\n",
       "    </tr>\n",
       "    <tr>\n",
       "      <th>5028</th>\n",
       "      <td>\"algaemia\"</td>\n",
       "      <td>-0.186074</td>\n",
       "      <td>0.617098</td>\n",
       "      <td>cluster7</td>\n",
       "    </tr>\n",
       "    <tr>\n",
       "      <th>5206</th>\n",
       "      <td>\"Ciliophora infectious disease\"</td>\n",
       "      <td>-0.200941</td>\n",
       "      <td>0.632709</td>\n",
       "      <td>cluster7</td>\n",
       "    </tr>\n",
       "    <tr>\n",
       "      <th>5225</th>\n",
       "      <td>\"Mycoplasmatales infectious disease\"</td>\n",
       "      <td>-0.176775</td>\n",
       "      <td>0.591658</td>\n",
       "      <td>cluster7</td>\n",
       "    </tr>\n",
       "    <tr>\n",
       "      <th>5236</th>\n",
       "      <td>\"Phormiosis\"</td>\n",
       "      <td>-0.181767</td>\n",
       "      <td>0.606711</td>\n",
       "      <td>cluster7</td>\n",
       "    </tr>\n",
       "    <tr>\n",
       "      <th>5241</th>\n",
       "      <td>\"Kunjin encephalitis\"</td>\n",
       "      <td>-0.164275</td>\n",
       "      <td>0.625882</td>\n",
       "      <td>cluster7</td>\n",
       "    </tr>\n",
       "    <tr>\n",
       "      <th>5258</th>\n",
       "      <td>\"necatoriasis\"</td>\n",
       "      <td>-0.178110</td>\n",
       "      <td>0.628897</td>\n",
       "      <td>cluster7</td>\n",
       "    </tr>\n",
       "    <tr>\n",
       "      <th>5437</th>\n",
       "      <td>\"gedoelstiosis\"</td>\n",
       "      <td>-0.143877</td>\n",
       "      <td>0.579856</td>\n",
       "      <td>cluster7</td>\n",
       "    </tr>\n",
       "    <tr>\n",
       "      <th>5480</th>\n",
       "      <td>\"Chrysomya myiasis\"</td>\n",
       "      <td>-0.189926</td>\n",
       "      <td>0.623266</td>\n",
       "      <td>cluster7</td>\n",
       "    </tr>\n",
       "    <tr>\n",
       "      <th>5722</th>\n",
       "      <td>\"blastocystosis\"</td>\n",
       "      <td>-0.155460</td>\n",
       "      <td>0.612101</td>\n",
       "      <td>cluster7</td>\n",
       "    </tr>\n",
       "    <tr>\n",
       "      <th>5810</th>\n",
       "      <td>\"toxascariasis\"</td>\n",
       "      <td>-0.189702</td>\n",
       "      <td>0.603201</td>\n",
       "      <td>cluster7</td>\n",
       "    </tr>\n",
       "    <tr>\n",
       "      <th>5989</th>\n",
       "      <td>\"Nipah virus encephalitis\"</td>\n",
       "      <td>-0.164092</td>\n",
       "      <td>0.614808</td>\n",
       "      <td>cluster7</td>\n",
       "    </tr>\n",
       "    <tr>\n",
       "      <th>6010</th>\n",
       "      <td>\"Dipylidium caninum infectious disease\"</td>\n",
       "      <td>-0.155536</td>\n",
       "      <td>0.594757</td>\n",
       "      <td>cluster7</td>\n",
       "    </tr>\n",
       "    <tr>\n",
       "      <th>6027</th>\n",
       "      <td>\"(-)ssRNA virus infectious disease\"</td>\n",
       "      <td>-0.177704</td>\n",
       "      <td>0.589500</td>\n",
       "      <td>cluster7</td>\n",
       "    </tr>\n",
       "  </tbody>\n",
       "</table>\n",
       "</div>"
      ],
      "text/plain": [
       "                                               diseases  embedding1  \\\n",
       "12                                        \"arizonosis\"    -0.144345   \n",
       "178                                 \"baylisascariasis\"    -0.167976   \n",
       "225                                 \"mesocestoidiasis\"    -0.198233   \n",
       "661                 \"Acinetobacter infectious disease\"    -0.177107   \n",
       "862    \"human immunodeficiency virus infectious dise...   -0.167608   \n",
       "1231             \"Polyomavirus-associated Nephropathy\"    -0.144526   \n",
       "1232                                    \"black piedra\"    -0.178518   \n",
       "1280                                   \"cysticercosis\"    -0.183762   \n",
       "1323                                   \"spiruridiasis\"    -0.184757   \n",
       "1426                                     \"Monieziosis\"    -0.193924   \n",
       "1542                              \"papular stomatitis\"    -0.181218   \n",
       "1549                  \"gonococcal infectious diseases\"    -0.189667   \n",
       "1747                    \"hantavirus hemorrhagic fever\"    -0.169379   \n",
       "1778                                \"Skrljevo disease\"    -0.192205   \n",
       "1873             \"Whitewater Arroyo hemorrhagic fever\"    -0.185792   \n",
       "1997                        \"Balkan hemorrhagic fever\"    -0.179127   \n",
       "2087           \"Pseudamphistomum truncatum  infection\"    -0.165737   \n",
       "2222                   \"Poxviridae infectious disease\"    -0.188790   \n",
       "2307                                \"Creeping myiasis\"    -0.162088   \n",
       "2779                                        \"herpes B\"    -0.159872   \n",
       "2820                             \"Chlamydia pneumonia\"    -0.173294   \n",
       "2862                           \"echovirus 9 infection\"    -0.168355   \n",
       "2928                               \"philophthalmiasis\"    -0.154801   \n",
       "2965                     \"Eastern equine encephalitis\"    -0.176438   \n",
       "3038                                   \"legionellosis\"    -0.169743   \n",
       "3176                          \"lujo hemorrhagic fever\"    -0.174560   \n",
       "3258                                \"microsporidiosis\"    -0.204197   \n",
       "3323               \"(+)ssRNA virus infectious disease\"    -0.175784   \n",
       "3334                                    \"mucormycosis\"    -0.183584   \n",
       "3447                 \"Pneumocystis infectious disease\"    -0.178934   \n",
       "3544                              \"acanthocephaliasis\"    -0.159759   \n",
       "3599                          \"Helicobacter infection\"    -0.131909   \n",
       "3654   \"enterohaemorrhagic Escherichia coli infection\"    -0.199450   \n",
       "3731      \"parasitic Ichthyosporea infectious disease\"    -0.147365   \n",
       "3932                        \"enzootic bovine leukosis\"    -0.146372   \n",
       "3965                    \"Torovirus infectious disease\"    -0.157800   \n",
       "4305                       \"Brucella suis brucellosis\"    -0.190851   \n",
       "4375                 \"Flaviviridae infectious disease\"    -0.193031   \n",
       "4455                                 \"opisthorchiasis\"    -0.188082   \n",
       "4484                         \"cytophagaceae infection\"    -0.180249   \n",
       "4764              \"Tuberculosis of the adrenal glands\"    -0.176702   \n",
       "4854                                   \"hypodermyasis\"    -0.177744   \n",
       "4980                      \"Alkhurma hemorrhagic fever\"    -0.214646   \n",
       "5008                                 \"dioctophymiasis\"    -0.227707   \n",
       "5028                                        \"algaemia\"    -0.186074   \n",
       "5206                   \"Ciliophora infectious disease\"    -0.200941   \n",
       "5225              \"Mycoplasmatales infectious disease\"    -0.176775   \n",
       "5236                                      \"Phormiosis\"    -0.181767   \n",
       "5241                             \"Kunjin encephalitis\"    -0.164275   \n",
       "5258                                    \"necatoriasis\"    -0.178110   \n",
       "5437                                   \"gedoelstiosis\"    -0.143877   \n",
       "5480                               \"Chrysomya myiasis\"    -0.189926   \n",
       "5722                                  \"blastocystosis\"    -0.155460   \n",
       "5810                                   \"toxascariasis\"    -0.189702   \n",
       "5989                        \"Nipah virus encephalitis\"    -0.164092   \n",
       "6010           \"Dipylidium caninum infectious disease\"    -0.155536   \n",
       "6027               \"(-)ssRNA virus infectious disease\"    -0.177704   \n",
       "\n",
       "      embedding2   cluster  \n",
       "12      0.608246  cluster7  \n",
       "178     0.580644  cluster7  \n",
       "225     0.648878  cluster7  \n",
       "661     0.622956  cluster7  \n",
       "862     0.632806  cluster7  \n",
       "1231    0.594836  cluster7  \n",
       "1232    0.616393  cluster7  \n",
       "1280    0.639975  cluster7  \n",
       "1323    0.604131  cluster7  \n",
       "1426    0.601437  cluster7  \n",
       "1542    0.568728  cluster7  \n",
       "1549    0.569425  cluster7  \n",
       "1747    0.595946  cluster7  \n",
       "1778    0.599037  cluster7  \n",
       "1873    0.597635  cluster7  \n",
       "1997    0.626803  cluster7  \n",
       "2087    0.613743  cluster7  \n",
       "2222    0.589977  cluster7  \n",
       "2307    0.576653  cluster7  \n",
       "2779    0.613456  cluster7  \n",
       "2820    0.599852  cluster7  \n",
       "2862    0.617316  cluster7  \n",
       "2928    0.595550  cluster7  \n",
       "2965    0.625359  cluster7  \n",
       "3038    0.621971  cluster7  \n",
       "3176    0.575412  cluster7  \n",
       "3258    0.570969  cluster7  \n",
       "3323    0.600784  cluster7  \n",
       "3334    0.633101  cluster7  \n",
       "3447    0.596838  cluster7  \n",
       "3544    0.566874  cluster7  \n",
       "3599    0.561624  cluster7  \n",
       "3654    0.601714  cluster7  \n",
       "3731    0.553890  cluster7  \n",
       "3932    0.648110  cluster7  \n",
       "3965    0.632296  cluster7  \n",
       "4305    0.603151  cluster7  \n",
       "4375    0.630149  cluster7  \n",
       "4455    0.605824  cluster7  \n",
       "4484    0.590430  cluster7  \n",
       "4764    0.569542  cluster7  \n",
       "4854    0.572909  cluster7  \n",
       "4980    0.604457  cluster7  \n",
       "5008    0.627228  cluster7  \n",
       "5028    0.617098  cluster7  \n",
       "5206    0.632709  cluster7  \n",
       "5225    0.591658  cluster7  \n",
       "5236    0.606711  cluster7  \n",
       "5241    0.625882  cluster7  \n",
       "5258    0.628897  cluster7  \n",
       "5437    0.579856  cluster7  \n",
       "5480    0.623266  cluster7  \n",
       "5722    0.612101  cluster7  \n",
       "5810    0.603201  cluster7  \n",
       "5989    0.614808  cluster7  \n",
       "6010    0.594757  cluster7  \n",
       "6027    0.589500  cluster7  "
      ]
     },
     "execution_count": 205,
     "metadata": {},
     "output_type": "execute_result"
    }
   ],
   "source": [
    "plot_df[plot_df['cluster']=='cluster7']"
   ]
  },
  {
   "cell_type": "code",
   "execution_count": 191,
   "metadata": {},
   "outputs": [
    {
     "data": {
      "text/html": [
       "<div>\n",
       "<style scoped>\n",
       "    .dataframe tbody tr th:only-of-type {\n",
       "        vertical-align: middle;\n",
       "    }\n",
       "\n",
       "    .dataframe tbody tr th {\n",
       "        vertical-align: top;\n",
       "    }\n",
       "\n",
       "    .dataframe thead th {\n",
       "        text-align: right;\n",
       "    }\n",
       "</style>\n",
       "<table border=\"1\" class=\"dataframe\">\n",
       "  <thead>\n",
       "    <tr style=\"text-align: right;\">\n",
       "      <th></th>\n",
       "      <th>diseases</th>\n",
       "      <th>embedding1</th>\n",
       "      <th>embedding2</th>\n",
       "      <th>cluster</th>\n",
       "    </tr>\n",
       "  </thead>\n",
       "  <tbody>\n",
       "  </tbody>\n",
       "</table>\n",
       "</div>"
      ],
      "text/plain": [
       "Empty DataFrame\n",
       "Columns: [diseases, embedding1, embedding2, cluster]\n",
       "Index: []"
      ]
     },
     "execution_count": 191,
     "metadata": {},
     "output_type": "execute_result"
    }
   ],
   "source": [
    "plot_df[plot_df['cluster']=='cluster-2']"
   ]
  },
  {
   "cell_type": "code",
   "execution_count": null,
   "metadata": {},
   "outputs": [],
   "source": []
  }
 ],
 "metadata": {
  "kernelspec": {
   "display_name": "Python 3",
   "language": "python",
   "name": "python3"
  },
  "language_info": {
   "codemirror_mode": {
    "name": "ipython",
    "version": 3
   },
   "file_extension": ".py",
   "mimetype": "text/x-python",
   "name": "python",
   "nbconvert_exporter": "python",
   "pygments_lexer": "ipython3",
   "version": "3.7.4"
  }
 },
 "nbformat": 4,
 "nbformat_minor": 4
}
